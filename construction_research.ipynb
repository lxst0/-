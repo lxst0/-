{
 "cells": [
  {
   "cell_type": "code",
   "execution_count": 2,
   "id": "fc6e199b-9310-4fd6-9b80-732e69be27e5",
   "metadata": {},
   "outputs": [],
   "source": [
    "import pandas as pd\n",
    "import requests\n",
    "import time\n",
    "import numpy as np\n",
    "import matplotlib.pyplot as plt\n",
    "import plotly.express as px\n",
    "import time\n",
    "import warnings"
   ]
  },
  {
   "cell_type": "code",
   "execution_count": 3,
   "id": "e250bf2b-6f0f-41f2-80fd-3a88b2f57d31",
   "metadata": {},
   "outputs": [
    {
     "name": "stderr",
     "output_type": "stream",
     "text": [
      "/Library/Frameworks/Python.framework/Versions/3.11/lib/python3.11/site-packages/openpyxl/styles/stylesheet.py:226: UserWarning: Workbook contains no default style, apply openpyxl's default\n",
      "  warn(\"Workbook contains no default style, apply openpyxl's default\")\n"
     ]
    },
    {
     "name": "stdout",
     "output_type": "stream",
     "text": [
      "data recorded, time elapsed: 435.6204662322998\n"
     ]
    }
   ],
   "source": [
    "start = time.time()\n",
    "data = pd.read_excel('data.xlsx',skiprows=2)\n",
    "end = time.time()\n",
    "print(f'data recorded, time elapsed: {end-start}')"
   ]
  },
  {
   "cell_type": "code",
   "execution_count": 4,
   "id": "1868a4c6-957a-4818-b77a-794f04b40143",
   "metadata": {},
   "outputs": [],
   "source": [
    "data = data[(data['Тип субъекта'] == 'Юридическое лицо') & (data['Категория'].isin(['Малое предприятие', 'Среднее предприятие']))]\n",
    "data = data[data['Основной вид деятельности'] == '41.20 Строительство жилых и нежилых зданий']\n",
    "data = data.reset_index()\n",
    "del data['index']"
   ]
  },
  {
   "cell_type": "code",
   "execution_count": 5,
   "id": "b7e6b0af-ca23-4218-983a-393ef7a70c2e",
   "metadata": {},
   "outputs": [
    {
     "data": {
      "text/html": [
       "<div>\n",
       "<style scoped>\n",
       "    .dataframe tbody tr th:only-of-type {\n",
       "        vertical-align: middle;\n",
       "    }\n",
       "\n",
       "    .dataframe tbody tr th {\n",
       "        vertical-align: top;\n",
       "    }\n",
       "\n",
       "    .dataframe thead th {\n",
       "        text-align: right;\n",
       "    }\n",
       "</style>\n",
       "<table border=\"1\" class=\"dataframe\">\n",
       "  <thead>\n",
       "    <tr style=\"text-align: right;\">\n",
       "      <th></th>\n",
       "      <th>№ п/п</th>\n",
       "      <th>Наименование / ФИО</th>\n",
       "      <th>Тип субъекта</th>\n",
       "      <th>Категория</th>\n",
       "      <th>ОГРН</th>\n",
       "      <th>ИНН</th>\n",
       "      <th>Основной вид деятельности</th>\n",
       "      <th>Регион</th>\n",
       "      <th>Район</th>\n",
       "      <th>Город</th>\n",
       "      <th>...</th>\n",
       "      <th>Дата исключения из реестра</th>\n",
       "      <th>Телефон</th>\n",
       "      <th>E-mail</th>\n",
       "      <th>WWW</th>\n",
       "      <th>Наличие лицензий</th>\n",
       "      <th>Наличие заключенных договоров, контрактов</th>\n",
       "      <th>Производство инновационной, высокотехнологичной продукции</th>\n",
       "      <th>Участие в программах партнерства</th>\n",
       "      <th>Является социальным предприятием</th>\n",
       "      <th>Среднесписочная численность работников за предшествующий календарный год</th>\n",
       "    </tr>\n",
       "  </thead>\n",
       "  <tbody>\n",
       "    <tr>\n",
       "      <th>0</th>\n",
       "      <td>20</td>\n",
       "      <td>\"КОРПОРАЦИЯ ВИТ\" (ОБЩЕСТВО С ОГРАНИЧЕННОЙ ОТВЕ...</td>\n",
       "      <td>Юридическое лицо</td>\n",
       "      <td>Малое предприятие</td>\n",
       "      <td>1025004907080</td>\n",
       "      <td>5038038838</td>\n",
       "      <td>41.20 Строительство жилых и нежилых зданий</td>\n",
       "      <td>50 - Московская область</td>\n",
       "      <td>Пушкино г</td>\n",
       "      <td>NaN</td>\n",
       "      <td>...</td>\n",
       "      <td>NaN</td>\n",
       "      <td>NaN</td>\n",
       "      <td>NaN</td>\n",
       "      <td>NaN</td>\n",
       "      <td>Нет</td>\n",
       "      <td>Нет</td>\n",
       "      <td>Нет</td>\n",
       "      <td>Нет</td>\n",
       "      <td>Нет</td>\n",
       "      <td>36.0</td>\n",
       "    </tr>\n",
       "    <tr>\n",
       "      <th>1</th>\n",
       "      <td>52</td>\n",
       "      <td>\"ХОЗРАСЧЕТНАЯ СТРОИТЕЛЬНО-ТЕХНОЛОГИЧЕСКАЯ ФИРМ...</td>\n",
       "      <td>Юридическое лицо</td>\n",
       "      <td>Среднее предприятие</td>\n",
       "      <td>1025007270551</td>\n",
       "      <td>5027006369</td>\n",
       "      <td>41.20 Строительство жилых и нежилых зданий</td>\n",
       "      <td>50 - Московская область</td>\n",
       "      <td>NaN</td>\n",
       "      <td>г Дзержинский</td>\n",
       "      <td>...</td>\n",
       "      <td>NaN</td>\n",
       "      <td>NaN</td>\n",
       "      <td>NaN</td>\n",
       "      <td>NaN</td>\n",
       "      <td>Да</td>\n",
       "      <td>Нет</td>\n",
       "      <td>Нет</td>\n",
       "      <td>Нет</td>\n",
       "      <td>Нет</td>\n",
       "      <td>201.0</td>\n",
       "    </tr>\n",
       "    <tr>\n",
       "      <th>2</th>\n",
       "      <td>4653</td>\n",
       "      <td>АКЦИОНЕРНОЕ ОБЩЕСТВО \"777\"</td>\n",
       "      <td>Юридическое лицо</td>\n",
       "      <td>Малое предприятие</td>\n",
       "      <td>1021400692048</td>\n",
       "      <td>1414006922</td>\n",
       "      <td>41.20 Строительство жилых и нежилых зданий</td>\n",
       "      <td>77 - г.Москва</td>\n",
       "      <td>NaN</td>\n",
       "      <td>NaN</td>\n",
       "      <td>...</td>\n",
       "      <td>NaN</td>\n",
       "      <td>NaN</td>\n",
       "      <td>NaN</td>\n",
       "      <td>NaN</td>\n",
       "      <td>Да</td>\n",
       "      <td>Нет</td>\n",
       "      <td>Нет</td>\n",
       "      <td>Нет</td>\n",
       "      <td>Нет</td>\n",
       "      <td>35.0</td>\n",
       "    </tr>\n",
       "  </tbody>\n",
       "</table>\n",
       "<p>3 rows × 23 columns</p>\n",
       "</div>"
      ],
      "text/plain": [
       "   № п/п                                 Наименование / ФИО      Тип субъекта  \\\n",
       "0     20  \"КОРПОРАЦИЯ ВИТ\" (ОБЩЕСТВО С ОГРАНИЧЕННОЙ ОТВЕ...  Юридическое лицо   \n",
       "1     52  \"ХОЗРАСЧЕТНАЯ СТРОИТЕЛЬНО-ТЕХНОЛОГИЧЕСКАЯ ФИРМ...  Юридическое лицо   \n",
       "2   4653                         АКЦИОНЕРНОЕ ОБЩЕСТВО \"777\"  Юридическое лицо   \n",
       "\n",
       "             Категория           ОГРН         ИНН  \\\n",
       "0    Малое предприятие  1025004907080  5038038838   \n",
       "1  Среднее предприятие  1025007270551  5027006369   \n",
       "2    Малое предприятие  1021400692048  1414006922   \n",
       "\n",
       "                    Основной вид деятельности                   Регион  \\\n",
       "0  41.20 Строительство жилых и нежилых зданий  50 - Московская область   \n",
       "1  41.20 Строительство жилых и нежилых зданий  50 - Московская область   \n",
       "2  41.20 Строительство жилых и нежилых зданий            77 - г.Москва   \n",
       "\n",
       "       Район          Город  ... Дата исключения из реестра Телефон E-mail  \\\n",
       "0  Пушкино г            NaN  ...                        NaN     NaN    NaN   \n",
       "1        NaN  г Дзержинский  ...                        NaN     NaN    NaN   \n",
       "2        NaN            NaN  ...                        NaN     NaN    NaN   \n",
       "\n",
       "   WWW Наличие лицензий Наличие заключенных договоров, контрактов  \\\n",
       "0  NaN              Нет                                       Нет   \n",
       "1  NaN               Да                                       Нет   \n",
       "2  NaN               Да                                       Нет   \n",
       "\n",
       "  Производство инновационной, высокотехнологичной продукции  \\\n",
       "0                                                Нет          \n",
       "1                                                Нет          \n",
       "2                                                Нет          \n",
       "\n",
       "  Участие в программах партнерства Является социальным предприятием  \\\n",
       "0                              Нет                              Нет   \n",
       "1                              Нет                              Нет   \n",
       "2                              Нет                              Нет   \n",
       "\n",
       "  Среднесписочная численность работников за предшествующий календарный год  \n",
       "0                                               36.0                        \n",
       "1                                              201.0                        \n",
       "2                                               35.0                        \n",
       "\n",
       "[3 rows x 23 columns]"
      ]
     },
     "execution_count": 5,
     "metadata": {},
     "output_type": "execute_result"
    }
   ],
   "source": [
    "data.head(3)"
   ]
  },
  {
   "cell_type": "markdown",
   "id": "bf9732f5",
   "metadata": {},
   "source": [
    "EBITDA = прибыль до налогообложения + расходы по процентам + расходы на амортизацию основных средств и нематериальных активов. Посчитаем данный показатель."
   ]
  },
  {
   "cell_type": "code",
   "execution_count": 6,
   "id": "6248a582-157c-4e0f-bb4a-c9df4f0df0e0",
   "metadata": {},
   "outputs": [],
   "source": [
    "ebtd = pd.DataFrame(\n",
    "    columns=['ИНН','2023', '2022','2021','2020','2019']\n",
    ")\n",
    "net_income = pd.DataFrame(\n",
    "    columns=['ИНН','2023', '2022','2021','2020','2019']\n",
    ")\n",
    "rev = pd.DataFrame(columns = ['ИНН','revenue for 2023'])"
   ]
  },
  {
   "cell_type": "markdown",
   "id": "6543eaa2",
   "metadata": {},
   "source": [
    "Спарсим данные с сайта налоговой:"
   ]
  },
  {
   "cell_type": "code",
   "execution_count": 10,
   "id": "ed68833b-068c-4579-8cea-d3e594e2bf40",
   "metadata": {},
   "outputs": [
    {
     "name": "stdout",
     "output_type": "stream",
     "text": [
      "current company index 0, time elapsed in mins: 0.0\n",
      "current company index 500, time elapsed in mins: 0.87\n",
      "current company index 1000, time elapsed in mins: 1.75\n",
      "current company index 1500, time elapsed in mins: 2.63\n",
      "current company index 2000, time elapsed in mins: 3.52\n",
      "current company index 2500, time elapsed in mins: 4.37\n",
      "current company index 3000, time elapsed in mins: 5.24\n",
      "current company index 3500, time elapsed in mins: 6.15\n",
      "current company index 4000, time elapsed in mins: 7.03\n",
      "current company index 4500, time elapsed in mins: 7.99\n",
      "current company index 5000, time elapsed in mins: 8.89\n",
      "current company index 5500, time elapsed in mins: 9.87\n",
      "current company index 6000, time elapsed in mins: 10.8\n",
      "current company index 6500, time elapsed in mins: 11.71\n",
      "current company index 7000, time elapsed in mins: 12.65\n",
      "current company index 7500, time elapsed in mins: 13.61\n",
      "current company index 8000, time elapsed in mins: 14.58\n",
      "current company index 8500, time elapsed in mins: 15.57\n"
     ]
    }
   ],
   "source": [
    "headers = {\n",
    "    'Accept-Language': 'ru-RU,ru;q=0.9,en-US;q=0.8,en;q=0.7',\n",
    "    'Connection': 'keep-alive',\n",
    "    'User-Agent': 'Mozilla/5.0 (Macintosh; Intel Mac OS X 10_15_7) AppleWebKit/537.36 (KHTML, like Gecko) Chrome/127.0.0.0 Safari/537.36', \n",
    "}\n",
    "\n",
    "ebitda_data = {\n",
    "    'ИНН' : None,\n",
    "    '2023': None,\n",
    "    '2022': None,\n",
    "    '2021': None,\n",
    "    '2020': None,\n",
    "    '2019': None\n",
    "}\n",
    "net_income_data = {\n",
    "    'ИНН' : None,\n",
    "    '2023': None,\n",
    "    '2022': None,\n",
    "    '2021': None,\n",
    "    '2020': None,\n",
    "    '2019': None\n",
    "}\n",
    "rev_data = {\n",
    "    'ИНН' : None,\n",
    "    'revenue for 2023': None\n",
    "}\n",
    "session = requests.Session()\n",
    "count = 0\n",
    "time_start = time.time()\n",
    "for inn in data['ИНН']:\n",
    "    ebitda_data['ИНН'] = inn\n",
    "    net_income_data['ИНН'] = inn\n",
    "    rev_data['ИНН'] = inn\n",
    "    if count % 500 == 0:\n",
    "        time_prom = time.time()\n",
    "        print(f'current company index {count}, time elapsed in mins: {round((time_prom-time_start)/60,2)}')\n",
    "    #вытаскиваем id по инн компании\n",
    "    if inn == 7825012056 or inn == 9701016076:\n",
    "        with warnings.catch_warnings():\n",
    "            warnings.simplefilter(\"ignore\", FutureWarning)  # сайт вообще виснет при поиске данных компании ( проверил вручную)\n",
    "            ebtd.loc[count] = {'ИНН' : inn,'2023':None,'2022':None,'2021':None,'2020':None,'2019':None}\n",
    "            net_income.loc[count] = {'ИНН' : inn,'2023':None,'2022':None,'2021':None,'2020':None,'2019':None}\n",
    "            rev.loc[count] = {'ИНН': inn, 'revenue for 2023': None} \n",
    "        continue\n",
    "    \n",
    "    url = f\"https://bo.nalog.ru/advanced-search/organizations/search?query={inn}&page=0\"\n",
    "\n",
    "    response = session.get(url, headers=headers)\n",
    "    if len(response.json()['content']) != 0:\n",
    "        id = response.json()['content'][0]['id']\n",
    "        #по id ищем отчетность\n",
    "        url1 = f'https://bo.nalog.ru/nbo/organizations/{id}/bfo/' \n",
    "        res = session.get(url1, headers=headers).json()\n",
    "        # получили отчетность, итерируемся по годам и считаем EBITDA\n",
    "        for i in range(len(res)):\n",
    "            year = res[i]['period']\n",
    "            if 'financialResult' in res[i]['correction'].keys():\n",
    "                finrez = res[i]['correction']['financialResult']\n",
    "                if 'current2300' in finrez.keys() and 'current2330' in finrez.keys():\n",
    "                    ebitda = finrez['current2300'] + finrez['current2330'] #прибыль до налогов + проценты  \n",
    "                    ebitda_data[year] = ebitda\n",
    "                if (year == '2023') and ('current2110' in finrez.keys()):\n",
    "                    rev_data['revenue for 2023'] = finrez['current2110']\n",
    "                if 'current2400' in finrez.keys():\n",
    "                    net_income_data[year] = finrez['current2400']\n",
    "            \n",
    "    with warnings.catch_warnings():\n",
    "        warnings.simplefilter(\"ignore\", FutureWarning)\n",
    "        ebtd.loc[count] = ebitda_data\n",
    "        net_income.loc[count] = net_income_data\n",
    "        rev.loc[count] = rev_data\n",
    "\n",
    "    ebitda_data = {\n",
    "    'ИНН' : None,\n",
    "    '2023': None,\n",
    "    '2022': None,\n",
    "    '2021': None,\n",
    "    '2020': None,\n",
    "    '2019': None\n",
    "    }\n",
    "    net_income_data = {\n",
    "    'ИНН' : None,\n",
    "    '2023': None,\n",
    "    '2022': None,\n",
    "    '2021': None,\n",
    "    '2020': None,\n",
    "    '2019': None\n",
    "}\n",
    "    rev_data = {\n",
    "    'ИНН' : None,\n",
    "    'revenue for 2023': None\n",
    "}\n",
    "    count += 1"
   ]
  },
  {
   "cell_type": "code",
   "execution_count": 68,
   "id": "ccd019e7",
   "metadata": {},
   "outputs": [
    {
     "data": {
      "text/html": [
       "<div>\n",
       "<style scoped>\n",
       "    .dataframe tbody tr th:only-of-type {\n",
       "        vertical-align: middle;\n",
       "    }\n",
       "\n",
       "    .dataframe tbody tr th {\n",
       "        vertical-align: top;\n",
       "    }\n",
       "\n",
       "    .dataframe thead th {\n",
       "        text-align: right;\n",
       "    }\n",
       "</style>\n",
       "<table border=\"1\" class=\"dataframe\">\n",
       "  <thead>\n",
       "    <tr style=\"text-align: right;\">\n",
       "      <th></th>\n",
       "      <th>ИНН</th>\n",
       "      <th>2023</th>\n",
       "      <th>2022</th>\n",
       "      <th>2021</th>\n",
       "      <th>2020</th>\n",
       "      <th>2019</th>\n",
       "    </tr>\n",
       "  </thead>\n",
       "  <tbody>\n",
       "  </tbody>\n",
       "</table>\n",
       "</div>"
      ],
      "text/plain": [
       "Empty DataFrame\n",
       "Columns: [ИНН, 2023, 2022, 2021, 2020, 2019]\n",
       "Index: []"
      ]
     },
     "execution_count": 68,
     "metadata": {},
     "output_type": "execute_result"
    }
   ],
   "source": [
    "net_income"
   ]
  },
  {
   "cell_type": "code",
   "execution_count": 54,
   "id": "88ec0ec7-e2ab-4b51-b895-3c3d9f4c2c6a",
   "metadata": {},
   "outputs": [],
   "source": [
    "nice_data = pd.merge(data, ebtd, on=['ИНН'])\n",
    "nice_data = nice_data.replace([np.nan],['unknown'])"
   ]
  },
  {
   "cell_type": "code",
   "execution_count": 55,
   "id": "38dca61a-339f-411b-b43d-3eb18f2b4d34",
   "metadata": {},
   "outputs": [
    {
     "data": {
      "text/html": [
       "<div>\n",
       "<style scoped>\n",
       "    .dataframe tbody tr th:only-of-type {\n",
       "        vertical-align: middle;\n",
       "    }\n",
       "\n",
       "    .dataframe tbody tr th {\n",
       "        vertical-align: top;\n",
       "    }\n",
       "\n",
       "    .dataframe thead th {\n",
       "        text-align: right;\n",
       "    }\n",
       "</style>\n",
       "<table border=\"1\" class=\"dataframe\">\n",
       "  <thead>\n",
       "    <tr style=\"text-align: right;\">\n",
       "      <th></th>\n",
       "      <th>№ п/п</th>\n",
       "      <th>Наименование / ФИО</th>\n",
       "      <th>Тип субъекта</th>\n",
       "      <th>Категория</th>\n",
       "      <th>ОГРН</th>\n",
       "      <th>ИНН</th>\n",
       "      <th>Основной вид деятельности</th>\n",
       "      <th>Регион</th>\n",
       "      <th>Район</th>\n",
       "      <th>Город</th>\n",
       "      <th>...</th>\n",
       "      <th>Наличие заключенных договоров, контрактов</th>\n",
       "      <th>Производство инновационной, высокотехнологичной продукции</th>\n",
       "      <th>Участие в программах партнерства</th>\n",
       "      <th>Является социальным предприятием</th>\n",
       "      <th>Среднесписочная численность работников за предшествующий календарный год</th>\n",
       "      <th>2023</th>\n",
       "      <th>2022</th>\n",
       "      <th>2021</th>\n",
       "      <th>2020</th>\n",
       "      <th>2019</th>\n",
       "    </tr>\n",
       "  </thead>\n",
       "  <tbody>\n",
       "    <tr>\n",
       "      <th>0</th>\n",
       "      <td>20</td>\n",
       "      <td>\"КОРПОРАЦИЯ ВИТ\" (ОБЩЕСТВО С ОГРАНИЧЕННОЙ ОТВЕ...</td>\n",
       "      <td>Юридическое лицо</td>\n",
       "      <td>Малое предприятие</td>\n",
       "      <td>1025004907080</td>\n",
       "      <td>5038038838</td>\n",
       "      <td>41.20 Строительство жилых и нежилых зданий</td>\n",
       "      <td>50 - Московская область</td>\n",
       "      <td>Пушкино г</td>\n",
       "      <td>unknown</td>\n",
       "      <td>...</td>\n",
       "      <td>Нет</td>\n",
       "      <td>Нет</td>\n",
       "      <td>Нет</td>\n",
       "      <td>Нет</td>\n",
       "      <td>36.0</td>\n",
       "      <td>-17331.0</td>\n",
       "      <td>20360.0</td>\n",
       "      <td>9031.0</td>\n",
       "      <td>14627.0</td>\n",
       "      <td>unknown</td>\n",
       "    </tr>\n",
       "    <tr>\n",
       "      <th>5</th>\n",
       "      <td>4677</td>\n",
       "      <td>АКЦИОНЕРНОЕ ОБЩЕСТВО \"АКЦИОНЕРНАЯ ПРОИЗВОДСТВЕ...</td>\n",
       "      <td>Юридическое лицо</td>\n",
       "      <td>Малое предприятие</td>\n",
       "      <td>1023500875870</td>\n",
       "      <td>3525048992</td>\n",
       "      <td>41.20 Строительство жилых и нежилых зданий</td>\n",
       "      <td>35 - Вологодская область</td>\n",
       "      <td>unknown</td>\n",
       "      <td>г Вологда</td>\n",
       "      <td>...</td>\n",
       "      <td>Нет</td>\n",
       "      <td>Нет</td>\n",
       "      <td>Нет</td>\n",
       "      <td>Нет</td>\n",
       "      <td>14.0</td>\n",
       "      <td>243530.0</td>\n",
       "      <td>14755.0</td>\n",
       "      <td>16672.0</td>\n",
       "      <td>-14866.0</td>\n",
       "      <td>unknown</td>\n",
       "    </tr>\n",
       "    <tr>\n",
       "      <th>7</th>\n",
       "      <td>4693</td>\n",
       "      <td>АКЦИОНЕРНОЕ ОБЩЕСТВО \"АМБЕР-СТРОЙСЕРВИС\"</td>\n",
       "      <td>Юридическое лицо</td>\n",
       "      <td>Малое предприятие</td>\n",
       "      <td>1025900534406</td>\n",
       "      <td>5902126804</td>\n",
       "      <td>41.20 Строительство жилых и нежилых зданий</td>\n",
       "      <td>59 - Пермский край</td>\n",
       "      <td>unknown</td>\n",
       "      <td>г Пермь</td>\n",
       "      <td>...</td>\n",
       "      <td>Нет</td>\n",
       "      <td>Нет</td>\n",
       "      <td>Нет</td>\n",
       "      <td>Нет</td>\n",
       "      <td>30.0</td>\n",
       "      <td>2132.0</td>\n",
       "      <td>5436.0</td>\n",
       "      <td>11054.0</td>\n",
       "      <td>-12937.0</td>\n",
       "      <td>unknown</td>\n",
       "    </tr>\n",
       "  </tbody>\n",
       "</table>\n",
       "<p>3 rows × 28 columns</p>\n",
       "</div>"
      ],
      "text/plain": [
       "   № п/п                                 Наименование / ФИО      Тип субъекта  \\\n",
       "0     20  \"КОРПОРАЦИЯ ВИТ\" (ОБЩЕСТВО С ОГРАНИЧЕННОЙ ОТВЕ...  Юридическое лицо   \n",
       "5   4677  АКЦИОНЕРНОЕ ОБЩЕСТВО \"АКЦИОНЕРНАЯ ПРОИЗВОДСТВЕ...  Юридическое лицо   \n",
       "7   4693           АКЦИОНЕРНОЕ ОБЩЕСТВО \"АМБЕР-СТРОЙСЕРВИС\"  Юридическое лицо   \n",
       "\n",
       "           Категория           ОГРН         ИНН  \\\n",
       "0  Малое предприятие  1025004907080  5038038838   \n",
       "5  Малое предприятие  1023500875870  3525048992   \n",
       "7  Малое предприятие  1025900534406  5902126804   \n",
       "\n",
       "                    Основной вид деятельности                    Регион  \\\n",
       "0  41.20 Строительство жилых и нежилых зданий   50 - Московская область   \n",
       "5  41.20 Строительство жилых и нежилых зданий  35 - Вологодская область   \n",
       "7  41.20 Строительство жилых и нежилых зданий        59 - Пермский край   \n",
       "\n",
       "       Район      Город  ... Наличие заключенных договоров, контрактов  \\\n",
       "0  Пушкино г    unknown  ...                                       Нет   \n",
       "5    unknown  г Вологда  ...                                       Нет   \n",
       "7    unknown    г Пермь  ...                                       Нет   \n",
       "\n",
       "  Производство инновационной, высокотехнологичной продукции  \\\n",
       "0                                                Нет          \n",
       "5                                                Нет          \n",
       "7                                                Нет          \n",
       "\n",
       "  Участие в программах партнерства Является социальным предприятием  \\\n",
       "0                              Нет                              Нет   \n",
       "5                              Нет                              Нет   \n",
       "7                              Нет                              Нет   \n",
       "\n",
       "  Среднесписочная численность работников за предшествующий календарный год  \\\n",
       "0                                               36.0                         \n",
       "5                                               14.0                         \n",
       "7                                               30.0                         \n",
       "\n",
       "       2023     2022     2021     2020     2019  \n",
       "0  -17331.0  20360.0   9031.0  14627.0  unknown  \n",
       "5  243530.0  14755.0  16672.0 -14866.0  unknown  \n",
       "7    2132.0   5436.0  11054.0 -12937.0  unknown  \n",
       "\n",
       "[3 rows x 28 columns]"
      ]
     },
     "execution_count": 55,
     "metadata": {},
     "output_type": "execute_result"
    }
   ],
   "source": [
    "nice_data = nice_data[(nice_data['2023']!='unknown')]\n",
    "nice_data = nice_data[(nice_data['2022']!='unknown')]\n",
    "nice_data = nice_data[(nice_data['2021']!='unknown')]\n",
    "nice_data = nice_data[(nice_data['2020']!='unknown')]\n",
    "nice_data.head(3)"
   ]
  },
  {
   "cell_type": "code",
   "execution_count": 58,
   "id": "bd144223-19fe-4962-b832-d627885563c9",
   "metadata": {},
   "outputs": [
    {
     "data": {
      "text/plain": [
       "Text(0.5, 1.0, 'EBITDA отрасли строительства в зависимости от года')"
      ]
     },
     "execution_count": 58,
     "metadata": {},
     "output_type": "execute_result"
    },
    {
     "data": {
      "image/png": "[encoded data removed]",
      "text/plain": [
       "<Figure size 640x480 with 1 Axes>"
      ]
     },
     "metadata": {},
     "output_type": "display_data"
    }
   ],
   "source": [
    "# посчитаем EBITDA всей отрасли по годам:\n",
    "ebitda_constr = []\n",
    "years = ['2020','2021','2022','2023']\n",
    "for year in years:\n",
    "    sum_ebd = nice_data[year].sum()\n",
    "    ebitda_constr.append(sum_ebd / 1000)\n",
    "plt.bar(years,ebitda_constr)\n",
    "\n",
    "plt.xlabel('Год')\n",
    "plt.ylabel('EBITDA, млн. Руб.')\n",
    "plt.title('EBITDA отрасли строительства в зависимости от года')\n"
   ]
  },
  {
   "cell_type": "markdown",
   "id": "38486c54-e1a1-4ca9-9583-b1a5c910dffc",
   "metadata": {},
   "source": [
    "Итого - отрасль строительсва, исходя из анализа суммарной EBITDA компаний по годам, перспективна, так как EBITDA отрасли растет последние несколько лет. Просадка в 21 году обусловлена последствиями пандемии, однако уже 22 году рынок восстановился и рост продолжился."
   ]
  },
  {
   "cell_type": "markdown",
   "id": "6b970260-c8c3-4fc1-9001-a7120416d097",
   "metadata": {},
   "source": [
    "далее графики роста чистой прибыли"
   ]
  },
  {
   "cell_type": "code",
   "execution_count": 69,
   "id": "21c1916d-0780-4608-9ed3-42db3abb46ea",
   "metadata": {},
   "outputs": [],
   "source": [
    "net_income = net_income.replace([np.nan],['unknown'])\n",
    "net_income = net_income[(net_income['2023']!='unknown')&\n",
    "                            (net_income['2022']!='unknown')&\n",
    "                            (net_income['2021']!='unknown')&\n",
    "                            (net_income['2020']!='unknown')\n",
    "] "
   ]
  },
  {
   "cell_type": "markdown",
   "id": "a594a521-678c-4c9f-8c84-0e83c9b5c82e",
   "metadata": {},
   "source": [
    "Теперь посчитаем изменения чистой прибыли 23 года относительно предыдущих"
   ]
  },
  {
   "cell_type": "code",
   "execution_count": 60,
   "id": "af2d23f5",
   "metadata": {},
   "outputs": [],
   "source": [
    "net23 = net_income['2023'].to_list()\n",
    "net22 = net_income['2022'].to_list()\n",
    "net21 = net_income['2021'].to_list()\n",
    "net20 = net_income['2020'].to_list()\n",
    "net19 = net_income['2019'].to_list()\n",
    "\n",
    "def net_change(a=[],b=[]):\n",
    "    c = []\n",
    "    for i in range(len(a)):\n",
    "        if (a[i] > 0 and b[i] > 0) or (a[i] < 0 and b[i] > 0):\n",
    "            c.append(round((a[i] / b[i] -1)*100,0))\n",
    "        elif(a[i] > 0 and b[i] < 0) or (a[i] < 0 and b[i] < 0):\n",
    "            c.append(round((a[i] / abs(b[i]) + 1)*100,0))\n",
    "        elif a[i] == 0 and b[i] == 0:\n",
    "            c.append(0)\n",
    "        elif a[i] == 0 and b[i] != 0:\n",
    "            if b[i] > 0:\n",
    "                c.append(-100)\n",
    "            else:\n",
    "                c.append(100)\n",
    "        elif a[i] != 0 and b[i] == 0:\n",
    "            continue\n",
    "    return c"
   ]
  },
  {
   "cell_type": "code",
   "execution_count": 61,
   "id": "26e3ac15",
   "metadata": {},
   "outputs": [],
   "source": [
    "def func_to_get_coord(l = []):\n",
    "    dict = {}\n",
    "    for i in range(len(l)):\n",
    "        if l[i] in dict.keys():\n",
    "            dict[l[i]] += 1\n",
    "        else:\n",
    "            dict[l[i]] = 1\n",
    "    list = sorted(dict.items())\n",
    "    cord = [[],[]]\n",
    "    for i in range(len(list)):\n",
    "        cord[0].append(list[i][0])\n",
    "        cord[1].append(list[i][1])\n",
    "    return cord"
   ]
  },
  {
   "cell_type": "code",
   "execution_count": 62,
   "id": "6c8de0f1",
   "metadata": {},
   "outputs": [],
   "source": [
    "\n",
    "coords_N_1 = func_to_get_coord(net_change(net23,net22))\n",
    "coords_N_2 = func_to_get_coord(net_change(net23,net21))\n",
    "coords_N_3 = func_to_get_coord(net_change(net23,net20))\n",
    "coords_N_4 = func_to_get_coord(net_change(net23,net19))"
   ]
  },
  {
   "cell_type": "code",
   "execution_count": null,
   "id": "3b771375",
   "metadata": {},
   "outputs": [
    {
     "data": {
      "text/plain": [
       "Text(0.5, 1.0, 'Изменение прибыли компании в 23 году относительно 21 года - кол-во компаний с таким % \\n Данные в промежутке изменения -400%, 400%')"
      ]
     },
     "execution_count": 230,
     "metadata": {},
     "output_type": "execute_result"
    },
    {
     "data": {
      "image/png": "[encoded data removed]",
      "text/plain": [
       "<Figure size 640x480 with 1 Axes>"
      ]
     },
     "metadata": {},
     "output_type": "display_data"
    }
   ],
   "source": [
    "plt.scatter(coords_N_2[0],coords_N_2[1],alpha = 0.3)\n",
    "plt.xlim(-400,400) \n",
    "plt.ylim(0,62)\n",
    "plt.xlabel('Изменение прибыли компании в 23 году относительно 21 года, в %')\n",
    "plt.ylabel('Количество компаний')\n",
    "plt.title('Изменение прибыли компании в 23 году относительно 21 года - кол-во компаний с таким % \\n Данные в промежутке изменения -400%, 400%')"
   ]
  },
  {
   "cell_type": "code",
   "execution_count": null,
   "id": "1eaf1c18",
   "metadata": {},
   "outputs": [
    {
     "data": {
      "text/plain": [
       "Text(0.5, 1.0, 'Изменение прибыли компании в 23 году относительно 20 года - кол-во компаний с таким % \\n Данные в промежутке изменения -400%, 400%')"
      ]
     },
     "execution_count": 236,
     "metadata": {},
     "output_type": "execute_result"
    },
    {
     "data": {
      "image/png": "[encoded data removed]",
      "text/plain": [
       "<Figure size 640x480 with 1 Axes>"
      ]
     },
     "metadata": {},
     "output_type": "display_data"
    }
   ],
   "source": [
    "plt.scatter(coords_N_3[0],coords_N_3[1],alpha = 0.3)\n",
    "plt.xlim(-400,400) \n",
    "plt.ylim(0,62)\n",
    "plt.xlabel('Изменение прибыли компании в 23 году относительно 20 года, в %')\n",
    "plt.ylabel('Количество компаний')\n",
    "plt.title('Изменение прибыли компании в 23 году относительно 20 года - кол-во компаний с таким % \\n Данные в промежутке изменения -400%, 400%')"
   ]
  },
  {
   "cell_type": "code",
   "execution_count": null,
   "id": "2a3fdbf2",
   "metadata": {},
   "outputs": [
    {
     "data": {
      "text/plain": [
       "Text(0.5, 1.0, 'Изменение прибыли компании в 23 году относительно 20 года - кол-во компаний с таким % \\n Данные в промежутке изменения -400%, 400%')"
      ]
     },
     "execution_count": 234,
     "metadata": {},
     "output_type": "execute_result"
    },
    {
     "data": {
      "image/png": "[encoded data removed]",
      "text/plain": [
       "<Figure size 640x480 with 1 Axes>"
      ]
     },
     "metadata": {},
     "output_type": "display_data"
    }
   ],
   "source": [
    "plt.scatter(coords_N_4[0],coords_N_4[1],alpha = 0.3)\n",
    "plt.xlim(-400,400) \n",
    "plt.ylim(0,62)\n"
   ]
  },
  {
   "cell_type": "code",
   "execution_count": null,
   "id": "81c3e1c5",
   "metadata": {},
   "outputs": [
    {
     "data": {
      "text/plain": [
       "Text(0.5, 1.0, 'относительно 19 года')"
      ]
     },
     "execution_count": 243,
     "metadata": {},
     "output_type": "execute_result"
    },
    {
     "data": {
      "image/png": "[encoded data removed]",
      "text/plain": [
       "<Figure size 800x800 with 4 Axes>"
      ]
     },
     "metadata": {},
     "output_type": "display_data"
    }
   ],
   "source": [
    "plt.figure(figsize=(8, 8))\n",
    "plt.subplot(2, 2, 1)\n",
    "plt.scatter(coords_N_1[0],coords_N_1[1],alpha = 0.3)\n",
    "plt.xlim(-400,400) \n",
    "plt.ylim(0,62)\n",
    "plt.title('относительно 22 года')\n",
    "\n",
    "plt.subplot(2, 2, 2)\n",
    "plt.scatter(coords_N_2[0],coords_N_2[1],alpha = 0.3)\n",
    "plt.xlim(-400,400) \n",
    "plt.ylim(0,62)\n",
    "plt.title('относительно 21 года')\n",
    "\n",
    "\n",
    "plt.subplot(2, 2, 3)\n",
    "plt.scatter(coords_N_3[0],coords_N_3[1],alpha = 0.3)\n",
    "plt.xlim(-400,400) \n",
    "plt.ylim(0,62)\n",
    "plt.title('относительно 20 года')\n",
    "\n",
    "\n",
    "plt.subplot(2, 2, 4)\n",
    "plt.scatter(coords_N_4[0],coords_N_4[1],alpha = 0.3)\n",
    "plt.xlim(-400,400) \n",
    "plt.ylim(0,62)\n",
    "plt.title('относительно 19 года')\n"
   ]
  },
  {
   "cell_type": "markdown",
   "id": "a9ccd025",
   "metadata": {},
   "source": [
    "Выводы: \n",
    "1) Изменение чистой прибыли более чем на 200% год к году - нечастое среди компаний явление.\n",
    "2) на всех графиках в промежутке -100%:100% очевидна зависимость: с уменьшением процента изменения чистой прибыли увеличивается число компаний. Сделаем вывод, что в 2024 году чистая прибыль относительно прошлых лет уменьшалась у бОльшей части компаний выборки."
   ]
  },
  {
   "cell_type": "code",
   "execution_count": 76,
   "id": "72d6718e",
   "metadata": {},
   "outputs": [
    {
     "data": {
      "text/plain": [
       "(0.0, 4300.0)"
      ]
     },
     "execution_count": 76,
     "metadata": {},
     "output_type": "execute_result"
    },
    {
     "data": {
      "image/png": "[encoded data removed]",
      "text/plain": [
       "<Figure size 640x480 with 1 Axes>"
      ]
     },
     "metadata": {},
     "output_type": "display_data"
    }
   ],
   "source": [
    "data_pl = pd.merge(data, rev, on=['ИНН'])\n",
    "data_pl = data_pl.sort_values(by='revenue for 2023',ascending=False)\n",
    "plt.scatter(data_pl['Среднесписочная численность работников за предшествующий календарный год'],data_pl['revenue for 2023'] / 1000,alpha = 0.2)\n",
    "plt.xlabel('Количество работников в компании')\n",
    "plt.ylabel('Выручка компании, млн. руб')\n",
    "plt.ylim(0,4300)"
   ]
  },
  {
   "cell_type": "markdown",
   "id": "5d97de5c",
   "metadata": {},
   "source": [
    "Выше график кол-во работников - выручка. Я получил немного не то что ожидал - казалось бы, чем больше выручка, тем больше должно работать человек в компании. Смотря на график, понимаем, что гипотеза не потвердилась ;)). Вывод: выручка не зависит от количетсва работников."
   ]
  },
  {
   "cell_type": "markdown",
   "id": "ce4b35b5",
   "metadata": {},
   "source": [
    "Далее проанализируем топ 500 компаний по выручке"
   ]
  },
  {
   "cell_type": "code",
   "execution_count": 114,
   "id": "4ace67d2",
   "metadata": {},
   "outputs": [
    {
     "data": {
      "text/plain": [
       "5508      Волгоград\n",
       "7247      Ярославль\n",
       "3742    Новосибирск\n",
       "3102    Красногорск\n",
       "5291          Пермь\n",
       "           ...     \n",
       "1197         Самара\n",
       "5381          Кызыл\n",
       "3182            Уфа\n",
       "5554       Кизилюрт\n",
       "8401          г Уфа\n",
       "Name: Город, Length: 500, dtype: object"
      ]
     },
     "execution_count": 114,
     "metadata": {},
     "output_type": "execute_result"
    }
   ],
   "source": [
    "data_pl = data_pl.replace(np.nan,'nothing')\n",
    "data_pl = data_pl[data_pl['Город'] != 'nothing']\n",
    "top_500rev = data_pl[:500].copy()\n",
    "top_500rev['Город']"
   ]
  },
  {
   "cell_type": "code",
   "execution_count": 115,
   "id": "3805dbe0",
   "metadata": {},
   "outputs": [],
   "source": [
    "# убираем 'г' в ячейке города\n",
    "top_500rev['Город'] = top_500rev['Город'].apply(lambda st: st.split()[1] if st[0] == 'г' else st)\n"
   ]
  },
  {
   "cell_type": "markdown",
   "id": "5f50e483",
   "metadata": {},
   "source": [
    "на просторах инета нашел табличку с координаами городов"
   ]
  },
  {
   "cell_type": "code",
   "execution_count": 116,
   "id": "45093904",
   "metadata": {},
   "outputs": [],
   "source": [
    "df = pd.read_excel('spisok_gorodov_RU.xlsx')\n",
    "del df['Регион']\n",
    "del df['Округ']"
   ]
  },
  {
   "cell_type": "code",
   "execution_count": 117,
   "id": "215f1d3a",
   "metadata": {},
   "outputs": [],
   "source": [
    "dataframe = pd.merge(top_500rev,df,on='Город')\n",
    "dataframe = dataframe.sort_values(by='revenue for 2023', ascending=False)\n",
    "dataframe = dataframe.reset_index()\n",
    "del dataframe['index']\n",
    "dataframe = dataframe.reset_index()\n",
    "del dataframe['Район']\n",
    "del dataframe['ОГРН']"
   ]
  },
  {
   "cell_type": "markdown",
   "id": "6dfe564a",
   "metadata": {},
   "source": [
    "возникла проблема - я отмечаю на карте города, в которых зарегестрированы компании. Получается, что если в одном городе больше однйо компании, они друг друга перекрывают и видно только одну. Поскольку для исправления по честному нужны точные широта/долгота компании, которые негде спарсить, я сделаю небольшой костыль: у каждой компании подвину  немного коордианты города, в таком случае наложений не будет "
   ]
  },
  {
   "cell_type": "code",
   "execution_count": 118,
   "id": "be0c24d7",
   "metadata": {},
   "outputs": [],
   "source": [
    "import random"
   ]
  },
  {
   "cell_type": "code",
   "execution_count": 119,
   "id": "b85f65f0",
   "metadata": {},
   "outputs": [],
   "source": [
    "for i in range(472):\n",
    "    lon = dataframe['Долгота'].iloc[i]\n",
    "    lat = dataframe['Широта'].iloc[i]\n",
    "    correction = random.uniform(0.01, 0.05)\n",
    "    rnd = random.randint(0,2)\n",
    "\n",
    "    if rnd == 0:\n",
    "        lon -= correction\n",
    "        lat += correction\n",
    "    elif rnd == 1:\n",
    "        lon += correction\n",
    "        lat += correction\n",
    "    else:\n",
    "        lon -= correction\n",
    "        lat -= correction\n",
    "\n",
    "\n",
    "    dataframe.loc[dataframe['index'] == i, 'Долгота'] = lon\n",
    "    dataframe.loc[dataframe['index'] == i, 'Широта'] = lat"
   ]
  },
  {
   "cell_type": "code",
   "execution_count": 120,
   "id": "be7f8e04",
   "metadata": {},
   "outputs": [
    {
     "data": {
      "application/vnd.plotly.v1+json": {
       "config": {
        "plotlyServerURL": "https://plot.ly"
       },
       "data": [
        {
         "customdata": [
          [
           "Волгоград",
           7325124442,
           0,
           5443642
          ],
          [
           "Ярославль",
           7604214008,
           1,
           5047402
          ],
          [
           "Новосибирск",
           5406825428,
           2,
           4990472
          ],
          [
           "Красногорск",
           6164108822,
           3,
           4649070
          ],
          [
           "Пермь",
           5904400883,
           4,
           4513996
          ],
          [
           "Казань",
           1655476201,
           5,
           4186055
          ],
          [
           "Саранск",
           6442011063,
           6,
           4052920
          ],
          [
           "Назрань",
           608040896,
           7,
           3896434
          ],
          [
           "Грозный",
           608007747,
           8,
           3785508
          ],
          [
           "Казань",
           1658152572,
           9,
           3684827
          ],
          [
           "Новосибирск",
           5401304044,
           10,
           3664646
          ],
          [
           "Саратов",
           6455001697,
           11,
           3624018
          ],
          [
           "Красногорск",
           5018081120,
           12,
           3621309
          ],
          [
           "Люберцы",
           5027232992,
           13,
           3556085
          ],
          [
           "Находка",
           2508055910,
           14,
           3430153
          ],
          [
           "Сочи",
           2320163390,
           15,
           3420513
          ],
          [
           "Красногорск",
           5024182052,
           16,
           3417810
          ],
          [
           "Казань",
           1660295320,
           17,
           3104085
          ],
          [
           "Магнитогорск",
           7455013408,
           18,
           3065121
          ],
          [
           "Краснодар",
           2312266987,
           19,
           2973822
          ],
          [
           "Фрязино",
           5050117620,
           20,
           2954360
          ],
          [
           "Челябинск",
           7451385973,
           21,
           2896338
          ],
          [
           "Екатеринбург",
           6671268279,
           22,
           2887522
          ],
          [
           "Волгоград",
           3426013251,
           23,
           2870716
          ],
          [
           "Казань",
           1655096560,
           24,
           2852249
          ],
          [
           "Екатеринбург",
           6679157757,
           25,
           2832709
          ],
          [
           "Чебоксары",
           2126003691,
           26,
           2824138
          ],
          [
           "Казань",
           1603002962,
           27,
           2755169
          ],
          [
           "Ульяновск",
           7327090005,
           28,
           2727007
          ],
          [
           "Казань",
           1655284186,
           29,
           2699973
          ],
          [
           "Казань",
           1660256032,
           30,
           2686875
          ],
          [
           "Воронеж",
           3663033415,
           31,
           2661386
          ],
          [
           "Воронеж",
           3663033415,
           32,
           2661386
          ],
          [
           "Солнечногорск",
           5044095337,
           33,
           2615695
          ],
          [
           "Домодедово",
           7723906368,
           34,
           2602615
          ],
          [
           "Саратов",
           6452934991,
           35,
           2601197
          ],
          [
           "Южно-Сахалинск",
           6501067536,
           36,
           2588376
          ],
          [
           "Благовещенск",
           2801202330,
           37,
           2584691
          ],
          [
           "Белореченск",
           2303021331,
           38,
           2582461
          ],
          [
           "Казань",
           1655211533,
           39,
           2543165
          ],
          [
           "Подольск",
           7714957479,
           40,
           2531741
          ],
          [
           "Ялта",
           9103000552,
           41,
           2518867
          ],
          [
           "Обнинск",
           4025068752,
           42,
           2437160
          ],
          [
           "Химки",
           5047241949,
           43,
           2411372
          ],
          [
           "Холмск",
           2726000607,
           44,
           2409509
          ],
          [
           "Краснодар",
           2308196582,
           45,
           2406390
          ],
          [
           "Екатеринбург",
           6685195239,
           46,
           2399142
          ],
          [
           "Рязань",
           6234132853,
           47,
           2372760
          ],
          [
           "Красноярск",
           2460230180,
           48,
           2317714
          ],
          [
           "Новосибирск",
           5405375060,
           49,
           2314328
          ],
          [
           "Екатеринбург",
           6670381377,
           50,
           2294916
          ],
          [
           "Владивосток",
           2543125207,
           51,
           2277450
          ],
          [
           "Красногорск",
           5024168072,
           52,
           2237141
          ],
          [
           "Брянск",
           3245500285,
           53,
           2219855
          ],
          [
           "Калининград",
           3906221283,
           54,
           2203745
          ],
          [
           "Северодвинск",
           2902060812,
           55,
           2133327
          ],
          [
           "Химки",
           5256199810,
           56,
           2130647
          ],
          [
           "Ростов-на-Дону",
           6167073060,
           57,
           2118183
          ],
          [
           "Екатеринбург",
           6658070216,
           58,
           2107072
          ],
          [
           "Мытищи",
           5029172308,
           59,
           2102040
          ],
          [
           "Сочи",
           2320251649,
           60,
           2092318
          ],
          [
           "Калининград",
           3906205764,
           61,
           2076246
          ],
          [
           "Вологда",
           3525115712,
           62,
           2073931
          ],
          [
           "Липецк",
           4823056870,
           63,
           2072206
          ],
          [
           "Казань",
           1658204132,
           64,
           2067346
          ],
          [
           "Краснодар",
           2312233653,
           65,
           2057779
          ],
          [
           "Альметьевск",
           1644067246,
           66,
           2030419
          ],
          [
           "Барнаул",
           2222022619,
           67,
           2011079
          ],
          [
           "Казань",
           1659143147,
           68,
           1991094
          ],
          [
           "Симферополь",
           9102213727,
           69,
           1990868
          ],
          [
           "Красноярск",
           2466154391,
           70,
           1959199
          ],
          [
           "Краснодар",
           2312149874,
           71,
           1952900
          ],
          [
           "Троицк",
           7751179308,
           72,
           1948935
          ],
          [
           "Троицк",
           7751179308,
           73,
           1948935
          ],
          [
           "Подольск",
           7720189754,
           74,
           1942069
          ],
          [
           "Тюмень",
           7204100711,
           75,
           1927278
          ],
          [
           "Уфа",
           276156728,
           76,
           1918028
          ],
          [
           "Южно-Сахалинск",
           6501272341,
           77,
           1914979
          ],
          [
           "Находка",
           2524004983,
           78,
           1909701
          ],
          [
           "Екатеринбург",
           6679092891,
           79,
           1892643
          ],
          [
           "Тула",
           7106047347,
           80,
           1890168
          ],
          [
           "Самара",
           6316104945,
           81,
           1882195
          ],
          [
           "Чита",
           7536167389,
           82,
           1864715
          ],
          [
           "Смоленск",
           6731028404,
           83,
           1862621
          ],
          [
           "Казань",
           1657239005,
           84,
           1861792
          ],
          [
           "Челябинск",
           7451071906,
           85,
           1858252
          ],
          [
           "Иркутск",
           3808203046,
           86,
           1852014
          ],
          [
           "Владивосток",
           2543121643,
           87,
           1842068
          ],
          [
           "Вологда",
           3525048992,
           88,
           1838703
          ],
          [
           "Уфа",
           274925865,
           89,
           1833337
          ],
          [
           "Котельники",
           5027256182,
           90,
           1832048
          ],
          [
           "Уфа",
           275922105,
           91,
           1819454
          ],
          [
           "Новосибирск",
           5406825393,
           92,
           1818499
          ],
          [
           "Волгоград",
           3442098118,
           93,
           1816093
          ],
          [
           "Краснодар",
           2311179474,
           94,
           1793651
          ],
          [
           "Киров",
           4345468069,
           95,
           1783712
          ],
          [
           "Чайковский",
           1840039862,
           96,
           1782791
          ],
          [
           "Екатеринбург",
           6670476678,
           97,
           1769672
          ],
          [
           "Томск",
           7017334036,
           98,
           1766557
          ],
          [
           "Екатеринбург",
           6679159000,
           99,
           1765228
          ],
          [
           "Вологда",
           1102077974,
           100,
           1751859
          ],
          [
           "Тольятти",
           6324081498,
           101,
           1727498
          ],
          [
           "Симферополь",
           9102192386,
           102,
           1719307
          ],
          [
           "Краснодар",
           2311250208,
           103,
           1716094
          ],
          [
           "Ессентуки",
           2626047418,
           104,
           1711112
          ],
          [
           "Чита",
           7536158377,
           105,
           1703295
          ],
          [
           "Новосибирск",
           4205243072,
           106,
           1689137
          ],
          [
           "Чебоксары",
           2129005369,
           107,
           1677131
          ],
          [
           "Южно-Сахалинск",
           6501153658,
           108,
           1673936
          ],
          [
           "Новосибирск",
           5406825516,
           109,
           1673822
          ],
          [
           "Новосибирск",
           5405116154,
           110,
           1666461
          ],
          [
           "Чехов",
           5048031694,
           111,
           1663239
          ],
          [
           "Сочи",
           5503113553,
           112,
           1656100
          ],
          [
           "Якутск",
           1435166758,
           113,
           1649011
          ],
          [
           "Рязань",
           6230092649,
           114,
           1638163
          ],
          [
           "Альметьевск",
           1644070256,
           115,
           1621946
          ],
          [
           "Уфа",
           276092746,
           116,
           1617005
          ],
          [
           "Екатеринбург",
           6658473007,
           117,
           1609739
          ],
          [
           "Казань",
           1657191681,
           118,
           1591289
          ],
          [
           "Сургут",
           8602012061,
           119,
           1590612
          ],
          [
           "Омск",
           5501220937,
           120,
           1579904
          ],
          [
           "Воронеж",
           3663150214,
           121,
           1577283
          ],
          [
           "Воронеж",
           3663150214,
           122,
           1577283
          ],
          [
           "Екатеринбург",
           6670115960,
           123,
           1573468
          ],
          [
           "Гудермес",
           2009000087,
           124,
           1570693
          ],
          [
           "Тула",
           7106026403,
           125,
           1565960
          ],
          [
           "Дзержинский",
           5027006369,
           126,
           1565001
          ],
          [
           "Сургут",
           8602194090,
           127,
           1562700
          ],
          [
           "Уфа",
           277918425,
           128,
           1561079
          ],
          [
           "Екатеринбург",
           6679071411,
           129,
           1554371
          ],
          [
           "Краснодар",
           2311251522,
           130,
           1543167
          ],
          [
           "Самара",
           6319218877,
           131,
           1537053
          ],
          [
           "Екатеринбург",
           6685088928,
           132,
           1517624
          ],
          [
           "Тюмень",
           7202100988,
           133,
           1516169
          ],
          [
           "Ярославль",
           7604259048,
           134,
           1503649
          ],
          [
           "Новосибирск",
           5407486094,
           135,
           1491844
          ],
          [
           "Тамбов",
           6829121738,
           136,
           1487685
          ],
          [
           "Новосибирск",
           5405341390,
           137,
           1486798
          ],
          [
           "Кострома",
           3460059841,
           138,
           1484616
          ],
          [
           "Новороссийск",
           2315212299,
           139,
           1476198
          ],
          [
           "Екатеринбург",
           6670390653,
           140,
           1461430
          ],
          [
           "Грозный",
           2014259624,
           141,
           1458015
          ],
          [
           "Всеволожск",
           7814627650,
           142,
           1455092
          ],
          [
           "Химки",
           7715432964,
           143,
           1451264
          ],
          [
           "Вологда",
           3525115173,
           144,
           1440388
          ],
          [
           "Самара",
           6316270445,
           145,
           1439491
          ],
          [
           "Екатеринбург",
           6670422200,
           146,
           1436516
          ],
          [
           "Казань",
           1660306830,
           147,
           1431861
          ],
          [
           "Пермь",
           5906102890,
           148,
           1431753
          ],
          [
           "Казань",
           1657124526,
           149,
           1429787
          ],
          [
           "Тула",
           7107119308,
           150,
           1427978
          ],
          [
           "Волгоград",
           3446030706,
           151,
           1424612
          ],
          [
           "Казань",
           1657220036,
           152,
           1422122
          ],
          [
           "Краснодар",
           2311170457,
           153,
           1416887
          ],
          [
           "Жуковский",
           5013048425,
           154,
           1416384
          ],
          [
           "Липецк",
           4826076233,
           155,
           1411056
          ],
          [
           "Уфа",
           277039262,
           156,
           1408016
          ],
          [
           "Домодедово",
           5009126832,
           157,
           1407810
          ],
          [
           "Воронеж",
           3666106573,
           158,
           1405667
          ],
          [
           "Воронеж",
           3666106573,
           159,
           1405667
          ],
          [
           "Курск",
           4632297547,
           160,
           1402453
          ],
          [
           "Красноярск",
           2464125998,
           161,
           1397524
          ],
          [
           "Симферополь",
           9102021944,
           162,
           1390955
          ],
          [
           "Красногорск",
           5024223037,
           163,
           1389985
          ],
          [
           "Уфа",
           276157094,
           164,
           1388726
          ],
          [
           "Салехард",
           8901016434,
           165,
           1386238
          ],
          [
           "Пермь",
           5906059080,
           166,
           1381959
          ],
          [
           "Омск",
           5507254386,
           167,
           1381359
          ],
          [
           "Пермь",
           5905279647,
           168,
           1371704
          ],
          [
           "Всеволожск",
           9722013742,
           169,
           1368820
          ],
          [
           "Екатеринбург",
           6671079909,
           170,
           1359186
          ],
          [
           "Красногорск",
           5024212684,
           171,
           1354222
          ],
          [
           "Ангарск",
           3801993892,
           172,
           1346508
          ],
          [
           "Владимир",
           3327137545,
           173,
           1342745
          ],
          [
           "Екатеринбург",
           6685077926,
           174,
           1332211
          ],
          [
           "Екатеринбург",
           6670417055,
           175,
           1330248
          ],
          [
           "Саратов",
           6452148677,
           176,
           1327136
          ],
          [
           "Балашиха",
           5001118491,
           177,
           1327095
          ],
          [
           "Красноярск",
           2465122735,
           178,
           1323492
          ],
          [
           "Красноярск",
           2460202514,
           179,
           1321801
          ],
          [
           "Белгород",
           3123465837,
           180,
           1320136
          ],
          [
           "Петрозаводск",
           1001010821,
           181,
           1318962
          ],
          [
           "Анапа",
           6165190185,
           182,
           1314654
          ],
          [
           "Чехов",
           7707836392,
           183,
           1311839
          ],
          [
           "Чебоксары",
           2128007123,
           184,
           1311554
          ],
          [
           "Краснодар",
           2308114879,
           185,
           1309186
          ],
          [
           "Петрозаводск",
           7716230720,
           186,
           1303526
          ],
          [
           "Красноярск",
           2464246819,
           187,
           1288590
          ],
          [
           "Челябинск",
           7736274564,
           188,
           1287446
          ],
          [
           "Ижевск",
           1831205880,
           189,
           1282866
          ],
          [
           "Калининград",
           3907000135,
           190,
           1281039
          ],
          [
           "Кемерово",
           4206024725,
           191,
           1277881
          ],
          [
           "Краснодар",
           2311011320,
           192,
           1277064
          ],
          [
           "Воронеж",
           3662149086,
           193,
           1276181
          ],
          [
           "Воронеж",
           3662149086,
           194,
           1276181
          ],
          [
           "Красноярск",
           2466083359,
           195,
           1276021
          ],
          [
           "Новосибирск",
           4205262371,
           196,
           1274115
          ],
          [
           "Волжский",
           3435052585,
           197,
           1273183
          ],
          [
           "Екатеринбург",
           6686013756,
           198,
           1271333
          ],
          [
           "Краснодар",
           2311315286,
           199,
           1264910
          ],
          [
           "Калуга",
           4027136246,
           200,
           1263663
          ],
          [
           "Благовещенск",
           2801016951,
           201,
           1257624
          ],
          [
           "Уфа",
           277114640,
           202,
           1246423
          ],
          [
           "Екатеринбург",
           6663071832,
           203,
           1245520
          ],
          [
           "Кемерово",
           4205085115,
           204,
           1244277
          ],
          [
           "Балашиха",
           5001122378,
           205,
           1243173
          ],
          [
           "Южно-Сахалинск",
           6501152990,
           206,
           1241663
          ],
          [
           "Нижнекамск",
           1651052642,
           207,
           1234359
          ],
          [
           "Уфа",
           272020170,
           208,
           1232425
          ],
          [
           "Бердск",
           5408172453,
           209,
           1221016
          ],
          [
           "Балашиха",
           5001117650,
           210,
           1216627
          ],
          [
           "Екатеринбург",
           6670160730,
           211,
           1214657
          ],
          [
           "Симферополь",
           9103002856,
           212,
           1213739
          ],
          [
           "Ялта",
           9103071553,
           213,
           1210364
          ],
          [
           "Пятигорск",
           2605012809,
           214,
           1209197
          ],
          [
           "Краснодар",
           2312254798,
           215,
           1208474
          ],
          [
           "Солнечногорск",
           5044125581,
           216,
           1208148
          ],
          [
           "Екатеринбург",
           6658399875,
           217,
           1207398
          ],
          [
           "Курган",
           7207011121,
           218,
           1204779
          ],
          [
           "Самара",
           6381030027,
           219,
           1202985
          ],
          [
           "Калуга",
           4028060536,
           220,
           1196997
          ],
          [
           "Арзамас",
           5243019316,
           221,
           1195703
          ],
          [
           "Волгоград",
           3444259931,
           222,
           1194722
          ],
          [
           "Красноярск",
           2465218282,
           223,
           1182800
          ],
          [
           "Екатеринбург",
           7202169563,
           224,
           1180062
          ],
          [
           "Улан-Удэ",
           326565398,
           225,
           1176867
          ],
          [
           "Хабаровск",
           2723197401,
           226,
           1176762
          ],
          [
           "Волгоград",
           3443922835,
           227,
           1174452
          ],
          [
           "Дудинка",
           8401006290,
           228,
           1174390
          ],
          [
           "Уфа",
           274150230,
           229,
           1170695
          ],
          [
           "Краснодар",
           2310192916,
           230,
           1169354
          ],
          [
           "Альметьевск",
           1643012519,
           231,
           1165215
          ],
          [
           "Омск",
           5506004658,
           232,
           1160863
          ],
          [
           "Краснодар",
           2308230642,
           233,
           1157704
          ],
          [
           "Тольятти",
           6322037052,
           234,
           1157229
          ],
          [
           "Тамбов",
           6829113720,
           235,
           1156214
          ],
          [
           "Челябинск",
           7448051385,
           236,
           1152349
          ],
          [
           "Владивосток",
           2536272320,
           237,
           1151310
          ],
          [
           "Казань",
           1659110896,
           238,
           1149942
          ],
          [
           "Казань",
           1656094318,
           239,
           1149031
          ],
          [
           "Красноярск",
           2466177617,
           240,
           1136904
          ],
          [
           "Улан-Удэ",
           326525490,
           241,
           1134981
          ],
          [
           "Домодедово",
           5003110787,
           242,
           1133836
          ],
          [
           "Казань",
           1660329918,
           243,
           1132430
          ],
          [
           "Ступино",
           5045045025,
           244,
           1130651
          ],
          [
           "Тюмень",
           7204103857,
           245,
           1128323
          ],
          [
           "Иркутск",
           3811454057,
           246,
           1127595
          ],
          [
           "Екатеринбург",
           9102216164,
           247,
           1125247
          ],
          [
           "Казань",
           1657243900,
           248,
           1123969
          ],
          [
           "Каспийск",
           545018736,
           249,
           1122575
          ],
          [
           "Магнитогорск",
           7456034270,
           250,
           1122371
          ],
          [
           "Энгельс",
           6449044283,
           251,
           1120599
          ],
          [
           "Воронеж",
           2263010348,
           252,
           1119822
          ],
          [
           "Воронеж",
           2263010348,
           253,
           1119822
          ],
          [
           "Новосибирск",
           5406588872,
           254,
           1119220
          ],
          [
           "Ростов-на-Дону",
           6165078698,
           255,
           1116365
          ],
          [
           "Краснодар",
           2311194948,
           256,
           1104519
          ],
          [
           "Краснодар",
           2311161029,
           257,
           1104340
          ],
          [
           "Казань",
           1660346649,
           258,
           1103074
          ],
          [
           "Нальчик",
           725013783,
           259,
           1102721
          ],
          [
           "Кызыл",
           1717009383,
           260,
           1102175
          ],
          [
           "Балашиха",
           5012091361,
           261,
           1100561
          ],
          [
           "Липецк",
           4826071443,
           262,
           1097466
          ],
          [
           "Тюмень",
           7203342411,
           263,
           1097455
          ],
          [
           "Ростов-на-Дону",
           6168079033,
           264,
           1096983
          ],
          [
           "Рязань",
           6230101830,
           265,
           1092237
          ],
          [
           "Череповец",
           3528211100,
           266,
           1090340
          ],
          [
           "Уфа",
           275915355,
           267,
           1089734
          ],
          [
           "Уфа",
           207006055,
           268,
           1086951
          ],
          [
           "Якутск",
           1435184570,
           269,
           1085031
          ],
          [
           "Уфа",
           275054770,
           270,
           1084954
          ],
          [
           "Тюмень",
           7202250373,
           271,
           1081620
          ],
          [
           "Новосибирск",
           5404206976,
           272,
           1080031
          ],
          [
           "Краснодар",
           2308034775,
           273,
           1079898
          ],
          [
           "Казань",
           1655279884,
           274,
           1078654
          ],
          [
           "Новосибирск",
           5402065381,
           275,
           1076454
          ],
          [
           "Рязань",
           6230037253,
           276,
           1074967
          ],
          [
           "Екатеринбург",
           6671445697,
           277,
           1073686
          ],
          [
           "Астрахань",
           3003006341,
           278,
           1071301
          ],
          [
           "Ижевск",
           1831080198,
           279,
           1065739
          ],
          [
           "Ноябрьск",
           8905039369,
           280,
           1063870
          ],
          [
           "Альметьевск",
           1644050362,
           281,
           1063065
          ],
          [
           "Когалым",
           8608056467,
           282,
           1060724
          ],
          [
           "Грозный",
           2015001931,
           283,
           1060414
          ],
          [
           "Невинномысск",
           2631031692,
           284,
           1059914
          ],
          [
           "Уфа",
           205008635,
           285,
           1056083
          ],
          [
           "Тольятти",
           6321357645,
           286,
           1053235
          ],
          [
           "Иркутск",
           3808195726,
           287,
           1052813
          ],
          [
           "Екатеринбург",
           6673132724,
           288,
           1047464
          ],
          [
           "Воронеж",
           3663001942,
           289,
           1047281
          ],
          [
           "Воронеж",
           3663001942,
           290,
           1047281
          ],
          [
           "Красноярск",
           2464122130,
           291,
           1047082
          ],
          [
           "Липецк",
           4824062098,
           292,
           1046539
          ],
          [
           "Екатеринбург",
           6658344192,
           293,
           1044951
          ],
          [
           "Химки",
           5047068564,
           294,
           1039340
          ],
          [
           "Владимир",
           3327332190,
           295,
           1031417
          ],
          [
           "Новосибирск",
           5410112902,
           296,
           1030082
          ],
          [
           "Красноярск",
           2463059894,
           297,
           1026924
          ],
          [
           "Новосибирск",
           5406582302,
           298,
           1022995
          ],
          [
           "Зеленоград",
           5012061335,
           299,
           1017734
          ],
          [
           "Ставрополь",
           2635211248,
           300,
           1014634
          ],
          [
           "Новосибирск",
           5407502349,
           301,
           1007958
          ],
          [
           "Химки",
           5047154277,
           302,
           1000827
          ],
          [
           "Казань",
           1660322976,
           303,
           1000038
          ],
          [
           "Пятигорск",
           2632104953,
           304,
           989426
          ],
          [
           "Сочи",
           2317057426,
           305,
           989234
          ],
          [
           "Новоуральск",
           6629003208,
           306,
           982902
          ],
          [
           "Троицк",
           8604037576,
           307,
           981394
          ],
          [
           "Троицк",
           8604037576,
           308,
           981394
          ],
          [
           "Красноярск",
           2466245602,
           309,
           976819
          ],
          [
           "Оренбург",
           5638078688,
           310,
           974254
          ],
          [
           "Майкоп",
           105027747,
           311,
           973585
          ],
          [
           "Котельники",
           5027226445,
           312,
           972212
          ],
          [
           "Волгоград",
           3448043965,
           313,
           971568
          ],
          [
           "Краснодар",
           2310088087,
           314,
           970428
          ],
          [
           "Грозный",
           2016003057,
           315,
           969345
          ],
          [
           "Екатеринбург",
           6686084281,
           316,
           963098
          ],
          [
           "Норильск",
           2457075866,
           317,
           957477
          ],
          [
           "Воронеж",
           3662276895,
           318,
           954817
          ],
          [
           "Воронеж",
           3662276895,
           319,
           954817
          ],
          [
           "Иваново",
           3702174370,
           320,
           952282
          ],
          [
           "Новокузнецк",
           4217148761,
           321,
           951327
          ],
          [
           "Раменское",
           5040006209,
           322,
           946991
          ],
          [
           "Мытищи",
           5029190120,
           323,
           944421
          ],
          [
           "Новокузнецк",
           4217105091,
           324,
           942157
          ],
          [
           "Краснодар",
           2312129420,
           325,
           939168
          ],
          [
           "Троицк",
           7723596211,
           326,
           936981
          ],
          [
           "Троицк",
           7723596211,
           327,
           936981
          ],
          [
           "Симферополь",
           9102056626,
           328,
           936058
          ],
          [
           "Новосибирск",
           2204054375,
           329,
           935706
          ],
          [
           "Ярославль",
           7606076280,
           330,
           935293
          ],
          [
           "Подольск",
           5036136364,
           331,
           935097
          ],
          [
           "Пермь",
           5933005824,
           332,
           934084
          ],
          [
           "Ульяновск",
           7328076959,
           333,
           933957
          ],
          [
           "Вологда",
           3525319233,
           334,
           933708
          ],
          [
           "Челябинск",
           7448146076,
           335,
           933213
          ],
          [
           "Пермь",
           5905952421,
           336,
           932383
          ],
          [
           "Екатеринбург",
           6673227920,
           337,
           930080
          ],
          [
           "Балашиха",
           9721060972,
           338,
           926209
          ],
          [
           "Воронеж",
           3666101984,
           339,
           924379
          ],
          [
           "Воронеж",
           3666101984,
           340,
           924379
          ],
          [
           "Омск",
           5503186978,
           341,
           923519
          ],
          [
           "Казань",
           1686005869,
           342,
           923307
          ],
          [
           "Липецк",
           4825087899,
           343,
           913357
          ],
          [
           "Солнечногорск",
           5044092030,
           344,
           908641
          ],
          [
           "Екатеринбург",
           6658542476,
           345,
           907953
          ],
          [
           "Раменское",
           5040155680,
           346,
           906996
          ],
          [
           "Уфа",
           278196476,
           347,
           905465
          ],
          [
           "Владикавказ",
           1513043241,
           348,
           905343
          ],
          [
           "Череповец",
           3528228376,
           349,
           902619
          ],
          [
           "Калуга",
           7724745995,
           350,
           899861
          ],
          [
           "Барнаул",
           2224095612,
           351,
           895968
          ],
          [
           "Сургут",
           8602004134,
           352,
           891693
          ],
          [
           "Ижевск",
           1834050040,
           353,
           890177
          ],
          [
           "Новосибирск",
           5408184794,
           354,
           889498
          ],
          [
           "Благовещенск",
           2801106556,
           355,
           888535
          ],
          [
           "Новокузнецк",
           4217168687,
           356,
           888337
          ],
          [
           "Воронеж",
           3666192910,
           357,
           887474
          ],
          [
           "Воронеж",
           3666192910,
           358,
           887474
          ],
          [
           "Подольск",
           5074068588,
           359,
           886323
          ],
          [
           "Белгород",
           3123402869,
           360,
           884394
          ],
          [
           "Калуга",
           4027121634,
           361,
           882010
          ],
          [
           "Белгород",
           3123411969,
           362,
           880725
          ],
          [
           "Белгород",
           3123377549,
           363,
           879203
          ],
          [
           "Гатчина",
           4705021254,
           364,
           875946
          ],
          [
           "Ялта",
           9102220435,
           365,
           875353
          ],
          [
           "Чебоксары",
           2129003280,
           366,
           873170
          ],
          [
           "Махачкала",
           7724441228,
           367,
           872919
          ],
          [
           "Оренбург",
           5638030598,
           368,
           872601
          ],
          [
           "Уфа",
           266017387,
           369,
           871753
          ],
          [
           "Тюмень",
           7203094857,
           370,
           870937
          ],
          [
           "Уфа",
           274176422,
           371,
           870853
          ],
          [
           "Балашиха",
           5012021090,
           372,
           864887
          ],
          [
           "Зеленоград",
           7727830399,
           373,
           864301
          ],
          [
           "Новокуйбышевск",
           6316241772,
           374,
           863841
          ],
          [
           "Анапа",
           2301093108,
           375,
           863299
          ],
          [
           "Самара",
           6313546007,
           376,
           860601
          ],
          [
           "Улан-Удэ",
           323087908,
           377,
           859846
          ],
          [
           "Казань",
           1656099355,
           378,
           858763
          ],
          [
           "Екатеринбург",
           6672326830,
           379,
           857625
          ],
          [
           "Сочи",
           2320101700,
           380,
           857252
          ],
          [
           "Астрахань",
           7722782455,
           381,
           856539
          ],
          [
           "Калуга",
           4029052464,
           382,
           855399
          ],
          [
           "Ессентуки",
           2626051171,
           383,
           855370
          ],
          [
           "Хабаровск",
           2723143639,
           384,
           854828
          ],
          [
           "Тюмень",
           7203479416,
           385,
           854302
          ],
          [
           "Казань",
           1633009588,
           386,
           852411
          ],
          [
           "Курган",
           4501090108,
           387,
           848035
          ],
          [
           "Энгельс",
           6449091741,
           388,
           846583
          ],
          [
           "Мытищи",
           5029105728,
           389,
           846253
          ],
          [
           "Лосино-Петровский",
           5050135411,
           390,
           844349
          ],
          [
           "Якутск",
           1435252608,
           391,
           842878
          ],
          [
           "Люберцы",
           5027210212,
           392,
           842209
          ],
          [
           "Иркутск",
           3810060162,
           393,
           841778
          ],
          [
           "Вольск",
           6441019888,
           394,
           839753
          ],
          [
           "Хабаровск",
           2720055166,
           395,
           837509
          ],
          [
           "Раменское",
           5040086405,
           396,
           836351
          ],
          [
           "Калининград",
           3907027747,
           397,
           835627
          ],
          [
           "Ижевск",
           1831174801,
           398,
           834213
          ],
          [
           "Тольятти",
           1657102240,
           399,
           831868
          ],
          [
           "Пермь",
           5903110050,
           400,
           831568
          ],
          [
           "Грозный",
           2014010316,
           401,
           827355
          ],
          [
           "Воронеж",
           3616008757,
           402,
           827187
          ],
          [
           "Воронеж",
           3616008757,
           403,
           827187
          ],
          [
           "Павлово",
           5208000070,
           404,
           826140
          ],
          [
           "Тюмень",
           7204103416,
           405,
           824816
          ],
          [
           "Рязань",
           6230075820,
           406,
           824431
          ],
          [
           "Ростов-на-Дону",
           6165167732,
           407,
           824094
          ],
          [
           "Абакан",
           1901056410,
           408,
           818266
          ],
          [
           "Вологда",
           7718287056,
           409,
           818030
          ],
          [
           "Екатеринбург",
           6671139146,
           410,
           817761
          ],
          [
           "Уфа",
           277120474,
           411,
           815701
          ],
          [
           "Воронеж",
           3665096548,
           412,
           812633
          ],
          [
           "Воронеж",
           3665096548,
           413,
           812633
          ],
          [
           "Владивосток",
           2540215942,
           414,
           812062
          ],
          [
           "Калининград",
           3917022667,
           415,
           811754
          ],
          [
           "Екатеринбург",
           6606036599,
           416,
           811496
          ],
          [
           "Уфа",
           278154324,
           417,
           811435
          ],
          [
           "Химки",
           7714687920,
           418,
           811335
          ],
          [
           "Сургут",
           8602236110,
           419,
           810794
          ],
          [
           "Тверь",
           6950126034,
           420,
           810126
          ],
          [
           "Барнаул",
           2222833053,
           421,
           809555
          ],
          [
           "Иваново",
           3702005132,
           422,
           807537
          ],
          [
           "Магнитогорск",
           7455024456,
           423,
           805355
          ],
          [
           "Уфа",
           277925302,
           424,
           804953
          ],
          [
           "Волжск",
           1659145289,
           425,
           804477
          ],
          [
           "Тобольск",
           7206030523,
           426,
           803250
          ],
          [
           "Красноярск",
           2465270885,
           427,
           801951
          ],
          [
           "Краснодар",
           2311264017,
           428,
           801663
          ],
          [
           "Самара",
           6317097850,
           429,
           801204
          ],
          [
           "Альметьевск",
           1645031813,
           430,
           799024
          ],
          [
           "Казань",
           1660191628,
           431,
           797602
          ],
          [
           "Екатеринбург",
           6674158098,
           432,
           797057
          ],
          [
           "Уфа",
           277042201,
           433,
           794493
          ],
          [
           "Гатчина",
           4705068693,
           434,
           793344
          ],
          [
           "Липецк",
           4825060880,
           435,
           792925
          ],
          [
           "Грозный",
           2635810450,
           436,
           792640
          ],
          [
           "Саранск",
           6617006973,
           437,
           792386
          ],
          [
           "Челябинск",
           7460045130,
           438,
           792056
          ],
          [
           "Новосибирск",
           5403029837,
           439,
           789782
          ],
          [
           "Ростов-на-Дону",
           6161054093,
           440,
           788843
          ],
          [
           "Екатеринбург",
           6671077940,
           441,
           788818
          ],
          [
           "Саранск",
           1327018992,
           442,
           788550
          ],
          [
           "Звенигород",
           5015000725,
           443,
           788189
          ],
          [
           "Казань",
           1655211580,
           444,
           787745
          ],
          [
           "Хабаровск",
           2722015440,
           445,
           786739
          ],
          [
           "Искитим",
           5446116114,
           446,
           784942
          ],
          [
           "Казань",
           1660327340,
           447,
           784251
          ],
          [
           "Тюмень",
           7203168121,
           448,
           783834
          ],
          [
           "Тамбов",
           6829089675,
           449,
           783557
          ],
          [
           "Ижевск",
           1840101380,
           450,
           783374
          ],
          [
           "Ставрополь",
           2635222257,
           451,
           783216
          ],
          [
           "Красногорск",
           5024185247,
           452,
           780323
          ],
          [
           "Волгоград",
           3445081521,
           453,
           778588
          ],
          [
           "Липецк",
           4825042640,
           454,
           775892
          ],
          [
           "Первоуральск",
           6684027070,
           455,
           773614
          ],
          [
           "Сочи",
           2320164900,
           456,
           771477
          ],
          [
           "Тула",
           9701105960,
           457,
           770435
          ],
          [
           "Омск",
           5501108131,
           458,
           770079
          ],
          [
           "Казань",
           1650315673,
           459,
           769887
          ],
          [
           "Симферополь",
           9102064810,
           460,
           769572
          ],
          [
           "Нефтеюганск",
           8604042801,
           461,
           769140
          ],
          [
           "Пенза",
           5835139611,
           462,
           768100
          ],
          [
           "Казань",
           1660339627,
           463,
           766610
          ],
          [
           "Тюмень",
           7202255830,
           464,
           764552
          ],
          [
           "Ишимбай",
           261022016,
           465,
           762797
          ],
          [
           "Иркутск",
           3808223645,
           466,
           761117
          ],
          [
           "Краснодар",
           2309113740,
           467,
           761096
          ],
          [
           "Вологда",
           3528315205,
           468,
           759552
          ],
          [
           "Самара",
           6376062249,
           469,
           759309
          ],
          [
           "Кызыл",
           1701050227,
           470,
           757094
          ],
          [
           "Уфа",
           276917147,
           471,
           754632
          ],
          [
           "Уфа",
           278190474,
           472,
           753983
          ]
         ],
         "hovertemplate": "<b>%{hovertext}</b><br><br>Широта=%{lat}<br>Долгота=%{lon}<br>Город=%{customdata[0]}<br>ИНН=%{customdata[1]}<br>index=%{customdata[2]}<br>revenue for 2023=%{customdata[3]}<extra></extra>",
         "hovertext": [
          "ОБЩЕСТВО С ОГРАНИЧЕННОЙ ОТВЕТСТВЕННОСТЬЮ \"СПЕЦИАЛИЗИРОВАННЫЙ ЗАСТРОЙЩИК РЕНТ-СЕРВИС\"",
          "ОБЩЕСТВО С ОГРАНИЧЕННОЙ ОТВЕТСТВЕННОСТЬЮ \"ТЕХНОСТРОЙ\"",
          "ОБЩЕСТВО С ОГРАНИЧЕННОЙ ОТВЕТСТВЕННОСТЬЮ \"ОХВАТСИБМОНТАЖ\"",
          "ОБЩЕСТВО С ОГРАНИЧЕННОЙ ОТВЕТСТВЕННОСТЬЮ \"МБ-СТРОЙ\"",
          "ОБЩЕСТВО С ОГРАНИЧЕННОЙ ОТВЕТСТВЕННОСТЬЮ \"СОЦПРОМСТРОЙ\"",
          "ОБЩЕСТВО С ОГРАНИЧЕННОЙ ОТВЕТСТВЕННОСТЬЮ СТРОИТЕЛЬНАЯ КОМПАНИЯ \"ЭЛЛАДА\"",
          "ОБЩЕСТВО С ОГРАНИЧЕННОЙ ОТВЕТСТВЕННОСТЬЮ \"ТАЛИНА\"",
          "ОБЩЕСТВО С ОГРАНИЧЕННОЙ ОТВЕТСТВЕННОСТЬЮ \"ЭЛИТСПЕЦСТРОЙ\"",
          "ОБЩЕСТВО С ОГРАНИЧЕННОЙ ОТВЕТСТВЕННОСТЬЮ \"ТЕХСТРОЙ\"",
          "ОБЩЕСТВО С ОГРАНИЧЕННОЙ ОТВЕТСТВЕННОСТЬЮ \"МОНАТ ГРУПП\"",
          "ОБЩЕСТВО С ОГРАНИЧЕННОЙ ОТВЕТСТВЕННОСТЬЮ \"ПРОМСТРОЙМОНТАЖ\"",
          "ОБЩЕСТВО С ОГРАНИЧЕННОЙ ОТВЕТСТВЕННОСТЬЮ \"ПРЕДПРИЯТИЕ ПО СТРОИТЕЛЬСТВУ \"ЛЕССТР\"",
          "ОБЩЕСТВО С ОГРАНИЧЕННОЙ ОТВЕТСТВЕННОСТЬЮ \"ДИАМАНДСЕРВИС\"",
          "ОБЩЕСТВО С ОГРАНИЧЕННОЙ ОТВЕТСТВЕННОСТЬЮ \"Т-СТРОЙ\"",
          "ОБЩЕСТВО С ОГРАНИЧЕННОЙ ОТВЕТСТВЕННОСТЬЮ СПЕЦИАЛИЗИРОВАННЫЙ ЗАСТРОЙЩИК \"ВИВА\"",
          "ОБЩЕСТВО С ОГРАНИЧЕННОЙ ОТВЕТСТВЕННОСТЬЮ \"АЛЬПИКА\"",
          "ОБЩЕСТВО С ОГРАНИЧЕННОЙ ОТВЕТСТВЕННОСТЬЮ \"СК С.Т.С.\"",
          "ОБЩЕСТВО С ОГРАНИЧЕННОЙ ОТВЕТСТВЕННОСТЬЮ СПЕЦИАЛИЗИРОВАННЫЙ ЗАСТРОЙЩИК \"АК ТАШ-ИНВЕСТСТРОЙ\"",
          "ОБЩЕСТВО С ОГРАНИЧЕННОЙ ОТВЕТСТВЕННОСТЬЮ \"УРАЛПРОФСТРОЙ\"",
          "ОБЩЕСТВО С ОГРАНИЧЕННОЙ ОТВЕТСТВЕННОСТЬЮ \"СК РУСЬ-СТРОЙ\"",
          "ОБЩЕСТВО С ОГРАНИЧЕННОЙ ОТВЕТСТВЕННОСТЬЮ \"СТРОИТЕЛЬНАЯ КОМПАНИЯ\"",
          "ОБЩЕСТВО С ОГРАНИЧЕННОЙ ОТВЕТСТВЕННОСТЬЮ \"ЭЛЕМЕНТ\"",
          "ОБЩЕСТВО С ОГРАНИЧЕННОЙ ОТВЕТСТВЕННОСТЬЮ \"АТЛАС КОНСТРАКШН\"",
          "ОБЩЕСТВО С ОГРАНИЧЕННОЙ ОТВЕТСТВЕННОСТЬЮ \"СТРОЙТЕХИНВЕСТ\"",
          "ОБЩЕСТВО С ОГРАНИЧЕННОЙ ОТВЕТСТВЕННОСТЬЮ \"ЛЭНД\"",
          "ОБЩЕСТВО С ОГРАНИЧЕННОЙ ОТВЕТСТВЕННОСТЬЮ \"ГЕНПОДРЯДНОЕ ПРЕДПРИЯТИЕ \"СТРОЙТЭК\"",
          "АКЦИОНЕРНОЕ ОБЩЕСТВО \"СПЕЦИАЛИЗИРОВАННЫЙ ЗАСТРОЙЩИК \"ИНВЕСТИЦИОННО-СТРОИТЕЛЬНАЯ КОМПАНИЯ - \"ЧЕСТР-ГРУПП\"",
          "ОБЩЕСТВО С ОГРАНИЧЕННОЙ ОТВЕТСТВЕННОСТЬЮ \"СТРОЙСЕРВИС\"",
          "ОБЩЕСТВО С ОГРАНИЧЕННОЙ ОТВЕТСТВЕННОСТЬЮ \"МОНОЛИТ\"",
          "ОБЩЕСТВО С ОГРАНИЧЕННОЙ ОТВЕТСТВЕННОСТЬЮ СТРОИТЕЛЬНО-МОНТАЖНОЕ ПРЕДПРИЯТИЕ \"ПОРТАЛ\"",
          "ОБЩЕСТВО С ОГРАНИЧЕННОЙ ОТВЕТСТВЕННОСТЬЮ \"НИЖНЕКАМСКХИМРЕМОНТСТРОЙ\"",
          "ОБЩЕСТВО С ОГРАНИЧЕННОЙ ОТВЕТСТВЕННОСТЬЮ ТОРГОВО-СТРОИТЕЛЬНОЕ ПРЕДПРИЯТИЕ \"ВОРОНЕЖ СТРОЙ КОМПЛЕКС\"",
          "ОБЩЕСТВО С ОГРАНИЧЕННОЙ ОТВЕТСТВЕННОСТЬЮ ТОРГОВО-СТРОИТЕЛЬНОЕ ПРЕДПРИЯТИЕ \"ВОРОНЕЖ СТРОЙ КОМПЛЕКС\"",
          "ОБЩЕСТВО С ОГРАНИЧЕННОЙ ОТВЕТСТВЕННОСТЬЮ \"СТРОЙ МОНТАЖ СП\"",
          "ОБЩЕСТВО С ОГРАНИЧЕННОЙ ОТВЕТСТВЕННОСТЬЮ \"ВИК\"",
          "ОБЩЕСТВО С ОГРАНИЧЕННОЙ ОТВЕТСТВЕННОСТЬЮ СПЕЦИАЛИЗИРОВАННЫЙ ЗАСТРОЙЩИК \"СТРОИТЕЛЬНАЯ КОМПАНИЯ \"СИСТЕМА\"",
          "ОБЩЕСТВО С ОГРАНИЧЕННОЙ ОТВЕТСТВЕННОСТЬЮ \"СПЕЦИАЛИЗИРОВАННЫЙ ЗАСТРОЙЩИК\"РЫБОВОДСТРОЙ\"",
          "ОБЩЕСТВО С ОГРАНИЧЕННОЙ ОТВЕТСТВЕННОСТЬЮ \"СПЕЦИАЛИЗИРОВАННЫЙ ЗАСТРОЙЩИК \"СОДРУЖЕСТВО\"",
          "ОБЩЕСТВО С ОГРАНИЧЕННОЙ ОТВЕТСТВЕННОСТЬЮ СТРОИТЕЛЬНАЯ КОМПАНИЯ \"РЕСУРС\"",
          "ОБЩЕСТВО С ОГРАНИЧЕННОЙ ОТВЕТСТВЕННОСТЬЮ \"АПЕКС\"",
          "ОБЩЕСТВО С ОГРАНИЧЕННОЙ ОТВЕТСТВЕННОСТЬЮ \"СТРОИТЕЛЬНЫЙ ТРЕСТ-12\"",
          "ОБЩЕСТВО С ОГРАНИЧЕННОЙ ОТВЕТСТВЕННОСТЬЮ \"СИНТЕЗИС ИНГ\"",
          "ОБЩЕСТВО С ОГРАНИЧЕННОЙ ОТВЕТСТВЕННОСТЬЮ  \"СТРОЙ - ВЕСТ\"",
          "ОБЩЕСТВО С ОГРАНИЧЕННОЙ ОТВЕТСТВЕННОСТЬЮ \"К7\"",
          "ОБЩЕСТВО С ОГРАНИЧЕННОЙ ОТВЕТСТВЕННОСТЬЮ \"ТЕНЗА\"",
          "ОБЩЕСТВО С ОГРАНИЧЕННОЙ ОТВЕТСТВЕННОСТЬЮ \"СТРОЙСПЕЦПРОЕКТ\"",
          "ОБЩЕСТВО С ОГРАНИЧЕННОЙ ОТВЕТСТВЕННОСТЬЮ \"ДИРЕКЦИЯ СТРОЯЩИХСЯ ОБЪЕКТОВ\"",
          "ОБЩЕСТВО С ОГРАНИЧЕННОЙ ОТВЕТСТВЕННОСТЬЮ \"СТРОЙКОМПЛЕКТСЕРВИС\"",
          "ОБЩЕСТВО С ОГРАНИЧЕННОЙ ОТВЕТСТВЕННОСТЬЮ \"СТРОИТЕЛЬНАЯ КОМПАНИЯ \"ТИТАН\"",
          "ОБЩЕСТВО С ОГРАНИЧЕННОЙ ОТВЕТСТВЕННОСТЬЮ \"СК-СТРОЙ\"",
          "ОБЩЕСТВО С ОГРАНИЧЕННОЙ ОТВЕТСТВЕННОСТЬЮ \"СИТИ БИЛДИНГ\"",
          "ОБЩЕСТВО С ОГРАНИЧЕННОЙ ОТВЕТСТВЕННОСТЬЮ \"ДНС СТРОЙ\"",
          "ОБЩЕСТВО С ОГРАНИЧЕННОЙ ОТВЕТСТВЕННОСТЬЮ \"СТРОЙ ГРУПП\"",
          "ОБЩЕСТВО С ОГРАНИЧЕННОЙ ОТВЕТСТВЕННОСТЬЮ \"СТРОЙДЕЛО\"",
          "ОБЩЕСТВО С ОГРАНИЧЕННОЙ ОТВЕТСТВЕННОСТЬЮ \"ЯНТАРЬСЕРВИСБАЛТИК\"",
          "ОБЩЕСТВО С ОГРАНИЧЕННОЙ ОТВЕТСТВЕННОСТЬЮ \"ГТ СЕВЕР\"",
          "ОБЩЕСТВО С ОГРАНИЧЕННОЙ ОТВЕТСТВЕННОСТЬЮ \"СИДИЭС КОРП.\"",
          "ОБЩЕСТВО С ОГРАНИЧЕННОЙ ОТВЕТСТВЕННОСТЬЮ \"ЮЖНАЯ СТРОИТЕЛЬНАЯ КОМПАНИЯ\"",
          "ОБЩЕСТВО С ОГРАНИЧЕННОЙ ОТВЕТСТВЕННОСТЬЮ \"МОНО-2\"",
          "ОБЩЕСТВО С ОГРАНИЧЕННОЙ ОТВЕТСТВЕННОСТЬЮ \"ФБ-СТРОЙ\"",
          "ОБЩЕСТВО С ОГРАНИЧЕННОЙ ОТВЕТСТВЕННОСТЬЮ \"ПРОЕКТ-СТРОЙ \"ГРАД\"",
          "ЗАКРЫТОЕ АКЦИОНЕРНОЕ ОБЩЕСТВО \"ДОРОЖНО-СТРОИТЕЛЬНОЕ ПРЕДПРИЯТИЕ\"",
          "ОБЩЕСТВО С ОГРАНИЧЕННОЙ ОТВЕТСТВЕННОСТЬЮ \"БАЗИС ЛТД\"",
          "ОБЩЕСТВО С ОГРАНИЧЕННОЙ ОТВЕТСТВЕННОСТЬЮ \"МЕТАЛЛУРГЭНЕРГОСТРОЙ\"",
          "ОБЩЕСТВО С ОГРАНИЧЕННОЙ ОТВЕТСТВЕННОСТЬЮ \"СТРОЙИМПЕКС\"",
          "ОБЩЕСТВО С ОГРАНИЧЕННОЙ ОТВЕТСТВЕННОСТЬЮ \"СПЕЦСТРОЙКАПИТАЛ\"",
          "ОБЩЕСТВО С ОГРАНИЧЕННОЙ ОТВЕТСТВЕННОСТЬЮ \"СТРОЙ-КОМПЛЕКС\"",
          "ОБЩЕСТВО С ОГРАНИЧЕННОЙ ОТВЕТСТВЕННОСТЬЮ \"СЕЛФ\"",
          "ОБЩЕСТВО С ОГРАНИЧЕННОЙ ОТВЕТСТВЕННОСТЬЮ СПЕЦИАЛИЗИРОВАННЫЙ ЗАСТРОЙЩИК \"СТРОИТЕЛЬНАЯ КОМПАНИЯ \"УНИСТРОЙДОМ\"",
          "ОБЩЕСТВО С ОГРАНИЧЕННОЙ ОТВЕТСТВЕННОСТЬЮ \"СУ-82\"",
          "ОБЩЕСТВО С ОГРАНИЧЕННОЙ ОТВЕТСТВЕННОСТЬЮ \"АРКСТОУН\"",
          "ОБЩЕСТВО С ОГРАНИЧЕННОЙ ОТВЕТСТВЕННОСТЬЮ СПЕЦИАЛИЗИРОВАННЫЙ ЗАСТРОЙЩИК \"КМ-ИНВЕСТ\"",
          "ОБЩЕСТВО С ОГРАНИЧЕННОЙ ОТВЕТСТВЕННОСТЬЮ \"ФД ТЕХНОЛОГИЯ\"",
          "ОБЩЕСТВО С ОГРАНИЧЕННОЙ ОТВЕТСТВЕННОСТЬЮ \"ФД ТЕХНОЛОГИЯ\"",
          "ОБЩЕСТВО С ОГРАНИЧЕННОЙ ОТВЕТСТВЕННОСТЬЮ \"СКР-10\"",
          "ОБЩЕСТВО С ОГРАНИЧЕННОЙ ОТВЕТСТВЕННОСТЬЮ \"СПЕЦИАЛИЗИРОВАННЫЙ ЗАСТРОЙЩИК \"СПЕЦСТРОЙИНВЕСТ\"",
          "ОБЩЕСТВО С ОГРАНИЧЕННОЙ ОТВЕТСТВЕННОСТЬЮ \"РЕФСТРОЙПРОЕКТ\"",
          "ОБЩЕСТВО С ОГРАНИЧЕННОЙ ОТВЕТСТВЕННОСТЬЮ \"ИНЖЕНЕРНЫЕ ТЕХНОЛОГИИ\"",
          "ОБЩЕСТВО С ОГРАНИЧЕННОЙ ОТВЕТСТВЕННОСТЬЮ \"КАПСТРОЙ\"",
          "ОБЩЕСТВО С ОГРАНИЧЕННОЙ ОТВЕТСТВЕННОСТЬЮ \"СТРОИТЕЛЬНАЯ КОМПАНИЯ \"СТРОЙГРАД\"",
          "ОБЩЕСТВО С ОГРАНИЧЕННОЙ ОТВЕТСТВЕННОСТЬЮ \"СТРОЙЭТАЛОН ФИНАНС\"",
          "АКЦИОНЕРНОЕ ОБЩЕСТВО СТРОИТЕЛЬНАЯ КОМПАНИЯ \"ВОЛЖСКИЙ ГРАД\"",
          "ОБЩЕСТВО С ОГРАНИЧЕННОЙ ОТВЕТСТВЕННОСТЬЮ \"СПЕЦТРАНС\"",
          "АКЦИОНЕРНОЕ ОБЩЕСТВО \"СМОЛСТРОМ-СЕРВИС\"",
          "ОБЩЕСТВО С ОГРАНИЧЕННОЙ ОТВЕТСТВЕННОСТЬЮ \"ДМГ-СТРОЙ\"",
          "ОБЩЕСТВО С ОГРАНИЧЕННОЙ ОТВЕТСТВЕННОСТЬЮ \"УРАЛДОРСТРОЙ\"",
          "ОБЩЕСТВО С ОГРАНИЧЕННОЙ ОТВЕТСТВЕННОСТЬЮ \"ПЕРВАЯ СТРОИТЕЛЬНАЯ КОМПАНИЯ\"",
          "ОБЩЕСТВО С ОГРАНИЧЕННОЙ ОТВЕТСТВЕННОСТЬЮ \"ЭНЕРГОСТРОЙВОСТОК\"",
          "АКЦИОНЕРНОЕ ОБЩЕСТВО \"АКЦИОНЕРНАЯ ПРОИЗВОДСТВЕННО-СТРОИТЕЛЬНАЯ КОМПАНИЯ \"ГАЗСТРОЙАВТОМАТИКА\"",
          "ОБЩЕСТВО С ОГРАНИЧЕННОЙ ОТВЕТСТВЕННОСТЬЮ \"ЛЮКССТРОЙ\"",
          "ОБЩЕСТВО С ОГРАНИЧЕННОЙ ОТВЕТСТВЕННОСТЬЮ \"ГЕОСТРОЙ\"",
          "ОБЩЕСТВО С ОГРАНИЧЕННОЙ ОТВЕТСТВЕННОСТЬЮ \"АСБ\"",
          "ОБЩЕСТВО С ОГРАНИЧЕННОЙ ОТВЕТСТВЕННОСТЬЮ \"ОХВАТ-НСК\"",
          "ОБЩЕСТВО С ОГРАНИЧЕННОЙ ОТВЕТСТВЕННОСТЬЮ \"РИО\"",
          "ОБЩЕСТВО С ОГРАНИЧЕННОЙ ОТВЕТСТВЕННОСТЬЮ \"ВСВ-РЕГИОНСТРОЙ\"",
          "ОБЩЕСТВО С ОГРАНИЧЕННОЙ ОТВЕТСТВЕННОСТЬЮ \"КЛЕВЕР ДЕВЕЛОПМЕНТ\"",
          "ОБЩЕСТВО С ОГРАНИЧЕННОЙ ОТВЕТСТВЕННОСТЬЮ \"АГРО-СТРОЙИНДУСТРИЯ\"",
          "ОБЩЕСТВО С ОГРАНИЧЕННОЙ ОТВЕТСТВЕННОСТЬЮ \"СТРОИТЕЛЬНЫЙ ХОЛДИНГ ЕНКО\"",
          "АКЦИОНЕРНОЕ ОБЩЕСТВО \"КОНСАЛТИНГСТРОЙИНВЕСТ\"",
          "ОБЩЕСТВО С ОГРАНИЧЕННОЙ ОТВЕТСТВЕННОСТЬЮ СТРОИТЕЛЬНАЯ КОМПАНИЯ \"РЕКОНСТРУКЦИЯ ЕКБ\"",
          "ОБЩЕСТВО С ОГРАНИЧЕННОЙ ОТВЕТСТВЕННОСТЬЮ \"СТРОЙИНВЕСТКОМПЛЕКТ\"",
          "ОБЩЕСТВО С ОГРАНИЧЕННОЙ ОТВЕТСТВЕННОСТЬЮ \"СТРОЙ ИНЖИНИРИНГ\"",
          "ОБЩЕСТВО С ОГРАНИЧЕННОЙ ОТВЕТСТВЕННОСТЬЮ \"АГРИЙ\"",
          "ОБЩЕСТВО С ОГРАНИЧЕННОЙ ОТВЕТСТВЕННОСТЬЮ \"СТРОЙПОДРЯДСЕРВИС\"",
          "ОБЩЕСТВО С ОГРАНИЧЕННОЙ ОТВЕТСТВЕННОСТЬЮ СТРОИТЕЛЬНАЯ КОМПАНИЯ \"СТРОЙ-ИНВЕСТ\"",
          "ОБЩЕСТВО С ОГРАНИЧЕННОЙ ОТВЕТСТВЕННОСТЬЮ \"АТОМСПЕЦСТРОЙ\"",
          "ОБЩЕСТВО С ОГРАНИЧЕННОЙ ОТВЕТСТВЕННОСТЬЮ \"СКС\"",
          "АКЦИОНЕРНОЕ ОБЩЕСТВО \"СПЕЦИАЛИЗИРОВАННЫЙ ЗАСТРОЙЩИК \"ТУС\"",
          "ОБЩЕСТВО С ОГРАНИЧЕННОЙ ОТВЕТСТВЕННОСТЬЮ\"ЛИГО-ДИЗАЙН ТРЕЙДИНГ\"",
          "ОБЩЕСТВО С ОГРАНИЧЕННОЙ ОТВЕТСТВЕННОСТЬЮ \"ОХВАТПИТЕРСТРОЙ\"",
          "ЗАКРЫТОЕ АКЦИОНЕРНОЕ ОБЩЕСТВО РЕМОНТНО-СТРОИТЕЛЬНОЕ УПРАВЛЕНИЕ № 5 \"НОВОСИБИРСКГРАЖДАНСТРОЙ\"",
          "ОБЩЕСТВО С ОГРАНИЧЕННОЙ ОТВЕТСТВЕННОСТЬЮ \"АСТЕРА ГРУПП\"",
          "ОБЩЕСТВО С ОГРАНИЧЕННОЙ ОТВЕТСТВЕННОСТЬЮ СТРОИТЕЛЬНАЯ КОМПАНИЯ \"АНА\"",
          "ОБЩЕСТВО С ОГРАНИЧЕННОЙ ОТВЕТСТВЕННОСТЬЮ \"АЛЬЯНС-2005\"",
          "ОБЩЕСТВО С ОГРАНИЧЕННОЙ ОТВЕТСТВЕННОСТЬЮ \"РЯЗАНЬСПЕЦСТРОЙ\"",
          "ОБЩЕСТВО С ОГРАНИЧЕННОЙ ОТВЕТСТВЕННОСТЬЮ \"ТЕХНОХИММОНТАЖ\"",
          "ОБЩЕСТВО С ОГРАНИЧЕННОЙ ОТВЕТСТВЕННОСТЬЮ \"СТРОИТЕЛЬНАЯ КОМПАНИЯ \"МИР\"",
          "ОБЩЕСТВО С ОГРАНИЧЕННОЙ ОТВЕТСТВЕННОСТЬЮ \"ЛЕВ\"",
          "ОБЩЕСТВО С ОГРАНИЧЕННОЙ ОТВЕТСТВЕННОСТЬЮ \"РАМ-СТРОЙ\"",
          "ОБЩЕСТВО С ОГРАНИЧЕННОЙ ОТВЕТСТВЕННОСТЬЮ \"ПЛАВСТРОЙОТРЯД-34\"",
          "ОБЩЕСТВО С ОГРАНИЧЕННОЙ ОТВЕТСТВЕННОСТЬЮ \"СТРОИТЕЛЬНЫЕ МАТЕРИАЛЫ СИБИРИ\"",
          "ОБЩЕСТВО С ОГРАНИЧЕННОЙ ОТВЕТСТВЕННОСТЬЮ \"ВМСТК-ЦЕНТР\"",
          "ОБЩЕСТВО С ОГРАНИЧЕННОЙ ОТВЕТСТВЕННОСТЬЮ \"ВМСТК-ЦЕНТР\"",
          "ОБЩЕСТВО С ОГРАНИЧЕННОЙ ОТВЕТСТВЕННОСТЬЮ \"ВМП - ИНЖИНИРИНГ\"",
          "ОБЩЕСТВО С ОГРАНИЧЕННОЙ ОТВЕТСТВЕННОСТЬЮ \"ДОРСТРОЙ\"",
          "ОБЩЕСТВО С ОГРАНИЧЕННОЙ ОТВЕТСТВЕННОСТЬЮ \"КОНСТАНТА\"",
          "\"ХОЗРАСЧЕТНАЯ СТРОИТЕЛЬНО-ТЕХНОЛОГИЧЕСКАЯ ФИРМА \"ФОБОС\" ОБЩЕСТВО С ОГРАНИЧЕННОЙ ОТВЕТСТВЕННОСТЬЮ",
          "ОБЩЕСТВО С ОГРАНИЧЕННОЙ ОТВЕТСТВЕННОСТЬЮ \"СЕВЕРСПЕЦСЕРВИС\"",
          "ОБЩЕСТВО С ОГРАНИЧЕННОЙ ОТВЕТСТВЕННОСТЬЮ \"ПРОМСТРОЙМОНТАЖ\"",
          "ОБЩЕСТВО С ОГРАНИЧЕННОЙ ОТВЕТСТВЕННОСТЬЮ \"ЕКАТЕРИНБУРГЭЛЕКТРОМОНТАЖ\"",
          "ОБЩЕСТВО С ОГРАНИЧЕННОЙ ОТВЕТСТВЕННОСТЬЮ \"ГАРАНТСТРОЙ\"",
          "ОБЩЕСТВО С ОГРАНИЧЕННОЙ ОТВЕТСТВЕННОСТЬЮ СТРОИТЕЛЬНАЯ КОМПАНИЯ \"ВАШ ВЫБОР\"",
          "ОБЩЕСТВО С ОГРАНИЧЕННОЙ ОТВЕТСТВЕННОСТЬЮ \"ПРОМСТРОЙМОНТАЖ\"",
          "ОБЩЕСТВО С ОГРАНИЧЕННОЙ ОТВЕТСТВЕННОСТЬЮ \"ХАУС ГРУПП\"",
          "ОБЩЕСТВО С ОГРАНИЧЕННОЙ ОТВЕТСТВЕННОСТЬЮ \"КАПИТАЛГРУППСТРОЙ\"",
          "ОБЩЕСТВО С ОГРАНИЧЕННОЙ ОТВЕТСТВЕННОСТЬЮ СТРОИТЕЛЬНОЕ УПРАВЛЕНИЕ \"РЕЧНОЕ\"",
          "ОБЩЕСТВО С ОГРАНИЧЕННОЙ ОТВЕТСТВЕННОСТЬЮ \"СТРОИТЕЛЬНАЯ КОМПАНИЯ \"МЕГАПОЛИС\"",
          "ОБЩЕСТВО С ОГРАНИЧЕННОЙ ОТВЕТСТВЕННОСТЬЮ \"ЖК АКАДЕМИЯ\"",
          "ОБЩЕСТВО С ОГРАНИЧЕННОЙ ОТВЕТСТВЕННОСТЬЮ \"АРТ-ХОЛДИНГ\"",
          "ОБЩЕСТВО С ОГРАНИЧЕННОЙ ОТВЕТСТВЕННОСТЬЮ \"ЮГСПЕЦАВТОМАТИКА\"",
          "ОБЩЕСТВО С ОГРАНИЧЕННОЙ ОТВЕТСТВЕННОСТЬЮ \"КОНТУР 2012\"",
          "ОБЩЕСТВО С ОГРАНИЧЕННОЙ ОТВЕТСТВЕННОСТЬЮ НАУЧНО-ПРОИЗВОДСТВЕННАЯ КОМПАНИЯ \"ИНТЕРБИЗНЕС-55\"",
          "ОБЩЕСТВО С ОГРАНИЧЕННОЙ ОТВЕТСТВЕННОСТЬЮ \"ИНТАЛИЯ\"",
          "ОБЩЕСТВО С ОГРАНИЧЕННОЙ ОТВЕТСТВЕННОСТЬЮ \"СТРОЙ ПРЕСТИЖ\"",
          "ОБЩЕСТВО С ОГРАНИЧЕННОЙ ОТВЕТСТВЕННОСТЬЮ \"ТЕРМОИЗОЛСТРОЙ\"",
          "ОБЩЕСТВО С ОГРАНИЧЕННОЙ ОТВЕТСТВЕННОСТЬЮ \"ТЕХНОСТРОЙГРУПП1\"",
          "ОБЩЕСТВО С ОГРАНИЧЕННОЙ ОТВЕТСТВЕННОСТЬЮ \"ЕКАД\"",
          "ОБЩЕСТВО С ОГРАНИЧЕННОЙ ОТВЕТСТВЕННОСТЬЮ \"ПСК ГРАНИТ\"",
          "ОБЩЕСТВО С ОГРАНИЧЕННОЙ ОТВЕТСТВЕННОСТЬЮ \"\"НЕФТЬПРОМИНВЕСТ\"",
          "ОБЩЕСТВО С ОГРАНИЧЕННОЙ ОТВЕТСТВЕННОСТЬЮ \"ДСК \"ВЕЛЕС\"",
          "ОБЩЕСТВО С ОГРАНИЧЕННОЙ ОТВЕТСТВЕННОСТЬЮ \"ИНЖИНИРИНГ\"",
          "ОБЩЕСТВО С ОГРАНИЧЕННОЙ ОТВЕТСТВЕННОСТЬЮ \"СПЕЦИАЛИЗИРОВАННЫЙ ЗАСТРОЙЩИК \"СТРОЙСЕРВИС\"",
          "ОБЩЕСТВО С ОГРАНИЧЕННОЙ ОТВЕТСТВЕННОСТЬЮ \"ИНВЕСТСТРОЙПРОЕКТ\"",
          "ОБЩЕСТВО С ОГРАНИЧЕННОЙ ОТВЕТСТВЕННОСТЬЮ \"ФОРВАРД-СТРОЙ\"",
          "ЗАКРЫТОЕ АКЦИОНЕРНОЕ ОБЩЕСТВО \"ВЕСТСТРОЙ\"",
          "ОБЩЕСТВО С ОГРАНИЧЕННОЙ ОТВЕТСТВЕННОСТЬЮ \"ГРУППА КОМПАНИЙ \"СОЛИДАРНОСТЬ\"",
          "ОБЩЕСТВО С ОГРАНИЧЕННОЙ ОТВЕТСТВЕННОСТЬЮ   \"БАШАЛЬЯНССТРОЙ\"",
          "ОБЩЕСТВО С ОГРАНИЧЕННОЙ ОТВЕТСТВЕННОСТЬЮ \"ПС ДЕВЕЛОПМЕНТ\"",
          "ОБЩЕСТВО С ОГРАНИЧЕННОЙ ОТВЕТСТВЕННОСТЬЮ \"СТРОЙИНЖИНИРИНГ\"",
          "ОБЩЕСТВО С ОГРАНИЧЕННОЙ ОТВЕТСТВЕННОСТЬЮ \"СТРОЙИНЖИНИРИНГ\"",
          "АКЦИОНЕРНОЕ ОБЩЕСТВО \"СТРОИТЕЛЬНЫЙ ХОЛДИНГ ТЕЗИС\"",
          "ОБЩЕСТВО С ОГРАНИЧЕННОЙ ОТВЕТСТВЕННОСТЬЮ \"ПРОМИНВЕСТ\"",
          "ОБЩЕСТВО С ОГРАНИЧЕННОЙ ОТВЕТСТВЕННОСТЬЮ \"ТЕХНО-СТАР\"",
          "ОБЩЕСТВО С ОГРАНИЧЕННОЙ ОТВЕТСТВЕННОСТЬЮ \"СК Н.Т.С.\"",
          "ОБЩЕСТВО С ОГРАНИЧЕННОЙ ОТВЕТСТВЕННОСТЬЮ \"КАПИТАЛ СТРОЙ\"",
          "ОБЩЕСТВО С ОГРАНИЧЕННОЙ ОТВЕТСТВЕННОСТЬЮ \"ЯМАЛЖИЛСТРОЙ\"",
          "ОБЩЕСТВО С ОГРАНИЧЕННОЙ ОТВЕТСТВЕННОСТЬЮ \"РЕКОН СТРОЙ\"",
          "ОБЩЕСТВО С ОГРАНИЧЕННОЙ ОТВЕТСТВЕННОСТЬЮ \"КАПИТАЛСТРОЙ\"",
          "ОБЩЕСТВО С ОГРАНИЧЕННОЙ ОТВЕТСТВЕННОСТЬЮ \"СК-ЛИДЕР\"",
          "АКЦИОНЕРНОЕ ОБЩЕСТВО \"СМАРТ СИСТЕМС\"",
          "ОБЩЕСТВО С ОГРАНИЧЕННОЙ ОТВЕТСТВЕННОСТЬЮ \"АЛЬФА-СТРОЙ\"",
          "ОБЩЕСТВО С ОГРАНИЧЕННОЙ ОТВЕТСТВЕННОСТЬЮ \"ВАН КОНСТРАКШН\"",
          "ОБЩЕСТВО С ОГРАНИЧЕННОЙ ОТВЕТСТВЕННОСТЬЮ \"АНГАРСКСТРОЙМЕХАНИЗАЦИЯ\"",
          "ОБЩЕСТВО С ОГРАНИЧЕННОЙ ОТВЕТСТВЕННОСТЬЮ СТРОИТЕЛЬНАЯ КОМПАНИЯ \"СТРОЙВЛАДИМИР\"",
          "ОБЩЕСТВО С ОГРАНИЧЕННОЙ ОТВЕТСТВЕННОСТЬЮ \"СТРОИТЕЛЬНАЯ КОМПАНИЯ №1\"",
          "ОБЩЕСТВО С ОГРАНИЧЕННОЙ ОТВЕТСТВЕННОСТЬЮ \"НОВЭЛСТРОЙ\"",
          "ОБЩЕСТВО С ОГРАНИЧЕННОЙ ОТВЕТСТВЕННОСТЬЮ \"АРТЕФАКТ\"",
          "ОБЩЕСТВО С ОГРАНИЧЕННОЙ ОТВЕТСТВЕННОСТЬЮ \"СТРОИТЕЛЬНАЯ КОМПАНИЯ ЛЕГРАН\"",
          "ОБЩЕСТВО С ОГРАНИЧЕННОЙ ОТВЕТСТВЕННОСТЬЮ \"КЛМ АРТ\"",
          "ОБЩЕСТВО С ОГРАНИЧЕННОЙ ОТВЕТСТВЕННОСТЬЮ СТРОИТЕЛЬНАЯ КОМПАНИЯ \"ГЕОРГ\"",
          "ОБЩЕСТВО С ОГРАНИЧЕННОЙ ОТВЕТСТВЕННОСТЬЮ \"ТЕХСТРОЙ\"",
          "АКЦИОНЕРНОЕ ОБЩЕСТВО \"СПЕЦИАЛИЗИРОВАННЫЙ ЗАСТРОЙЩИК \"СТРОИТЕЛЬНАЯ КОМПАНИЯ \"ВЕК\"",
          "ОБЩЕСТВО С ОГРАНИЧЕННОЙ ОТВЕТСТВЕННОСТЬЮ СПЕЦИАЛИЗИРОВАННЫЙ ЗАСТРОЙЩИК ИСК \"НИКА\"",
          "ОБЩЕСТВО С ОГРАНИЧЕННОЙ ОТВЕТСТВЕННОСТЬЮ \"КОМПЛЕКСНЫЕ СТРОИТЕЛЬНЫЕ СИСТЕМЫ\"",
          "АКЦИОНЕРНОЕ ОБЩЕСТВО \"СПЕЦИАЛИЗИРОВАННЫЙ ЗАСТРОЙЩИК \"СТРОИТЕЛЬНЫЙ ТРЕСТ №3\"",
          "ОБЩЕСТВО С ОГРАНИЧЕННОЙ ОТВЕТСТВЕННОСТЬЮ \"АГРОСПЕЦМОНТАЖ\"",
          "ОБЩЕСТВО С ОГРАНИЧЕННОЙ ОТВЕТСТВЕННОСТЬЮ \"АНТЕЙ-СТРОЙИНВЕСТ\"",
          "ОБЩЕСТВО С ОГРАНИЧЕННОЙ ОТВЕТСТВЕННОСТЬЮ \"ПАРТНЕР\"",
          "ОБЩЕСТВО С ОГРАНИЧЕННОЙ ОТВЕТСТВЕННОСТЬЮ \"РИК\"",
          "ОБЩЕСТВО С ОГРАНИЧЕННОЙ ОТВЕТСТВЕННОСТЬЮ \"НЕБОСКРЕБ\"",
          "ОБЩЕСТВО С ОГРАНИЧЕННОЙ ОТВЕТСТВЕННОСТЬЮ \"МЕГАПОЛИС\"",
          "ОБЩЕСТВО С ОГРАНИЧЕННОЙ ОТВЕТСТВЕННОСТЬЮ \"ЖИЛИЩНИК-2\"",
          "АКЦИОНЕРНОЕ ОБЩЕСТВО \"КРАСНОДАРСКИЙ ЗАВОД ЖЕЛЕЗОБЕТОННЫХ ИЗДЕЛИЙ №1\"",
          "ОБЩЕСТВО С ОГРАНИЧЕННОЙ ОТВЕТСТВЕННОСТЬЮ \"СПЕЦСТРОЙ\"",
          "ОБЩЕСТВО С ОГРАНИЧЕННОЙ ОТВЕТСТВЕННОСТЬЮ \"СПЕЦСТРОЙ\"",
          "ОБЩЕСТВО С ОГРАНИЧЕННОЙ ОТВЕТСТВЕННОСТЬЮ \"ТЕРМИТ\"",
          "ОБЩЕСТВО С ОГРАНИЧЕННОЙ ОТВЕТСТВЕННОСТЬЮ \"КУЗБАССШАХТПРОЕКТ\"",
          "ОБЩЕСТВО С ОГРАНИЧЕННОЙ ОТВЕТСТВЕННОСТЬЮ \"СТРОИТЕЛЬНАЯ КОМПАНИЯ \"ФЛАГМАН\"",
          "ОБЩЕСТВО С ОГРАНИЧЕННОЙ ОТВЕТСТВЕННОСТЬЮ \"РЕГИОНСПЕЦСТРОЙ\"",
          "ОБЩЕСТВО С ОГРАНИЧЕННОЙ ОТВЕТСТВЕННОСТЬЮ \"СИТИСТРОЙ\"",
          "ОБЩЕСТВО С ОГРАНИЧЕННОЙ ОТВЕТСТВЕННОСТЬЮ \"СТРОИТЕЛЬНЫЙ АЛЬЯНС\"",
          "АКЦИОНЕРНОЕ ОБЩЕСТВО \"СТРОИТЕЛЬНАЯ КОМПАНИЯ №1\"",
          "ОБЩЕСТВО С ОГРАНИЧЕННОЙ ОТВЕТСТВЕННОСТЬЮ \"КОРУНД\"",
          "ЗАКРЫТОЕ АКЦИОНЕРНОЕ ОБЩЕСТВО \"СТРОИТЕЛЬНО-МОНТАЖНОЕ УПРАВЛЕНИЕ № 25 УРАЛМАШСТРОЙ\"",
          "ОБЩЕСТВО С ОГРАНИЧЕННОЙ ОТВЕТСТВЕННОСТЬЮ \"МОНТАЖЭНЕРГОСТРОЙ\"",
          "ОБЩЕСТВО С ОГРАНИЧЕННОЙ ОТВЕТСТВЕННОСТЬЮ \"СПЕЦГАЗСТРОЙ\"",
          "ОБЩЕСТВО С ОГРАНИЧЕННОЙ ОТВЕТСТВЕННОСТЬЮ \"ГЛОБУС-СК\"",
          "ОБЩЕСТВО С ОГРАНИЧЕННОЙ ОТВЕТСТВЕННОСТЬЮ \"ЭНЕРГОСИЛА-НК\"",
          "ОБЩЕСТВО С ОГРАНИЧЕННОЙ ОТВЕТСТВЕННОСТЬЮ \"СТРОЙЦЕНТР\"",
          "ОБЩЕСТВО С ОГРАНИЧЕННОЙ ОТВЕТСТВЕННОСТЬЮ \"СПЕЦИАЛИЗИРОВАННЫЙ ЗАСТРОЙЩИК \"СТРОЙРЕГИОНСЕРВИС\"",
          "ОБЩЕСТВО С ОГРАНИЧЕННОЙ ОТВЕТСТВЕННОСТЬЮ \"ЦЕНТР ГАЗ\"",
          "АКЦИОНЕРНОЕ ОБЩЕСТВО \"ЕКБ-ОТДЕЛСТРОЙ\"",
          "ОБЩЕСТВО С ОГРАНИЧЕННОЙ ОТВЕТСТВЕННОСТЬЮ \"СТРОИТЕЛЬНАЯ КОМПАНИЯ \"ДЕЛЬТА\"",
          "ОБЩЕСТВО С ОГРАНИЧЕННОЙ ОТВЕТСТВЕННОСТЬЮ \"АЛЬФАСТРОЙКОНТРАКТ\"",
          "ОБЩЕСТВО С ОГРАНИЧЕННОЙ ОТВЕТСТВЕННОСТЬЮ \"СПЕЦИАЛИЗИРОВАННЫЙ ЗАСТРОЙЩИК \"АЛЬФА-С\"",
          "ОБЩЕСТВО С ОГРАНИЧЕННОЙ ОТВЕТСТВЕННОСТЬЮ \"КРАСНОДАРТРАНССТРОЙ\"",
          "ОБЩЕСТВО С ОГРАНИЧЕННОЙ ОТВЕТСТВЕННОСТЬЮ \"ВИС ИНЖИНИРИНГ\"",
          "ОБЩЕСТВО С ОГРАНИЧЕННОЙ ОТВЕТСТВЕННОСТЬЮ \"ПРОМГРАЖДАНСТРОЙ\"",
          "ОБЩЕСТВО С ОГРАНИЧЕННОЙ ОТВЕТСТВЕННОСТЬЮ \"АРАГАЦСТРОЙ\"",
          "ОБЩЕСТВО С ОГРАНИЧЕННОЙ ОТВЕТСТВЕННОСТЬЮ \"РЕГИОНСТРОЙ\"",
          "ОБЩЕСТВО С ОГРАНИЧЕННОЙ ОТВЕТСТВЕННОСТЬЮ СПЕЦИАЛИЗИРОВАННЫЙ ЗАСТРОЙЩИК ФИНАНСОВО СТРОИТЕЛЬНАЯ КОРПОРАЦИЯ \"МОНОЛИТ-КАЛУГА\"",
          "ОБЩЕСТВО С ОГРАНИЧЕННОЙ ОТВЕТСТВЕННОСТЬЮ \"ПРОМГРАЖДАНСТРОЙ\"",
          "ОБЩЕСТВО С ОГРАНИЧЕННОЙ ОТВЕТСТВЕННОСТЬЮ \"А\" СПЕЦИАЛИЗИРОВАННЫЙ ЗАСТРОЙЩИК\"",
          "ОБЩЕСТВО С ОГРАНИЧЕННОЙ ОТВЕТСТВЕННОСТЬЮ \"ИТС\"",
          "ОБЩЕСТВО С ОГРАНИЧЕННОЙ ОТВЕТСТВЕННОСТЬЮ \"СТРОИТЕЛЬНАЯ КОМПАНИЯ \"ТЮМЕНЬСПЕЦСТРОЙ\"",
          "ОБЩЕСТВО С ОГРАНИЧЕННОЙ ОТВЕТСТВЕННОСТЬЮ \"СК СПЕЦСТРОЙ\"",
          "ОБЩЕСТВО С ОГРАНИЧЕННОЙ ОТВЕТСТВЕННОСТЬЮ \"СТРОЙКОР\"",
          "ОБЩЕСТВО С ОГРАНИЧЕННОЙ ОТВЕТСТВЕННОСТЬЮ \"АЛЬЯНССТРОЙКОМ\"",
          "ОБЩЕСТВО С ОГРАНИЧЕННОЙ ОТВЕТСТВЕННОСТЬЮ \"МОНТЕХКОМ\"",
          "ОБЩЕСТВО С ОГРАНИЧЕННОЙ ОТВЕТСТВЕННОСТЬЮ \"СТРОИТЕЛЬНАЯ ФИРМА - 15 БНЗС\"",
          "ОБЩЕСТВО С ОГРАНИЧЕННОЙ ОТВЕТСТВЕННОСТЬЮ \"СТРОИТЕЛЬНО-МОНТАЖНОЕ УПРАВЛЕНИЕ-78\"",
          "ОБЩЕСТВО С ОГРАНИЧЕННОЙ ОТВЕТСТВЕННОСТЬЮ \"ТЕХБУРСЕРВИС\"",
          "ОБЩЕСТВО С ОГРАНИЧЕННОЙ ОТВЕТСТВЕННОСТЬЮ \"ТОБОЛ\"",
          "ОБЩЕСТВО С ОГРАНИЧЕННОЙ ОТВЕТСТВЕННОСТЬЮ \"ГИС-АГРО\"",
          "ОБЩЕСТВО С ОГРАНИЧЕННОЙ ОТВЕТСТВЕННОСТЬЮ \"КОВЧЕГ\"",
          "ОБЩЕСТВО С ОГРАНИЧЕННОЙ ОТВЕТСТВЕННОСТЬЮ \"СПЕЦИАЛИЗИРОВАННЫЙ ЗАСТРОЙЩИК \"ПМК-5\"",
          "ОБЩЕСТВО С ОГРАНИЧЕННОЙ ОТВЕТСТВЕННОСТЬЮ СПЕЦИАЛИЗИРОВАННЫЙ ЗАСТРОЙЩИК \"ВЫСОТА\"",
          "ОБЩЕСТВО С ОГРАНИЧЕННОЙ ОТВЕТСТВЕННОСТЬЮ \"СТРОИТЕЛЬНАЯ КОМПАНИЯ \"ЗЕНИТ\"",
          "ОБЩЕСТВО С ОГРАНИЧЕННОЙ ОТВЕТСТВЕННОСТЬЮ \"ИЛЬ-ХАМЕТ\"",
          "ОБЩЕСТВО С ОГРАНИЧЕННОЙ ОТВЕТСТВЕННОСТЬЮ \"СФ ОСНОВАНИЕ\"",
          "ОБЩЕСТВО С ОГРАНИЧЕННОЙ ОТВЕТСТВЕННОСТЬЮ СТРОИТЕЛЬНАЯ КОМПАНИЯ \"АВАНГАРД\"",
          "ОБЩЕСТВО С ОГРАНИЧЕННОЙ ОТВЕТСТВЕННОСТЬЮ \"БУРЯТПРОЕКТРЕСТАВРАЦИЯ\"",
          "ОБЩЕСТВО С ОГРАНИЧЕННОЙ ОТВЕТСТВЕННОСТЬЮ \" РЕКОНСТРУКЦИЯ\"",
          "ОБЩЕСТВО С ОГРАНИЧЕННОЙ ОТВЕТСТВЕННОСТЬЮ \"РЕНОВАЦИЯ\"",
          "ОБЩЕСТВО С ОГРАНИЧЕННОЙ ОТВЕТСТВЕННОСТЬЮ \"АСГ-КОНСТРАКШН\"",
          "ОБЩЕСТВО С ОГРАНИЧЕННОЙ ОТВЕТСТВЕННОСТЬЮ \"СИБСТРОЙАЛЬЯНС\"",
          "ОБЩЕСТВО С ОГРАНИЧЕННОЙ ОТВЕТСТВЕННОСТЬЮ СТРОИТЕЛЬНАЯ КОМПАНИЯ \"ЛИДЕР\"",
          "ОБЩЕСТВО С ОГРАНИЧЕННОЙ ОТВЕТСТВЕННОСТЬЮ \"СТРОЙПРОЕКТ ГРУПП\"",
          "ОБЩЕСТВО С ОГРАНИЧЕННОЙ ОТВЕТСТВЕННОСТЬЮ \"ГРУППА КОМПАНИЙ \"РР ГРУПП\"",
          "ОБЩЕСТВО С ОГРАНИЧЕННОЙ ОТВЕТСТВЕННОСТЬЮ СТРОИТЕЛЬНО-МОНТАЖНАЯ-КОМПАНИЯ \"ЖИЛЬЁ\"",
          "ОБЩЕСТВО С ОГРАНИЧЕННОЙ ОТВЕТСТВЕННОСТЬЮ \"ФОРТГРУПП\"",
          "ОБЩЕСТВО С ОГРАНИЧЕННОЙ ОТВЕТСТВЕННОСТЬЮ СПЕЦИАЛИЗИРОВАННЫЙ ЗАСТРОЙЩИК \"ПДПСТРОЙ\"",
          "ОБЩЕСТВО С ОГРАНИЧЕННОЙ ОТВЕТСТВЕННОСТЬЮ \"СОЮЗСПЕЦСТРОЙ\"",
          "ОБЩЕСТВО С ОГРАНИЧЕННОЙ ОТВЕТСТВЕННОСТЬЮ \"СОЮЗСПЕЦСТРОЙ\"",
          "ОБЩЕСТВО С ОГРАНИЧЕННОЙ ОТВЕТСТВЕННОСТЬЮ \"АВМ СТРОЙ\"",
          "ОБЩЕСТВО С ОГРАНИЧЕННОЙ ОТВЕТСТВЕННОСТЬЮ \"ЖИЛСТРОЙ\"",
          "ОБЩЕСТВО С ОГРАНИЧЕННОЙ ОТВЕТСТВЕННОСТЬЮ  \"СТРОЙТРЕВЛ\"",
          "ОБЩЕСТВО С ОГРАНИЧЕННОЙ ОТВЕТСТВЕННОСТЬЮ \"ФОРТИСЮГСТРОЙ\"",
          "ОБЩЕСТВО С ОГРАНИЧЕННОЙ ОТВЕТСТВЕННОСТЬЮ \"ИНТЕК\"",
          "ОБЩЕСТВО С ОГРАНИЧЕННОЙ ОТВЕТСТВЕННОСТЬЮ  СТРОИТЕЛЬНАЯ КОМПАНИЯ \"ЛИДЕР\"",
          "ОБЩЕСТВО С ОГРАНИЧЕННОЙ ОТВЕТСТВЕННОСТЬЮ \"СПЕЦИАЛИЗИРОВАННЫЙ ЗАСТРОЙЩИК \"ОЛЧЕЙ\"",
          "ОБЩЕСТВО С ОГРАНИЧЕННОЙ ОТВЕТСТВЕННОСТЬЮ \"СК КОМПЛЕКС\"",
          "ОБЩЕСТВО С ОГРАНИЧЕННОЙ ОТВЕТСТВЕННОСТЬЮ СПЕЦИАЛИЗИРОВАННЫЙ ЗАСТРОЙЩИК \"СТРОЙМАСТЕР\"",
          "ОБЩЕСТВО С ОГРАНИЧЕННОЙ ОТВЕТСТВЕННОСТЬЮ \"ИНТЕРСТРОЙ\"",
          "ОБЩЕСТВО С ОГРАНИЧЕННОЙ ОТВЕТСТВЕННОСТЬЮ \"СТРОЙСЕРВИС\"",
          "ОБЩЕСТВО С ОГРАНИЧЕННОЙ ОТВЕТСТВЕННОСТЬЮ \"СТК-СТРОЙ\"",
          "ОБЩЕСТВО С ОГРАНИЧЕННОЙ ОТВЕТСТВЕННОСТЬЮ \"СПЕЦГИДРОСТРОЙ\"",
          "ОБЩЕСТВО С ОГРАНИЧЕННОЙ ОТВЕТСТВЕННОСТЬЮ \"СТРОИТЕЛЬНОЕ УПРАВЛЕНИЕ № 9\"",
          "ОБЩЕСТВО С ОГРАНИЧЕННОЙ ОТВЕТСТВЕННОСТЬЮ \"ЖИЛСТРОЙ\"",
          "ОБЩЕСТВО С ОГРАНИЧЕННОЙ ОТВЕТСТВЕННОСТЬЮ \"САХАСПЕЦМОНТАЖ-95\"",
          "ОБЩЕСТВО С ОГРАНИЧЕННОЙ ОТВЕТСТВЕННОСТЬЮ ПРОИЗВОДСТВЕННО-КОММЕРЧЕСКАЯ ФИРМА \"ВИТЯЗЬ СБ\"",
          "ОБЩЕСТВО С ОГРАНИЧЕННОЙ ОТВЕТСТВЕННОСТЬЮ \"ТЕХСТРОЙ\"",
          "ОБЩЕСТВО С ОГРАНИЧЕННОЙ ОТВЕТСТВЕННОСТЬЮ СТРОИТЕЛЬНАЯ КОМПАНИЯ \"СИБИРЬ-СТРОЙ\"",
          "ОБЩЕСТВО С ОГРАНИЧЕННОЙ ОТВЕТСТВЕННОСТЬЮ СТРОИТЕЛЬНО-ИНВЕСТИЦИОННАЯ КОРПОРАЦИЯ \"ДЕВЕЛОПМЕНТ-ЮГ\"",
          "ОБЩЕСТВО С ОГРАНИЧЕННОЙ ОТВЕТСТВЕННОСТЬЮ \"УРБАН КОНСТРАКШН\"",
          "ОБЩЕСТВО С ОГРАНИЧЕННОЙ ОТВЕТСТВЕННОСТЬЮ \"УРБАНСТРОЙ\"",
          "ОБЩЕСТВО С ОГРАНИЧЕННОЙ ОТВЕТСТВЕННОСТЬЮ \"ФАСАДСТРОЙСЕРВИС\"",
          "ОБЩЕСТВО С ОГРАНИЧЕННОЙ ОТВЕТСТВЕННОСТЬЮ \"ДЕЛЬТА\"",
          "ОБЩЕСТВО С ОГРАНИЧЕННОЙ ОТВЕТСТВЕННОСТЬЮ \"ЭЛТОНСТРОЙ\"",
          "ОБЩЕСТВО С ОГРАНИЧЕННОЙ ОТВЕТСТВЕННОСТЬЮ \"ЭЛИТСТРОЙ\"",
          "ОБЩЕСТВО С ОГРАНИЧЕННОЙ ОТВЕТСТВЕННОСТЬЮ \"СПЕЦМОНТАЖСТРОЙ\"",
          "ОБЩЕСТВО С ОГРАНИЧЕННОЙ ОТВЕТСТВЕННОСТЬЮ \"СТРОЙСТИМУЛИДЕЯ\"",
          "ОБЩЕСТВО С ОГРАНИЧЕННОЙ ОТВЕТСТВЕННОСТЬЮ \"СТРОЙТЭКС\"",
          "ОБЩЕСТВО С ОГРАНИЧЕННОЙ ОТВЕТСТВЕННОСТЬЮ \"ОРИОН\"",
          "ОБЩЕСТВО С ОГРАНИЧЕННОЙ ОТВЕТСТВЕННОСТЬЮ \"СТРОИТЕЛЬНАЯ КОМПАНИЯ \"СМП-205\"",
          "ОБЩЕСТВО С ОГРАНИЧЕННОЙ ОТВЕТСТВЕННОСТЬЮ \"СТРОИТЕЛЬНАЯ КОМПАНИЯ \"СИСТЕМА\"",
          "ОБЩЕСТВО С ОГРАНИЧЕННОЙ ОТВЕТСТВЕННОСТЬЮ \"СПЕКТР\"",
          "ОБЩЕСТВО С ОГРАНИЧЕННОЙ ОТВЕТСТВЕННОСТЬЮ \"СТРОИТЕЛЬНЫЕ ТЕХНОЛОГИИ\"",
          "ОБЩЕСТВО С ОГРАНИЧЕННОЙ ОТВЕТСТВЕННОСТЬЮ \"ЕКАТЕРИНБУРГГОРСТРОЙ-ГАРАНТ\"",
          "АКЦИОНЕРНОЕ ОБЩЕСТВО \"МАШОПТТОРГ\"",
          "АКЦИОНЕРНОЕ ОБЩЕСТВО \"МАШОПТТОРГ\"",
          "ОБЩЕСТВО С ОГРАНИЧЕННОЙ ОТВЕТСТВЕННОСТЬЮ \"СТРОИТЕЛЬНАЯ КОМПАНИЯ \"АВАНГАРД\"",
          "ОБЩЕСТВО С ОГРАНИЧЕННОЙ ОТВЕТСТВЕННОСТЬЮ \"ЭКОТЕРМ\"",
          "ОБЩЕСТВО С ОГРАНИЧЕННОЙ ОТВЕТСТВЕННОСТЬЮ \"СТРОИТЕЛЬНАЯ КОМПАНИЯ \"ИСЕТЬ\"",
          "ОБЩЕСТВО С ОГРАНИЧЕННОЙ ОТВЕТСТВЕННОСТЬЮ \"ГУД ВУД\"",
          "АКЦИОНЕРНОЕ ОБЩЕСТВО \"АГРОТЕХИМПОРТ\"",
          "ОБЩЕСТВО С ОГРАНИЧЕННОЙ ОТВЕТСТВЕННОСТЬЮ \" ЭНЕРГОМОНТАЖ\"",
          "ОБЩЕСТВО С ОГРАНИЧЕННОЙ ОТВЕТСТВЕННОСТЬЮ ИНВЕСТИЦИОННО-СТРОИТЕЛЬНАЯ КОМПАНИЯ \"ОМЕГА\"",
          "ОБЩЕСТВО С ОГРАНИЧЕННОЙ ОТВЕТСТВЕННОСТЬЮ \"ИНТЭКС\"",
          "ОБЩЕСТВО С ОГРАНИЧЕННОЙ ОТВЕТСТВЕННОСТЬЮ \"ЭВРИАЛ\"",
          "ОБЩЕСТВО С ОГРАНИЧЕННОЙ ОТВЕТСТВЕННОСТЬЮ \"ПРОЕКТ А\"",
          "ОБЩЕСТВО С ОГРАНИЧЕННОЙ ОТВЕТСТВЕННОСТЬЮ \"ГАРАНТ\"",
          "ОБЩЕСТВО С ОГРАНИЧЕННОЙ ОТВЕТСТВЕННОСТЬЮ \"НОВАЯ СТРОИТЕЛЬНАЯ КОМПАНИЯ ВСК\"",
          "ОБЩЕСТВО С ОГРАНИЧЕННОЙ ОТВЕТСТВЕННОСТЬЮ \"СК ИВЕНТ\"",
          "ОБЩЕСТВО С ОГРАНИЧЕННОЙ ОТВЕТСТВЕННОСТЬЮ \"ЮГСТРОЙ\"",
          "ОБЩЕСТВО С ОГРАНИЧЕННОЙ ОТВЕТСТВЕННОСТЬЮ \"СОЮЗДОРСТРОЙ\"",
          "ОБЩЕСТВО С ОГРАНИЧЕННОЙ ОТВЕТСТВЕННОСТЬЮ \"КОРВЕТ\"",
          "ОБЩЕСТВО С ОГРАНИЧЕННОЙ ОТВЕТСТВЕННОСТЬЮ \"СЕВЕР-ЛЕС\"",
          "ОБЩЕСТВО С ОГРАНИЧЕННОЙ ОТВЕТСТВЕННОСТЬЮ \"СЕВЕР-ЛЕС\"",
          "ОБЩЕСТВО С ОГРАНИЧЕННОЙ ОТВЕТСТВЕННОСТЬЮ \"СК АТЛАНТ\"",
          "ОБЩЕСТВО С ОГРАНИЧЕННОЙ ОТВЕТСТВЕННОСТЬЮ \"ДОМЖИЛСТРОЙ\"",
          "ОБЩЕСТВО С ОГРАНИЧЕННОЙ ОТВЕТСТВЕННОСТЬЮ \"МАРК-СЕРВИС\"",
          "ОБЩЕСТВО С ОГРАНИЧЕННОЙ ОТВЕТСТВЕННОСТЬЮ \"КАПСТРОЙ\"",
          "ОБЩЕСТВО С ОГРАНИЧЕННОЙ ОТВЕТСТВЕННОСТЬЮ \"ВОЛГТРАНССТРОЙ\"",
          "ОБЩЕСТВО С ОГРАНИЧЕННОЙ ОТВЕТСТВЕННОСТЬЮ \"АГРОСНАБ-ЮГ\"",
          "ОБЩЕСТВО С ОГРАНИЧЕННОЙ ОТВЕТСТВЕННОСТЬЮ \"ОРТУС\"",
          "ОБЩЕСТВО С ОГРАНИЧЕННОЙ ОТВЕТСТВЕННОСТЬЮ \"ГРАДСТРОЙ\"",
          "ОБЩЕСТВО С ОГРАНИЧЕННОЙ ОТВЕТСТВЕННОСТЬЮ \"СТРОИТЕЛЬНАЯ КОМПАНИЯ \"ТАЙМЫРСТРОЙМОНТАЖ\"",
          "ОБЩЕСТВО С ОГРАНИЧЕННОЙ ОТВЕТСТВЕННОСТЬЮ СПЕЦИАЛИЗИРОВАННЫЙ ЗАСТРОЙЩИК \"ВЫБОРСТРОЙ ЧЕТЫРЕ\"",
          "ОБЩЕСТВО С ОГРАНИЧЕННОЙ ОТВЕТСТВЕННОСТЬЮ СПЕЦИАЛИЗИРОВАННЫЙ ЗАСТРОЙЩИК \"ВЫБОРСТРОЙ ЧЕТЫРЕ\"",
          "ОБЩЕСТВО С ОГРАНИЧЕННОЙ ОТВЕТСТВЕННОСТЬЮ \"ГЕОМЕХАНИКА\"",
          "ОБЩЕСТВО С ОГРАНИЧЕННОЙ ОТВЕТСТВЕННОСТЬЮ \"СПЕЦИАЛИЗИРОВАННЫЙ ЗАСТРОЙЩИК \"СОЮЗ\"",
          "ЗАКРЫТОЕ АКЦИОНЕРНОЕ ОБЩЕСТВО \"САФОНОВСКИЙ ПРОМКОМБИНАТ\"",
          "ОБЩЕСТВО С ОГРАНИЧЕННОЙ ОТВЕТСТВЕННОСТЬЮ \"ВИТКОМ\"",
          "ОБЩЕСТВО С ОГРАНИЧЕННОЙ ОТВЕТСТВЕННОСТЬЮ \"ТС -СПЕЦСТРОЙ\"",
          "ОБЩЕСТВО С ОГРАНИЧЕННОЙ ОТВЕТСТВЕННОСТЬЮ \"СПЕЦКАПСТРОЙ\"",
          "ОБЩЕСТВО С ОГРАНИЧЕННОЙ ОТВЕТСТВЕННОСТЬЮ \"АРХПРОЕКТ\"",
          "ОБЩЕСТВО С ОГРАНИЧЕННОЙ ОТВЕТСТВЕННОСТЬЮ \"АРХПРОЕКТ\"",
          "ОБЩЕСТВО С ОГРАНИЧЕННОЙ ОТВЕТСТВЕННОСТЬЮ \"МОНОЛИТ-БЕТОН\"",
          "ОБЩЕСТВО С ОГРАНИЧЕННОЙ ОТВЕТСТВЕННОСТЬЮ \"МАТЕРИАЛСТРОЙСЕРВИС\"",
          "ОБЩЕСТВО С ОГРАНИЧЕННОЙ ОТВЕТСТВЕННОСТЬЮ \"СОВРЕМЕННЫЕ ТЕХНОЛОГИИ\"",
          "ОБЩЕСТВО С ОГРАНИЧЕННОЙ ОТВЕТСТВЕННОСТЬЮ \"АПИКО\"",
          "ОБЩЕСТВО С ОГРАНИЧЕННОЙ ОТВЕТСТВЕННОСТЬЮ \"ДОРОЖНО-СТРОИТЕЛЬНАЯ КОМПАНИЯ \"АРСЕНАЛ\"",
          "ОБЩЕСТВО С ОГРАНИЧЕННОЙ ОТВЕТСТВЕННОСТЬЮ \"ИНТЕР-ГРУПП\"",
          "ОБЩЕСТВО С ОГРАНИЧЕННОЙ ОТВЕТСТВЕННОСТЬЮ \"ВОЛОГДАСТРОЙ\"",
          "ОБЩЕСТВО С ОГРАНИЧЕННОЙ ОТВЕТСТВЕННОСТЬЮ \"ПРОМИНБУРГ\"",
          "ОБЩЕСТВО С ОГРАНИЧЕННОЙ ОТВЕТСТВЕННОСТЬЮ \"ТНК\"",
          "ОБЩЕСТВО С ОГРАНИЧЕННОЙ ОТВЕТСТВЕННОСТЬЮ \"СТРОИТЕЛЬНО-МОНТАЖНАЯ КОМПАНИЯ \"ПРАЙД\"",
          "ОБЩЕСТВО С ОГРАНИЧЕННОЙ ОТВЕТСТВЕННОСТЬЮ \"СПЕЦСТРОЙ\"",
          "ОБЩЕСТВО С ОГРАНИЧЕННОЙ ОТВЕТСТВЕННОСТЬЮ \"СТРОИТЕЛЬ\"",
          "ОБЩЕСТВО С ОГРАНИЧЕННОЙ ОТВЕТСТВЕННОСТЬЮ \"СТРОИТЕЛЬ\"",
          "ОБЩЕСТВО С ОГРАНИЧЕННОЙ ОТВЕТСТВЕННОСТЬЮ \"СТРОИТЕЛЬНАЯ КОМПАНИЯ \"СОЮЗ-19\"",
          "ОБЩЕСТВО С ОГРАНИЧЕННОЙ ОТВЕТСТВЕННОСТЬЮ \"КОНТУРЗАВОДСТРОЙ\"",
          "ОБЩЕСТВО С ОГРАНИЧЕННОЙ ОТВЕТСТВЕННОСТЬЮ \"ЛИПЕЦККОМПЛЕКССТРОЙ\"",
          "ОБЩЕСТВО С ОГРАНИЧЕННОЙ ОТВЕТСТВЕННОСТЬЮ \"АГРОСТРОЙ\"",
          "ОБЩЕСТВО С ОГРАНИЧЕННОЙ ОТВЕТСТВЕННОСТЬЮ \"АНТАРЕС\"",
          "ОБЩЕСТВО С ОГРАНИЧЕННОЙ ОТВЕТСТВЕННОСТЬЮ \"РСБ КОНСТРАКШН\"",
          "ОБЩЕСТВО С ОГРАНИЧЕННОЙ ОТВЕТСТВЕННОСТЬЮ \"ПРОФСТРОЙ\"",
          "ОБЩЕСТВО С ОГРАНИЧЕННОЙ ОТВЕТСТВЕННОСТЬЮ \"ПРОМЖИЛСТРОЙ РСО-АЛАНИЯ\"",
          "ОБЩЕСТВО С ОГРАНИЧЕННОЙ ОТВЕТСТВЕННОСТЬЮ \"РУСРЕГИОНСТРОЙ\"",
          "ОБЩЕСТВО С ОГРАНИЧЕННОЙ ОТВЕТСТВЕННОСТЬЮ \"ССК\"",
          "ОБЩЕСТВО С ОГРАНИЧЕННОЙ ОТВЕТСТВЕННОСТЬЮ \"СПЕЦСТРОЙ\"",
          "ОБЩЕСТВО С ОГРАНИЧЕННОЙ ОТВЕТСТВЕННОСТЬЮ \"НЕФТЬМОНТАЖ\"",
          "ОБЩЕСТВО С ОГРАНИЧЕННОЙ ОТВЕТСТВЕННОСТЬЮ \"СЕЛЬСТРОЙ\"",
          "ОБЩЕСТВО С ОГРАНИЧЕННОЙ ОТВЕТСТВЕННОСТЬЮ \"КРАНОМОНТАЖ\"",
          "ОБЩЕСТВО С ОГРАНИЧЕННОЙ ОТВЕТСТВЕННОСТЬЮ \"СПЕЦИАЛИЗИРОВАННЫЙ ЗАСТРОЙЩИК \"ДАЛЬНЕВОСТОЧНАЯ СТРОИТЕЛЬНАЯ КОМПАНИЯ\"",
          "ОБЩЕСТВО С ОГРАНИЧЕННОЙ ОТВЕТСТВЕННОСТЬЮ \"РЕМСПЕЦСТРОЙ\"",
          "ОБЩЕСТВО С ОГРАНИЧЕННОЙ ОТВЕТСТВЕННОСТЬЮ ТОРГОВЫЙ ДОМ \"БЮРО ПОГОДЫ\"",
          "ОБЩЕСТВО С ОГРАНИЧЕННОЙ ОТВЕТСТВЕННОСТЬЮ ТОРГОВЫЙ ДОМ \"БЮРО ПОГОДЫ\"",
          "ОБЩЕСТВО С ОГРАНИЧЕННОЙ ОТВЕТСТВЕННОСТЬЮ \"МК-ВМР\"",
          "ОБЩЕСТВО С ОГРАНИЧЕННОЙ ОТВЕТСТВЕННОСТЬЮ СК \"БЕЛГОРСТРОЙ\"",
          "ОБЩЕСТВО С ОГРАНИЧЕННОЙ ОТВЕТСТВЕННОСТЬЮ \"СТРОЙРЕГИОН\"",
          "ОБЩЕСТВО С ОГРАНИЧЕННОЙ ОТВЕТСТВЕННОСТЬЮ \"СЕНА\"",
          "ОБЩЕСТВО С ОГРАНИЧЕННОЙ ОТВЕТСТВЕННОСТЬЮ \"БЕЛСТРОЙПЛЮС\"",
          "ОБЩЕСТВО С ОГРАНИЧЕННОЙ ОТВЕТСТВЕННОСТЬЮ \"РЕМСТРОЙ\"",
          "ОБЩЕСТВО С ОГРАНИЧЕННОЙ ОТВЕТСТВЕННОСТЬЮ \"КРЫМИНВЕСТПРОЕКТ\"",
          "АКЦИОНЕРНОЕ ОБЩЕСТВО \"СПЕЦИАЛИЗИРОВАННЫЙ ЗАСТРОЙЩИК \"ИНКОСТ\"",
          "ОБЩЕСТВО С ОГРАНИЧЕННОЙ ОТВЕТСТВЕННОСТЬЮ \"ТБН-ТЕПЛОСТРОЙ\"",
          "ОБЩЕСТВО С ОГРАНИЧЕННОЙ ОТВЕТСТВЕННОСТЬЮ \"СТРОИТЕЛЬНОЕ УПРАВЛЕНИЕ №7\"",
          "ОБЩЕСТВО С ОГРАНИЧЕННОЙ ОТВЕТСТВЕННОСТЬЮ \"СТРОЙТЕК\"",
          "ОБЩЕСТВО С ОГРАНИЧЕННОЙ ОТВЕТСТВЕННОСТЬЮ \"СПЕЦИАЛИЗИРОВАННЫЙ ЗАСТРОЙЩИК \"ИНКО И К\"",
          "ОБЩЕСТВО С ОГРАНИЧЕННОЙ ОТВЕТСТВЕННОСТЬЮ \"ОБЪЕДИНЕННАЯ СТРОИТЕЛЬНАЯ КОМПАНИЯ\"",
          "ОБЩЕСТВО С ОГРАНИЧЕННОЙ ОТВЕТСТВЕННОСТЬЮ \"СПЕЦИАЛИЗИРОВАННЫЙ ЗАСТРОЙЩИК \"ВЕСТА-2001\"",
          "ОБЩЕСТВО С ОГРАНИЧЕННОЙ ОТВЕТСТВЕННОСТЬЮ \"ЮНИСТРОЙ\"",
          "ОБЩЕСТВО С ОГРАНИЧЕННОЙ ОТВЕТСТВЕННОСТЬЮ ПКФ \"КАДОРО\"",
          "ОБЩЕСТВО С ОГРАНИЧЕННОЙ ОТВЕТСТВЕННОСТЬЮ \"СТРОЙЭКСПЕРТ\"",
          "ОБЩЕСТВО С ОГРАНИЧЕННОЙ ОТВЕТСТВЕННОСТЬЮ СТРОИТЕЛЬНО-МОНТАЖНЫЙ ТРЕСТ \"ЭЛЕКТРОЩИТ\"",
          "ОБЩЕСТВО С ОГРАНИЧЕННОЙ ОТВЕТСТВЕННОСТЬЮ \"СТРОИТЕЛЬНО-МОНТАЖНЫЙ ПОЕЗД №398\"",
          "ОБЩЕСТВО С ОГРАНИЧЕННОЙ ОТВЕТСТВЕННОСТЬЮ \"ИВЕНТ ГРУПП\"",
          "ОБЩЕСТВО С ОГРАНИЧЕННОЙ ОТВЕТСТВЕННОСТЬЮ \"ТРАНС СТРОЙ\"",
          "ОБЩЕСТВО С ОГРАНИЧЕННОЙ ОТВЕТСТВЕННОСТЬЮ \"АЛК++КОМПАНИ\"",
          "ОБЩЕСТВО С ОГРАНИЧЕННОЙ ОТВЕТСТВЕННОСТЬЮ \"СПЕЦТЕХНОЛОГИИ\"",
          "ОБЩЕСТВО С ОГРАНИЧЕННОЙ ОТВЕТСТВЕННОСТЬЮ \"СТРОИТЕЛЬНО-МОНТАЖНОЕ ЭЛЕКТРОТЕХНИЧЕСКОЕ УПРАВЛЕНИЕ\"",
          "ОБЩЕСТВО С ОГРАНИЧЕННОЙ ОТВЕТСТВЕННОСТЬЮ СПЕЦИАЛИЗИРОВАННЫЙ ЗАСТРОЙЩИК \"ЭЛИН СТРОЙ ДОН\"",
          "ОБЩЕСТВО С ОГРАНИЧЕННОЙ ОТВЕТСТВЕННОСТЬЮ \"СТРОИТЕЛЬНОЕ УПРАВЛЕНИЕ 107\"",
          "ОБЩЕСТВО С ОГРАНИЧЕННОЙ ОТВЕТСТВЕННОСТЬЮ \"ГЕНСТРОЙ\"",
          "ОБЩЕСТВО С ОГРАНИЧЕННОЙ ОТВЕТСТВЕННОСТЬЮ \"ВИКАРА\"",
          "ОБЩЕСТВО С ОГРАНИЧЕННОЙ ОТВЕТСТВЕННОСТЬЮ \"ДСМ\"",
          "ОБЩЕСТВО С ОГРАНИЧЕННОЙ ОТВЕТСТВЕННОСТЬЮ \"ТРЕСТ 7\"",
          "ОБЩЕСТВО С ОГРАНИЧЕННОЙ ОТВЕТСТВЕННОСТЬЮ \"ЛЕТО КРУГЛЫЙ ГОД\"",
          "ОБЩЕСТВО С ОГРАНИЧЕННОЙ ОТВЕТСТВЕННОСТЬЮ СТРОИТЕЛЬНАЯ КОМПАНИЯ \"ДОКА\"",
          "ОБЩЕСТВО С ОГРАНИЧЕННОЙ ОТВЕТСТВЕННОСТЬЮ \"ТСК +\"",
          "ОБЩЕСТВО С ОГРАНИЧЕННОЙ ОТВЕТСТВЕННОСТЬЮ \"ТРОЙКА КОНСТРАКШН\"",
          "ОБЩЕСТВО С ОГРАНИЧЕННОЙ ОТВЕТСТВЕННОСТЬЮ \"МЕХАНИЗИРОВАННАЯ КОЛОННА №1\"",
          "ОБЩЕСТВО С ОГРАНИЧЕННОЙ ОТВЕТСТВЕННОСТЬЮ \"ДОРСТРОЙ\"",
          "ОБЩЕСТВО С ОГРАНИЧЕННОЙ ОТВЕТСТВЕННОСТЬЮ \"РЕГИОН\"",
          "ОБЩЕСТВО С ОГРАНИЧЕННОЙ ОТВЕТСТВЕННОСТЬЮ \"МОСОБЛИНТЕРСТРОЙ\"",
          "ОБЩЕСТВО С ОГРАНИЧЕННОЙ ОТВЕТСТВЕННОСТЬЮ \"КПД - КАЛИНИНГРАД\"",
          "ОБЩЕСТВО С ОГРАНИЧЕННОЙ ОТВЕТСТВЕННОСТЬЮ СТРОИТЕЛЬНОЕ УПРАВЛЕНИЕ \"УРАЛДОМСТРОЙ\"",
          "ОБЩЕСТВО С ОГРАНИЧЕННОЙ ОТВЕТСТВЕННОСТЬЮ СПЕЦИАЛИЗИРОВАННЫЙ ЗАСТРОЙЩИК \"УНИСТРОЙРЕГИОН\"",
          "ОБЩЕСТВО С ОГРАНИЧЕННОЙ ОТВЕТСТВЕННОСТЬЮ \"ПГП-СТРОЙ\"",
          "ОБЩЕСТВО С ОГРАНИЧЕННОЙ ОТВЕТСТВЕННОСТЬЮ \"ЮЖНАЯ ПРОМЫШЛЕННО-СТРОИТЕЛЬНАЯ КОМПАНИЯ\"",
          "ОБЩЕСТВО С ОГРАНИЧЕННОЙ ОТВЕТСТВЕННОСТЬЮ \"ВОРОНЕЖСТРОЙРЕКОНСТРУКЦИЯ\"",
          "ОБЩЕСТВО С ОГРАНИЧЕННОЙ ОТВЕТСТВЕННОСТЬЮ \"ВОРОНЕЖСТРОЙРЕКОНСТРУКЦИЯ\"",
          "ОБЩЕСТВО С ОГРАНИЧЕННОЙ ОТВЕТСТВЕННОСТЬЮ \"ИМПУЛЬС\"",
          "ОБЩЕСТВО С ОГРАНИЧЕННОЙ ОТВЕТСТВЕННОСТЬЮ \"ТЮМЕНЬ-ИНЖИНИРИНГ\"",
          "ОБЩЕСТВО С ОГРАНИЧЕННОЙ ОТВЕТСТВЕННОСТЬЮ \"АУДИТПРОЕКТ ПРИ РГРТУ\"",
          "ОБЩЕСТВО С ОГРАНИЧЕННОЙ ОТВЕТСТВЕННОСТЬЮ \"МАКСДОНСТРОЙ\"",
          "ОБЩЕСТВО С ОГРАНИЧЕННОЙ ОТВЕТСТВЕННОСТЬЮ \"МЕХАНИЗИРОВАННАЯ КОЛОННА №8\"",
          "ОБЩЕСТВО С ОГРАНИЧЕННОЙ ОТВЕТСТВЕННОСТЬЮ \"СТРОИТЕЛЬНОЕ МОНТАЖНОЕ УПРАВЛЕНИЕ \"ВОЛОГДАГРАЖДАНСТРОЙ\"",
          "ОБЩЕСТВО С ОГРАНИЧЕННОЙ ОТВЕТСТВЕННОСТЬЮ \"БРУСНИКА. КОНВЕЙЕР ПРОИЗВОДСТВА\"",
          "ОБЩЕСТВО С ОГРАНИЧЕННОЙ ОТВЕТСТВЕННОСТЬЮ \"СПЕЦИАЛИЗИРОВАННЫЙ ЗАСТРОЙЩИК \"СТРОИТЕЛЬНАЯ ФИРМА \"ПСК-6\"",
          "ОБЩЕСТВО С ОГРАНИЧЕННОЙ ОТВЕТСТВЕННОСТЬЮ \"СТРОИТЕЛЬНАЯ КОМПАНИЯ \"РЕГИОНАЛЬНЫЙ ПРОЕКТ\"",
          "ОБЩЕСТВО С ОГРАНИЧЕННОЙ ОТВЕТСТВЕННОСТЬЮ \"СТРОИТЕЛЬНАЯ КОМПАНИЯ \"РЕГИОНАЛЬНЫЙ ПРОЕКТ\"",
          "ОБЩЕСТВО С ОГРАНИЧЕННОЙ ОТВЕТСТВЕННОСТЬЮ \"ДСМ\"",
          "ОБЩЕСТВО С ОГРАНИЧЕННОЙ ОТВЕТСТВЕННОСТЬЮ \"ЛИТАНА\"",
          "ОБЩЕСТВО С ОГРАНИЧЕННОЙ ОТВЕТСТВЕННОСТЬЮ ДСК \"СТРОЙМЕХАНИЗАЦИЯ\"",
          "ОБЩЕСТВО С ОГРАНИЧЕННОЙ ОТВЕТСТВЕННОСТЬЮ \"УРАЛНЕФТЬСПЕЦМОНТАЖ\"",
          "ОБЩЕСТВО С ОГРАНИЧЕННОЙ ОТВЕТСТВЕННОСТЬЮ \"ГИДРО-ТЕРМ\"",
          "ОБЩЕСТВО С ОГРАНИЧЕННОЙ ОТВЕТСТВЕННОСТЬЮ \"СИБПРОМСТРОЙ №9\"",
          "ОБЩЕСТВО С ОГРАНИЧЕННОЙ ОТВЕТСТВЕННОСТЬЮ \"ТВЕРЬ-ГРАНД\"",
          "ОБЩЕСТВО С ОГРАНИЧЕННОЙ ОТВЕТСТВЕННОСТЬЮ \"АЛЬЯНССТРОЙПОДРЯД\"",
          "ОБЩЕСТВО С ОГРАНИЧЕННОЙ ОТВЕТСТВЕННОСТЬЮ \"САНТЭЛС\"",
          "ОБЩЕСТВО С ОГРАНИЧЕННОЙ ОТВЕТСТВЕННОСТЬЮ \"ЭЛЕКТРОСТРОЙСЕРВИС\"",
          "ОБЩЕСТВО С ОГРАНИЧЕННОЙ ОТВЕТСТВЕННОСТЬЮ СТРОИТЕЛЬНАЯ КОМПАНИЯ \"САЛЬВИЯ\"",
          "ОБЩЕСТВО С ОГРАНИЧЕННОЙ ОТВЕТСТВЕННОСТЬЮ \"СТРОИТЕЛЬНО МОНТАЖНОЕ ПРЕДПРИЯТИЕ-3000\"",
          "ОБЩЕСТВО С ОГРАНИЧЕННОЙ ОТВЕТСТВЕННОСТЬЮ \"НОВОСТРОЙ\"",
          "ОБЩЕСТВО С ОГРАНИЧЕННОЙ ОТВЕТСТВЕННОСТЬЮ ПРОИЗВОДСТВЕННО-СТРОИТЕЛЬНАЯ КОМПАНИЯ \"КРАСПРОМСТРОЙ\"",
          "ОБЩЕСТВО С ОГРАНИЧЕННОЙ ОТВЕТСТВЕННОСТЬЮ \"ЭНЕРГИЯ\"",
          "ОБЩЕСТВО С ОГРАНИЧЕННОЙ ОТВЕТСТВЕННОСТЬЮ \"СОЮЗРУССТРОЙ\"",
          "ОБЩЕСТВО С ОГРАНИЧЕННОЙ ОТВЕТСТВЕННОСТЬЮ \"СТРОИТЕЛЬНАЯ КОМПАНИЯ \"ЛИДЕР\"",
          "ОБЩЕСТВО С ОГРАНИЧЕННОЙ ОТВЕТСТВЕННОСТЬЮ \"ГРАНЬ ЖИЛСТРОЙ\"",
          "ОБЩЕСТВО С ОГРАНИЧЕННОЙ ОТВЕТСТВЕННОСТЬЮ \"ЭНЕРГОСТРОЙПРОЕКТ\"",
          "ОБЩЕСТВО С ОГРАНИЧЕННОЙ ОТВЕТСТВЕННОСТЬЮ \"СТРОЙ-ПРОГРЕСС\"",
          "ОБЩЕСТВО С ОГРАНИЧЕННОЙ ОТВЕТСТВЕННОСТЬЮ \"ГАТЧИНСКАЯ СТРОИТЕЛЬНО-МОНТАЖНАЯ КОМПАНИЯ\"",
          "ОБЩЕСТВО С ОГРАНИЧЕННОЙ ОТВЕТСТВЕННОСТЬЮ \"МЕГАСТРОЙ\"",
          "ОБЩЕСТВО С ОГРАНИЧЕННОЙ ОТВЕТСТВЕННОСТЬЮ \"АГРАРНОЕ СТРОИТЕЛЬСТВО И ТЕХНОЛОГИИ\"",
          "АКЦИОНЕРНОЕ ОБЩЕСТВО \"ТРАНС-СЕВЕР\"",
          "ОБЩЕСТВО С ОГРАНИЧЕННОЙ ОТВЕТСТВЕННОСТЬЮ \"ТИС\"",
          "ОБЩЕСТВО С ОГРАНИЧЕННОЙ ОТВЕТСТВЕННОСТЬЮ \"ГРАНИТ\"",
          "ОБЩЕСТВО С ОГРАНИЧЕННОЙ ОТВЕТСТВЕННОСТЬЮ \"ВТОРОЕ РОСТОВСКОЕ МОНТАЖНОЕ ПРЕДПРИЯТИЕ \"ЮЖТЕХМОНТАЖ\"",
          "ОБЩЕСТВО С ОГРАНИЧЕННОЙ ОТВЕТСТВЕННОСТЬЮ \"ЕКАТЕРИНБУРГСКАЯ СТРОИТЕЛЬНАЯ КОМПАНИЯ\"",
          "ОБЩЕСТВО С ОГРАНИЧЕННОЙ ОТВЕТСТВЕННОСТЬЮ \"САПФИР\"",
          "ЗАКРЫТОЕ АКЦИОНЕРНОЕ ОБЩЕСТВО \"МОСОБЛСПЕЦСТРОЙ. ПМК-502\"",
          "ОБЩЕСТВО С ОГРАНИЧЕННОЙ ОТВЕТСТВЕННОСТЬЮ \"ПРОИЗВОДСТВЕННОЕ ОБЪЕДИНЕНИЕ \"ТАТКОММУНЖИЛСЕРВИС\"",
          "ОБЩЕСТВО С ОГРАНИЧЕННОЙ ОТВЕТСТВЕННОСТЬЮ \"ТЕХНОЛЕГИОН\"",
          "ОБЩЕСТВО С ОГРАНИЧЕННОЙ ОТВЕТСТВЕННОСТЬЮ  ИСК \"РЕГИОН\"",
          "ОБЩЕСТВО С ОГРАНИЧЕННОЙ ОТВЕТСТВЕННОСТЬЮ \"ВОЛГАСТРОЙИНВЕСТ\"",
          "ОБЩЕСТВО С ОГРАНИЧЕННОЙ ОТВЕТСТВЕННОСТЬЮ \"ПЕРЕСТРОЙ-КА!\"",
          "ОБЩЕСТВО С ОГРАНИЧЕННОЙ ОТВЕТСТВЕННОСТЬЮ \"ПРОМСТРОЙМОНТАЖ\"",
          "ОБЩЕСТВО С ОГРАНИЧЕННОЙ ОТВЕТСТВЕННОСТЬЮ \"ИНЖЕНЕРНЫЕ ТЕХНОЛОГИИ\"",
          "ОБЩЕСТВО С ОГРАНИЧЕННОЙ ОТВЕТСТВЕННОСТЬЮ \"ЭКСПОНЕНТАМ\"",
          "ОБЩЕСТВО С ОГРАНИЧЕННОЙ ОТВЕТСТВЕННОСТЬЮ \"ГРУППА МОНОЛИТ СТРОЙ\"",
          "ОБЩЕСТВО С ОГРАНИЧЕННОЙ ОТВЕТСТВЕННОСТЬЮ \"РЕМСТРОЙ-КОМПЛЕКС\"",
          "ОБЩЕСТВО С ОГРАНИЧЕННОЙ ОТВЕТСТВЕННОСТЬЮ \"ТЕПЛОСФЕРА\"",
          "ОБЩЕСТВО С ОГРАНИЧЕННОЙ ОТВЕТСТВЕННОСТЬЮ \"МОНТАЖНАЯ КОМПАНИЯ ВОСТОКМЕТАЛЛУРГМОНТАЖ\"",
          "ОБЩЕСТВО С ОГРАНИЧЕННОЙ ОТВЕТСТВЕННОСТЬЮ \"РОСТТЕХСТРОЙ\"",
          "ОБЩЕСТВО С ОГРАНИЧЕННОЙ ОТВЕТСТВЕННОСТЬЮ \"ГРУППА КОМПАНИЙ ВОЗРОЖДЕНИЕ\"",
          "ОБЩЕСТВО С ОГРАНИЧЕННОЙ ОТВЕТСТВЕННОСТЬЮ \"ВЫСОКИЕ СТАНДАРТЫ КАЧЕСТВА СТРОИТЕЛЬСТВА\"",
          "ОБЩЕСТВО С ОГРАНИЧЕННОЙ ОТВЕТСТВЕННОСТЬЮ \"КАМТЕХСТРОЙ-НК\"",
          "ОБЩЕСТВО С ОГРАНИЧЕННОЙ ОТВЕТСТВЕННОСТЬЮ \"ИНДУСТРИЯ РАЗВИТИЯ\"",
          "ОБЩЕСТВО С ОГРАНИЧЕННОЙ ОТВЕТСТВЕННОСТЬЮ \"СЕРВИС-ЭНЕРГО\"",
          "ОБЩЕСТВО С ОГРАНИЧЕННОЙ ОТВЕТСТВЕННОСТЬЮ \"ГЕФЕСТ\"",
          "ОБЩЕСТВО С ОГРАНИЧЕННОЙ ОТВЕТСТВЕННОСТЬЮ \"СФЕРА\"",
          "АКЦИОНЕРНОЕ ОБЩЕСТВО \"НОВАЯ ТЕХНОЛОГИЯ\"",
          "ОБЩЕСТВО С ОГРАНИЧЕННОЙ ОТВЕТСТВЕННОСТЬЮ СТРОИТЕЛЬНАЯ КОМПАНИЯ \"ТЕХНО\"",
          "ОБЩЕСТВО С ОГРАНИЧЕННОЙ ОТВЕТСТВЕННОСТЬЮ \"ИРКУТСКИЕ БУРОВЫЕ РАБОТЫ\"",
          "ОБЩЕСТВО С ОГРАНИЧЕННОЙ ОТВЕТСТВЕННОСТЬЮ \"ЧЕРНОМОРСКАЯ ФИНАНСОВАЯ КОМПАНИЯ\"",
          "ОБЩЕСТВО С ОГРАНИЧЕННОЙ ОТВЕТСТВЕННОСТЬЮ \"УДАРНИК\"",
          "ОБЩЕСТВО С ОГРАНИЧЕННОЙ ОТВЕТСТВЕННОСТЬЮ \"ВЕКТОР 21\"",
          "ОБЩЕСТВО С ОГРАНИЧЕННОЙ ОТВЕТСТВЕННОСТЬЮ \"СПЕЦИАЛИЗИРОВАННЫЙ ЗАСТРОЙЩИК \"БАСТИОН\"",
          "ОБЩЕСТВО С ОГРАНИЧЕННОЙ ОТВЕТСТВЕННОСТЬЮ \"МЕТАЛПРОМГРАЖДАНСТРОЙ\"",
          "ОБЩЕСТВО С ОГРАНИЧЕННОЙ ОТВЕТСТВЕННОСТЬЮ ПРОИЗВОДСТВЕННО-СТРОИТЕЛЬНАЯ ФИРМА \"Д-АРТ\""
         ],
         "lat": [
          48.74824972860912,
          57.58309850396293,
          55.087203059733696,
          55.87058143811191,
          58.01991349607775,
          55.82078370447568,
          54.21906573918635,
          43.23763165081521,
          43.35382081352986,
          55.84398074000054,
          55.0089701031366,
          51.569211144098006,
          55.83135345022553,
          55.66264715596395,
          42.758140320357086,
          43.65830918502341,
          55.784364878594985,
          55.76989165862911,
          53.47640195646773,
          45.088568581864294,
          55.98778888582398,
          55.19029510809787,
          56.86807079419723,
          48.75108738928532,
          55.78230639280889,
          56.8017154524489,
          56.09303363913777,
          55.837342595997306,
          54.34204311698591,
          55.77979498279794,
          55.83273393389957,
          51.81589700647937,
          51.692683157781936,
          56.23084293708786,
          55.42366904836387,
          51.56984581500483,
          46.92534811463048,
          50.3004001355502,
          44.777242303488514,
          55.782441475350375,
          55.40829079285477,
          44.516276425134585,
          55.14031843400514,
          55.914118476864346,
          47.013749147090174,
          45.01861130382492,
          56.87593344294954,
          54.60692535143447,
          56.045819758421345,
          55.07297204818764,
          56.867084554963355,
          43.14762391196265,
          55.837183910102645,
          53.35412922152195,
          54.745537762785276,
          64.6003411198338,
          55.917594369546805,
          47.19259666368741,
          56.79249506394139,
          55.96124239997295,
          43.565832303075894,
          54.738040259663286,
          59.26399519364215,
          52.6331521909199,
          55.76474994824952,
          45.08268014488927,
          54.927637909786704,
          53.3412051791399,
          55.754165947265484,
          44.99579973422004,
          55.98132560843053,
          45.02501175451475,
          55.47444444246072,
          54.14259932006406,
          55.41558196176804,
          57.18389714517241,
          54.772352747868325,
          46.9902634069123,
          42.79915667799843,
          56.85027646473869,
          54.23278599040077,
          53.2360890746235,
          52.00533010701986,
          54.791120479076035,
          55.812329863015556,
          55.12868347216266,
          52.318693677950556,
          43.17557603221295,
          59.23334090528465,
          54.783260237098325,
          55.63333258969622,
          54.77107633340707,
          55.0010251243888,
          48.67470651516553,
          45.052193418001366,
          58.63510167387963,
          56.7875740098743,
          56.81025260923414,
          56.50076576907478,
          56.85140686492613,
          59.231518359168824,
          53.5768075862117,
          44.97103982634426,
          45.08716744162731,
          44.07971241112556,
          52.08720849972448,
          55.01041109213144,
          56.17870005585298,
          46.98509590308076,
          55.075823096968755,
          55.051935934782605,
          55.18529425439812,
          43.651265698034294,
          62.01359827100939,
          54.60232203193927,
          54.87247404132684,
          54.6975891340064,
          56.85499378426827,
          55.844375630675245,
          61.271911821630695,
          54.954272775252775,
          51.64064144169589,
          51.81836364220878,
          56.79652475726128,
          43.379079306734454,
          54.148992259069715,
          55.60067006623473,
          61.29646108713104,
          54.71729036807058,
          56.87213544910445,
          44.99418781292574,
          53.240519573410054,
          56.85319701495581,
          57.16637060301403,
          57.666882244717925,
          55.01822434470711,
          52.7440060346825,
          55.05859391300834,
          57.76782460375865,
          44.771383473302045,
          56.88551762689575,
          43.353420154056465,
          60.076044583425464,
          55.91242210690683,
          59.26286328332585,
          53.19110810184464,
          56.873763161942314,
          55.76080527021741,
          58.02727144019924,
          55.74753586223518,
          54.18640444874721,
          48.67841326608815,
          55.78482540357357,
          45.09008388855132,
          55.57979711140627,
          52.62889368981391,
          54.77719415622413,
          55.49693012268854,
          51.74562771646015,
          51.64691026129541,
          51.7688011149618,
          56.02499305107942,
          44.977727505824056,
          55.84038633631473,
          54.762161981095666,
          66.50596282474797,
          58.03098507276306,
          54.99910208778228,
          58.03275590588377,
          60.0596941056102,
          56.798998161714046,
          55.85344923347049,
          52.5553632560364,
          56.155203151946935,
          56.797684147709205,
          56.88183138978613,
          51.5539059587046,
          55.840060051325594,
          56.031342620727756,
          56.013408125156474,
          50.57064623472725,
          61.739991009815434,
          44.92221533713537,
          55.112237708844944,
          56.15685955070548,
          45.06770476786201,
          61.827698916484124,
          55.97992093845006,
          55.12117909056169,
          56.8222784175067,
          54.75679833052044,
          55.33363252544728,
          45.0645082779404,
          51.79946109449571,
          51.64606215851052,
          56.02193080577112,
          55.00817475345355,
          48.84453884604342,
          56.868586989701996,
          45.05371973462381,
          54.563353118870424,
          50.31529128347968,
          54.76876820239168,
          56.79520494195585,
          55.35000287643387,
          55.7860976983728,
          46.984671068403244,
          55.58292990643958,
          54.71803015174988,
          54.80506082941355,
          55.83054995218613,
          56.85197917864782,
          44.96807998067792,
          44.485004307606424,
          44.07310776582099,
          45.05474877033199,
          56.20368625527522,
          56.858806609867145,
          55.42820957512948,
          53.23831550640178,
          54.55526492094331,
          55.38036884558854,
          48.672172278180604,
          55.952325638966066,
          56.858888849904275,
          51.80143717490334,
          48.431867706744654,
          48.73599732450559,
          69.45295920877531,
          54.77378031696223,
          45.02849247556656,
          54.9069416384887,
          55.01366984401271,
          45.06155894422863,
          53.5628571961117,
          52.74374168708231,
          55.139121315717794,
          43.145008637315804,
          55.770639635559746,
          55.81856903734391,
          55.98670872489073,
          51.82824928350065,
          55.49089086364684,
          55.75099205034084,
          54.86179985160219,
          57.182190534164114,
          52.31874300835449,
          56.858894575825914,
          55.75314520174614,
          42.835225253859235,
          53.50219707800765,
          51.527574242498225,
          51.613068889972034,
          51.72092599374459,
          55.07935779305472,
          47.263116735133956,
          45.02997568090975,
          45.00811270979313,
          55.74666659705166,
          43.443935143186856,
          51.75766968713186,
          55.788522061135474,
          52.55604245816345,
          57.18679211124092,
          47.2806884241226,
          54.65264368019974,
          59.15286335334051,
          54.694866043658905,
          54.75349765101962,
          61.997565695367236,
          54.69983856025753,
          57.17311416351094,
          55.074583654860604,
          45.05650234530264,
          55.810934675060096,
          55.07313923852073,
          54.64579801158766,
          56.817734133073415,
          46.30883989525021,
          56.82316638654771,
          63.127656358233324,
          54.86109265320658,
          62.205267650750116,
          43.3454746639476,
          44.664674412416424,
          54.77562456426355,
          53.55771123981505,
          52.2533609955987,
          56.88402033894145,
          51.81692657655589,
          51.61286831941805,
          56.01155860746081,
          52.6512298521029,
          56.864031372065114,
          55.901803245498165,
          56.14185893566589,
          55.07683545527237,
          56.015308922625096,
          55.080221574212466,
          55.94111396837237,
          45.00953578097658,
          55.076644756935316,
          55.870736001920605,
          55.832447131141805,
          44.07291110800103,
          43.64028579425283,
          57.27508191695132,
          54.13821801519334,
          55.44665923704975,
          56.03486416722116,
          51.79068038428903,
          44.63391054302196,
          55.6436834086399,
          48.68568709901675,
          45.08636583006728,
          43.332051965008134,
          56.82278716796094,
          69.37482742741877,
          51.690935503627266,
          51.813013093494234,
          57.02507776763698,
          53.7802486365976,
          55.60451741544911,
          55.88127455082451,
          53.753548762195784,
          45.08435946529459,
          55.52897649546739,
          54.06495103699715,
          44.987663295210915,
          55.01088826428373,
          57.61080234936545,
          55.404427346073284,
          58.038984521550574,
          54.356958688221624,
          59.24531913514411,
          55.207350862906765,
          58.0101010890318,
          56.78783116642285,
          55.83101070800605,
          51.70820745724464,
          51.79857437864716,
          54.93824621069436,
          55.81567998190512,
          52.63074748005021,
          56.210662278065826,
          56.84798049859965,
          55.536087858642176,
          54.69496114871425,
          42.99645042620263,
          59.15087306336741,
          54.53328238144776,
          53.34609120513953,
          61.286543436409836,
          56.829103146684865,
          55.02347919239302,
          50.30108223894411,
          53.76288252300669,
          51.7805611838825,
          51.6168677996029,
          55.38900301451778,
          50.54971072054783,
          54.53236156512328,
          50.61205082293085,
          50.63137201069244,
          59.60551983926555,
          44.53731341888555,
          56.10041685656495,
          43.01556014796689,
          51.80579917359428,
          54.771003603509335,
          57.20436255153693,
          54.76583764735893,
          55.838449450869604,
          55.94785690999627,
          53.140145377906215,
          44.93093641639941,
          53.217211262226016,
          51.85643182679336,
          55.83003567336716,
          56.814079491555525,
          43.63934321957378,
          46.38411262547173,
          54.501020465667665,
          44.09962911606726,
          48.45497933970905,
          57.16673915654386,
          55.76220536985031,
          55.43508989901499,
          51.50659691216654,
          55.9073505948283,
          55.89630387755189,
          62.00008371014761,
          55.703102013716254,
          52.31664352587847,
          52.08257298330414,
          48.496249354456495,
          55.58673946527104,
          54.75564073334417,
          56.884115209752885,
          53.57320585324972,
          57.9536451580669,
          43.336867217017776,
          51.807708789420246,
          51.69033812322935,
          55.93652867707281,
          57.19192582300072,
          54.646002260114585,
          47.27035722315526,
          53.684857260509816,
          59.243302519239684,
          56.85935796321316,
          54.76103593559627,
          51.79387363185157,
          51.67699405910057,
          43.101425719339545,
          54.67536225448107,
          56.82031910798932,
          54.71687742311546,
          55.93589764458014,
          61.304170334987234,
          56.81874012618978,
          53.399318661045456,
          57.004089487896444,
          53.501455751154715,
          54.77287876834846,
          55.9132544564316,
          58.13583386387553,
          56.045607578435636,
          45.014927253899955,
          53.21307811048627,
          54.93000641984258,
          55.81783929620187,
          56.865134090245704,
          54.71490460948149,
          59.52214124772717,
          52.58009907200216,
          43.33376929597254,
          54.168673543358516,
          55.170692553449896,
          55.005761759800514,
          47.27833555322997,
          56.8031798039829,
          54.15386514195034,
          55.76341800059761,
          55.77832957072956,
          48.489111163974826,
          54.666773210065685,
          55.83895438073227,
          57.13395669192416,
          52.75469030608871,
          56.86338527392701,
          45.01295676348721,
          55.776025865748075,
          48.69421171858811,
          52.616430070860474,
          56.91274925622928,
          43.57266877587896,
          54.211252801313286,
          55.013756925468876,
          55.819484456247544,
          44.984956719353505,
          61.0810550311901,
          53.22333843705217,
          55.84519319166173,
          57.197613514392145,
          53.42874798865306,
          52.299917629673025,
          45.071044022014,
          59.19344904818919,
          53.19156986288689,
          51.764916965061346,
          54.706350999364545,
          54.7355
         ],
         "legendgroup": "",
         "lon": [
          44.53480972860911,
          39.81862950396293,
          82.9757910597337,
          37.39581143811191,
          56.25802349607775,
          49.132444704475674,
          45.13800526081366,
          44.74570134918479,
          45.62641118647014,
          49.15564174000053,
          82.8975581031366,
          45.998606855902,
          37.335356549774474,
          37.85978615596395,
          132.8355023203571,
          39.76919818502341,
          37.309594878594986,
          49.08155265862911,
          59.06549904353226,
          38.93422041813571,
          38.02706211417602,
          61.43298610809787,
          60.627100794197226,
          44.53764738928531,
          49.093967392808885,
          60.5607454524489,
          47.199612639137776,
          49.06739640400269,
          48.406214116985915,
          49.09145598279793,
          49.14439493389956,
          33.42501599352064,
          39.23007515778194,
          36.93215906291214,
          37.72604904836387,
          45.99797218499517,
          142.69606511463047,
          127.5086818644498,
          39.86245569651148,
          49.09410247535037,
          37.528079792854776,
          34.188593425134584,
          36.66430943400513,
          37.47048847686435,
          142.01259014709018,
          38.95710230382492,
          60.634963442949534,
          39.72083635143447,
          92.93015875842133,
          82.96156004818764,
          60.62611455496335,
          131.90689608803734,
          37.362413910102646,
          34.256900778478055,
          20.47602823721472,
          39.88027111983381,
          37.473964369546806,
          39.67440766368741,
          60.551525063941384,
          37.71608760002705,
          39.676721303075894,
          20.536418259663286,
          39.82795380635785,
          39.6148841909199,
          49.07641094824952,
          38.940108855110736,
          52.3806489097867,
          83.7465161791399,
          49.06582694726548,
          34.14609873422005,
          92.86566460843052,
          38.96350275451475,
          37.29633644246072,
          61.54798967993594,
          37.535370961768045,
          65.4866918548276,
          55.95512925213168,
          142.7609804069123,
          132.84168132200156,
          60.60930646473869,
          37.58172000959923,
          50.1935470746235,
          113.45852810701986,
          32.05890847907604,
          49.09240913698444,
          61.371374472162664,
          104.35207267795056,
          131.96871203221292,
          39.894809905284646,
          55.94422176290168,
          37.82801558969622,
          55.95640566659293,
          82.8896131243888,
          44.461266515165526,
          38.990684418001365,
          49.623638326120364,
          54.1295120098743,
          60.569282609234136,
          84.92577023092522,
          60.583251135073866,
          39.860430640831176,
          49.3683224137883,
          34.121338826344264,
          39.02565844162731,
          42.88714241112556,
          113.54040649972448,
          82.89899909213145,
          47.28527905585298,
          142.75581290308077,
          82.96441109696876,
          82.9151120652174,
          37.50387425439813,
          39.762154698034294,
          129.7207362710094,
          39.716233031939275,
          52.325485041326836,
          55.9540711340064,
          60.61402378426826,
          49.060363369324755,
          73.4157448216307,
          73.37712477525278,
          39.178033441695895,
          33.52127464220878,
          60.55555475726128,
          46.12525330673446,
          37.57014225906972,
          37.81239806623473,
          73.36169191286895,
          55.97377236807058,
          60.631165449104444,
          38.93267881292574,
          50.19797757341006,
          60.58146098504419,
          65.50421839698598,
          39.828848755282074,
          82.9068123447071,
          41.3944449653175,
          82.90845408699167,
          40.923776603758654,
          37.78683347330204,
          60.54914037310425,
          45.71397015405647,
          30.594987416574536,
          37.46879210690683,
          39.82908571667415,
          50.148566101844644,
          60.560894838057685,
          49.072466270217404,
          56.205176559800755,
          49.059196862235176,
          37.607554448747216,
          44.464973266088144,
          49.096486403573564,
          38.93270511144868,
          38.106157111406276,
          39.61062568981391,
          55.950287843775875,
          37.79931012268854,
          33.44853871646015,
          39.184302261295414,
          36.21341911496181,
          92.86184794892058,
          34.076807494175945,
          37.36561633631473,
          55.965320018904336,
          66.57745782474797,
          56.20146292723694,
          73.36555191221771,
          56.27086590588377,
          30.6678821056102,
          60.55802816171404,
          37.37867923347049,
          103.93323925603642,
          40.435060151946935,
          60.5567141477092,
          60.640861389786124,
          46.0551879587046,
          37.9885890513256,
          92.85549837927223,
          92.87343287484352,
          36.58324623472725,
          34.31987100981543,
          37.30384366286463,
          37.43081770884495,
          47.26343855070548,
          39.00619576786201,
          34.40757891648412,
          92.86425993845005,
          61.36387009056169,
          53.2041184175067,
          20.555176330520442,
          86.01483052544727,
          38.958280722059605,
          33.441451905504294,
          39.18345415851052,
          92.86491019422887,
          82.89676275345356,
          44.85013884604342,
          60.566071010298,
          38.96906926537619,
          36.32009411887042,
          127.57449328347968,
          55.95871379760832,
          60.55423494195585,
          86.03120087643387,
          37.9346266983728,
          142.70856993159674,
          51.76449090643958,
          55.97451215174988,
          83.14495782941356,
          37.95874104781387,
          60.61100917864781,
          34.08645501932208,
          34.15732130760642,
          43.03154123417901,
          38.99323977033199,
          36.959315744724776,
          60.61783660986714,
          65.31684257512947,
          50.195773506401785,
          36.23083407905669,
          43.81329884558854,
          44.4587322781806,
          92.83666463896606,
          60.61791884990427,
          107.56869117490334,
          135.04921870674463,
          44.522557324505584,
          86.22628320877531,
          55.95370168303777,
          38.96698347556656,
          52.3325073615113,
          73.35098415598729,
          38.961230055771374,
          49.3822728038883,
          41.39470931291768,
          61.381812315717795,
          131.9381446373158,
          49.08230063555974,
          49.13023003734391,
          92.87104772489073,
          107.59550328350065,
          37.72230913635316,
          49.062653050340835,
          38.05015885160219,
          65.54288153416411,
          104.35212200835448,
          60.575763424174085,
          49.06480620174614,
          47.590722253859234,
          59.03970392199235,
          46.15796424249823,
          39.15046088997204,
          33.423836993744594,
          82.8876902069453,
          39.744927735133956,
          38.96846668090975,
          38.94660370979313,
          49.05832759705165,
          43.55997414318686,
          94.45315768713186,
          37.93705106113548,
          39.537774458163454,
          65.48379688875909,
          39.667500575877405,
          39.71058731980026,
          37.97826664665949,
          55.9513480436589,
          56.00997965101962,
          129.70470369536721,
          55.95632056025753,
          65.49747483648908,
          82.9631716548606,
          38.96628665469736,
          49.0938043249399,
          82.89390876147928,
          39.71743298841234,
          60.57676413307341,
          48.00666989525021,
          53.20500638654771,
          75.36586535823334,
          52.31410365320658,
          74.4920486507501,
          45.7060246639476,
          41.96500641241642,
          56.03210656426355,
          49.431719239815045,
          104.2867399955987,
          60.55063766105855,
          33.519837576555894,
          39.15026031941805,
          92.89589760746081,
          39.542400147897105,
          60.570626627934885,
          37.458173245498166,
          40.39340006433412,
          82.96542345527237,
          92.87153207737491,
          82.96880957421247,
          37.13393996837237,
          41.95254478097658,
          82.96523275693531,
          37.427106001920606,
          49.072291868858194,
          43.08574010800103,
          39.693801205747164,
          60.05825008304868,
          61.55237098480666,
          37.26855123704975,
          92.85197683277883,
          55.08127161571097,
          40.08843645697804,
          37.83836640863991,
          44.47224709901674,
          39.02485683006728,
          45.69260196500814,
          60.581817167960935,
          88.26490342741877,
          39.166494496372735,
          33.515924093494235,
          40.935120232363026,
          87.1529866365976,
          38.19778258455089,
          37.72078255082451,
          87.12628676219579,
          39.02285046529459,
          37.285995504532615,
          61.53446403699715,
          34.06687170478909,
          82.89947626428372,
          39.84633334936545,
          37.52421634607329,
          56.193463478449424,
          48.421129688221626,
          39.84662986485589,
          61.355118137093235,
          56.2482110890318,
          60.54686116642284,
          37.97953970800605,
          39.14922254275536,
          33.442338621352846,
          73.36109821069437,
          49.127340981905114,
          39.562882519949795,
          36.95233972193417,
          60.58667750140035,
          38.20748985864218,
          55.95144314871425,
          44.64098942620263,
          37.980256936632586,
          36.29002338144776,
          83.75140220513953,
          73.37160956359017,
          53.21094314668486,
          82.91206719239302,
          127.5602842389441,
          87.09135347699332,
          33.4834721838825,
          39.154259799602904,
          37.50879201451779,
          36.56231072054783,
          36.28910256512328,
          36.59377117706916,
          36.64397201069244,
          30.184199839265546,
          34.20963041888555,
          47.20699585656495,
          47.45079785203312,
          55.14126717359428,
          56.027485603509334,
          65.56505355153693,
          56.02231964735893,
          37.950841549130395,
          37.140682909996265,
          49.95298537790622,
          37.29512258360059,
          50.17466926222602,
          107.62368582679336,
          49.14169667336716,
          60.57310949155552,
          39.694743780426215,
          48.08194262547173,
          36.25776146566766,
          42.90705911606726,
          135.07233033970903,
          65.52743015654386,
          49.0738663698503,
          65.32372289901498,
          46.13698691216655,
          37.7468585948283,
          38.229280877551886,
          129.7072217101476,
          37.900241013716254,
          104.26725747412152,
          47.338299016695856,
          135.11360035445648,
          38.215560534728965,
          20.554018733344176,
          53.18294279024712,
          49.37192414675028,
          56.1917551580669,
          45.69741721701778,
          33.51061978942025,
          39.16709187677065,
          43.064481677072806,
          65.55261682300072,
          39.75991326011459,
          39.75216822315526,
          91.41687426050981,
          39.90477151923968,
          60.57530003678684,
          56.01751793559627,
          33.49678463185157,
          39.18043594089943,
          131.89456171933952,
          20.473740254481076,
          60.579349107989316,
          55.97335942311546,
          37.39609235541987,
          73.35398266501277,
          35.88463912618978,
          83.80462966104545,
          40.979469487896445,
          59.124716751154715,
          56.02936076834846,
          48.313213543568395,
          68.20635986387553,
          92.92994657843562,
          38.953418253899954,
          50.14869988951373,
          52.383017419842574,
          49.12950029620186,
          60.569523909754295,
          55.97138660948149,
          30.100821247727165,
          39.561831072002164,
          45.69431929597254,
          45.16298254335852,
          61.391776446550104,
          82.89434975980052,
          39.76014655322997,
          60.562209803982896,
          45.14817414195034,
          36.834050999402386,
          49.089990570729555,
          135.08167783602516,
          83.27977878993431,
          49.15061538073226,
          65.49464769192417,
          41.45094130608871,
          53.245225273927005,
          41.955965763487214,
          37.301255865748075,
          44.4807717185881,
          39.57719992913953,
          59.93189925622928,
          39.68355777587896,
          37.63240280131329,
          73.35089707453113,
          49.13114545624754,
          34.13525571935351,
          72.5827830311901,
          45.03282843705217,
          49.05954580833827,
          65.55830451439215,
          56.01035998865306,
          104.33329662967303,
          39.009535022014,
          39.854918048189184,
          50.14902786288689,
          94.37438903493864,
          55.962832999364544,
          55.991982
         ],
         "marker": {
          "color": "fuchsia"
         },
         "mode": "markers",
         "name": "",
         "showlegend": false,
         "subplot": "mapbox",
         "type": "scattermapbox"
        }
       ],
       "layout": {
        "height": 500,
        "legend": {
         "tracegroupgap": 0
        },
        "mapbox": {
         "center": {
          "lat": 53.476112608274164,
          "lon": 55.97973171805521
         },
         "domain": {
          "x": [
           0,
           1
          ],
          "y": [
           0,
           1
          ]
         },
         "style": "open-street-map",
         "zoom": 3
        },
        "margin": {
         "b": 0,
         "l": 0,
         "r": 0,
         "t": 0
        },
        "template": {
         "data": {
          "bar": [
           {
            "error_x": {
             "color": "#2a3f5f"
            },
            "error_y": {
             "color": "#2a3f5f"
            },
            "marker": {
             "line": {
              "color": "#E5ECF6",
              "width": 0.5
             },
             "pattern": {
              "fillmode": "overlay",
              "size": 10,
              "solidity": 0.2
             }
            },
            "type": "bar"
           }
          ],
          "barpolar": [
           {
            "marker": {
             "line": {
              "color": "#E5ECF6",
              "width": 0.5
             },
             "pattern": {
              "fillmode": "overlay",
              "size": 10,
              "solidity": 0.2
             }
            },
            "type": "barpolar"
           }
          ],
          "carpet": [
           {
            "aaxis": {
             "endlinecolor": "#2a3f5f",
             "gridcolor": "white",
             "linecolor": "white",
             "minorgridcolor": "white",
             "startlinecolor": "#2a3f5f"
            },
            "baxis": {
             "endlinecolor": "#2a3f5f",
             "gridcolor": "white",
             "linecolor": "white",
             "minorgridcolor": "white",
             "startlinecolor": "#2a3f5f"
            },
            "type": "carpet"
           }
          ],
          "choropleth": [
           {
            "colorbar": {
             "outlinewidth": 0,
             "ticks": ""
            },
            "type": "choropleth"
           }
          ],
          "contour": [
           {
            "colorbar": {
             "outlinewidth": 0,
             "ticks": ""
            },
            "colorscale": [
             [
              0,
              "#0d0887"
             ],
             [
              0.1111111111111111,
              "#46039f"
             ],
             [
              0.2222222222222222,
              "#7201a8"
             ],
             [
              0.3333333333333333,
              "#9c179e"
             ],
             [
              0.4444444444444444,
              "#bd3786"
             ],
             [
              0.5555555555555556,
              "#d8576b"
             ],
             [
              0.6666666666666666,
              "#ed7953"
             ],
             [
              0.7777777777777778,
              "#fb9f3a"
             ],
             [
              0.8888888888888888,
              "#fdca26"
             ],
             [
              1,
              "#f0f921"
             ]
            ],
            "type": "contour"
           }
          ],
          "contourcarpet": [
           {
            "colorbar": {
             "outlinewidth": 0,
             "ticks": ""
            },
            "type": "contourcarpet"
           }
          ],
          "heatmap": [
           {
            "colorbar": {
             "outlinewidth": 0,
             "ticks": ""
            },
            "colorscale": [
             [
              0,
              "#0d0887"
             ],
             [
              0.1111111111111111,
              "#46039f"
             ],
             [
              0.2222222222222222,
              "#7201a8"
             ],
             [
              0.3333333333333333,
              "#9c179e"
             ],
             [
              0.4444444444444444,
              "#bd3786"
             ],
             [
              0.5555555555555556,
              "#d8576b"
             ],
             [
              0.6666666666666666,
              "#ed7953"
             ],
             [
              0.7777777777777778,
              "#fb9f3a"
             ],
             [
              0.8888888888888888,
              "#fdca26"
             ],
             [
              1,
              "#f0f921"
             ]
            ],
            "type": "heatmap"
           }
          ],
          "heatmapgl": [
           {
            "colorbar": {
             "outlinewidth": 0,
             "ticks": ""
            },
            "colorscale": [
             [
              0,
              "#0d0887"
             ],
             [
              0.1111111111111111,
              "#46039f"
             ],
             [
              0.2222222222222222,
              "#7201a8"
             ],
             [
              0.3333333333333333,
              "#9c179e"
             ],
             [
              0.4444444444444444,
              "#bd3786"
             ],
             [
              0.5555555555555556,
              "#d8576b"
             ],
             [
              0.6666666666666666,
              "#ed7953"
             ],
             [
              0.7777777777777778,
              "#fb9f3a"
             ],
             [
              0.8888888888888888,
              "#fdca26"
             ],
             [
              1,
              "#f0f921"
             ]
            ],
            "type": "heatmapgl"
           }
          ],
          "histogram": [
           {
            "marker": {
             "pattern": {
              "fillmode": "overlay",
              "size": 10,
              "solidity": 0.2
             }
            },
            "type": "histogram"
           }
          ],
          "histogram2d": [
           {
            "colorbar": {
             "outlinewidth": 0,
             "ticks": ""
            },
            "colorscale": [
             [
              0,
              "#0d0887"
             ],
             [
              0.1111111111111111,
              "#46039f"
             ],
             [
              0.2222222222222222,
              "#7201a8"
             ],
             [
              0.3333333333333333,
              "#9c179e"
             ],
             [
              0.4444444444444444,
              "#bd3786"
             ],
             [
              0.5555555555555556,
              "#d8576b"
             ],
             [
              0.6666666666666666,
              "#ed7953"
             ],
             [
              0.7777777777777778,
              "#fb9f3a"
             ],
             [
              0.8888888888888888,
              "#fdca26"
             ],
             [
              1,
              "#f0f921"
             ]
            ],
            "type": "histogram2d"
           }
          ],
          "histogram2dcontour": [
           {
            "colorbar": {
             "outlinewidth": 0,
             "ticks": ""
            },
            "colorscale": [
             [
              0,
              "#0d0887"
             ],
             [
              0.1111111111111111,
              "#46039f"
             ],
             [
              0.2222222222222222,
              "#7201a8"
             ],
             [
              0.3333333333333333,
              "#9c179e"
             ],
             [
              0.4444444444444444,
              "#bd3786"
             ],
             [
              0.5555555555555556,
              "#d8576b"
             ],
             [
              0.6666666666666666,
              "#ed7953"
             ],
             [
              0.7777777777777778,
              "#fb9f3a"
             ],
             [
              0.8888888888888888,
              "#fdca26"
             ],
             [
              1,
              "#f0f921"
             ]
            ],
            "type": "histogram2dcontour"
           }
          ],
          "mesh3d": [
           {
            "colorbar": {
             "outlinewidth": 0,
             "ticks": ""
            },
            "type": "mesh3d"
           }
          ],
          "parcoords": [
           {
            "line": {
             "colorbar": {
              "outlinewidth": 0,
              "ticks": ""
             }
            },
            "type": "parcoords"
           }
          ],
          "pie": [
           {
            "automargin": true,
            "type": "pie"
           }
          ],
          "scatter": [
           {
            "fillpattern": {
             "fillmode": "overlay",
             "size": 10,
             "solidity": 0.2
            },
            "type": "scatter"
           }
          ],
          "scatter3d": [
           {
            "line": {
             "colorbar": {
              "outlinewidth": 0,
              "ticks": ""
             }
            },
            "marker": {
             "colorbar": {
              "outlinewidth": 0,
              "ticks": ""
             }
            },
            "type": "scatter3d"
           }
          ],
          "scattercarpet": [
           {
            "marker": {
             "colorbar": {
              "outlinewidth": 0,
              "ticks": ""
             }
            },
            "type": "scattercarpet"
           }
          ],
          "scattergeo": [
           {
            "marker": {
             "colorbar": {
              "outlinewidth": 0,
              "ticks": ""
             }
            },
            "type": "scattergeo"
           }
          ],
          "scattergl": [
           {
            "marker": {
             "colorbar": {
              "outlinewidth": 0,
              "ticks": ""
             }
            },
            "type": "scattergl"
           }
          ],
          "scattermapbox": [
           {
            "marker": {
             "colorbar": {
              "outlinewidth": 0,
              "ticks": ""
             }
            },
            "type": "scattermapbox"
           }
          ],
          "scatterpolar": [
           {
            "marker": {
             "colorbar": {
              "outlinewidth": 0,
              "ticks": ""
             }
            },
            "type": "scatterpolar"
           }
          ],
          "scatterpolargl": [
           {
            "marker": {
             "colorbar": {
              "outlinewidth": 0,
              "ticks": ""
             }
            },
            "type": "scatterpolargl"
           }
          ],
          "scatterternary": [
           {
            "marker": {
             "colorbar": {
              "outlinewidth": 0,
              "ticks": ""
             }
            },
            "type": "scatterternary"
           }
          ],
          "surface": [
           {
            "colorbar": {
             "outlinewidth": 0,
             "ticks": ""
            },
            "colorscale": [
             [
              0,
              "#0d0887"
             ],
             [
              0.1111111111111111,
              "#46039f"
             ],
             [
              0.2222222222222222,
              "#7201a8"
             ],
             [
              0.3333333333333333,
              "#9c179e"
             ],
             [
              0.4444444444444444,
              "#bd3786"
             ],
             [
              0.5555555555555556,
              "#d8576b"
             ],
             [
              0.6666666666666666,
              "#ed7953"
             ],
             [
              0.7777777777777778,
              "#fb9f3a"
             ],
             [
              0.8888888888888888,
              "#fdca26"
             ],
             [
              1,
              "#f0f921"
             ]
            ],
            "type": "surface"
           }
          ],
          "table": [
           {
            "cells": {
             "fill": {
              "color": "#EBF0F8"
             },
             "line": {
              "color": "white"
             }
            },
            "header": {
             "fill": {
              "color": "#C8D4E3"
             },
             "line": {
              "color": "white"
             }
            },
            "type": "table"
           }
          ]
         },
         "layout": {
          "annotationdefaults": {
           "arrowcolor": "#2a3f5f",
           "arrowhead": 0,
           "arrowwidth": 1
          },
          "autotypenumbers": "strict",
          "coloraxis": {
           "colorbar": {
            "outlinewidth": 0,
            "ticks": ""
           }
          },
          "colorscale": {
           "diverging": [
            [
             0,
             "#8e0152"
            ],
            [
             0.1,
             "#c51b7d"
            ],
            [
             0.2,
             "#de77ae"
            ],
            [
             0.3,
             "#f1b6da"
            ],
            [
             0.4,
             "#fde0ef"
            ],
            [
             0.5,
             "#f7f7f7"
            ],
            [
             0.6,
             "#e6f5d0"
            ],
            [
             0.7,
             "#b8e186"
            ],
            [
             0.8,
             "#7fbc41"
            ],
            [
             0.9,
             "#4d9221"
            ],
            [
             1,
             "#276419"
            ]
           ],
           "sequential": [
            [
             0,
             "#0d0887"
            ],
            [
             0.1111111111111111,
             "#46039f"
            ],
            [
             0.2222222222222222,
             "#7201a8"
            ],
            [
             0.3333333333333333,
             "#9c179e"
            ],
            [
             0.4444444444444444,
             "#bd3786"
            ],
            [
             0.5555555555555556,
             "#d8576b"
            ],
            [
             0.6666666666666666,
             "#ed7953"
            ],
            [
             0.7777777777777778,
             "#fb9f3a"
            ],
            [
             0.8888888888888888,
             "#fdca26"
            ],
            [
             1,
             "#f0f921"
            ]
           ],
           "sequentialminus": [
            [
             0,
             "#0d0887"
            ],
            [
             0.1111111111111111,
             "#46039f"
            ],
            [
             0.2222222222222222,
             "#7201a8"
            ],
            [
             0.3333333333333333,
             "#9c179e"
            ],
            [
             0.4444444444444444,
             "#bd3786"
            ],
            [
             0.5555555555555556,
             "#d8576b"
            ],
            [
             0.6666666666666666,
             "#ed7953"
            ],
            [
             0.7777777777777778,
             "#fb9f3a"
            ],
            [
             0.8888888888888888,
             "#fdca26"
            ],
            [
             1,
             "#f0f921"
            ]
           ]
          },
          "colorway": [
           "#636efa",
           "#EF553B",
           "#00cc96",
           "#ab63fa",
           "#FFA15A",
           "#19d3f3",
           "#FF6692",
           "#B6E880",
           "#FF97FF",
           "#FECB52"
          ],
          "font": {
           "color": "#2a3f5f"
          },
          "geo": {
           "bgcolor": "white",
           "lakecolor": "white",
           "landcolor": "#E5ECF6",
           "showlakes": true,
           "showland": true,
           "subunitcolor": "white"
          },
          "hoverlabel": {
           "align": "left"
          },
          "hovermode": "closest",
          "mapbox": {
           "style": "light"
          },
          "paper_bgcolor": "white",
          "plot_bgcolor": "#E5ECF6",
          "polar": {
           "angularaxis": {
            "gridcolor": "white",
            "linecolor": "white",
            "ticks": ""
           },
           "bgcolor": "#E5ECF6",
           "radialaxis": {
            "gridcolor": "white",
            "linecolor": "white",
            "ticks": ""
           }
          },
          "scene": {
           "xaxis": {
            "backgroundcolor": "#E5ECF6",
            "gridcolor": "white",
            "gridwidth": 2,
            "linecolor": "white",
            "showbackground": true,
            "ticks": "",
            "zerolinecolor": "white"
           },
           "yaxis": {
            "backgroundcolor": "#E5ECF6",
            "gridcolor": "white",
            "gridwidth": 2,
            "linecolor": "white",
            "showbackground": true,
            "ticks": "",
            "zerolinecolor": "white"
           },
           "zaxis": {
            "backgroundcolor": "#E5ECF6",
            "gridcolor": "white",
            "gridwidth": 2,
            "linecolor": "white",
            "showbackground": true,
            "ticks": "",
            "zerolinecolor": "white"
           }
          },
          "shapedefaults": {
           "line": {
            "color": "#2a3f5f"
           }
          },
          "ternary": {
           "aaxis": {
            "gridcolor": "white",
            "linecolor": "white",
            "ticks": ""
           },
           "baxis": {
            "gridcolor": "white",
            "linecolor": "white",
            "ticks": ""
           },
           "bgcolor": "#E5ECF6",
           "caxis": {
            "gridcolor": "white",
            "linecolor": "white",
            "ticks": ""
           }
          },
          "title": {
           "x": 0.05
          },
          "xaxis": {
           "automargin": true,
           "gridcolor": "white",
           "linecolor": "white",
           "ticks": "",
           "title": {
            "standoff": 15
           },
           "zerolinecolor": "white",
           "zerolinewidth": 2
          },
          "yaxis": {
           "automargin": true,
           "gridcolor": "white",
           "linecolor": "white",
           "ticks": "",
           "title": {
            "standoff": 15
           },
           "zerolinecolor": "white",
           "zerolinewidth": 2
          }
         }
        }
       }
      }
     },
     "metadata": {},
     "output_type": "display_data"
    }
   ],
   "source": [
    "\n",
    "fig = px.scatter_mapbox(dataframe, lat=\"Широта\", lon=\"Долгота\", hover_name=\"Наименование / ФИО\", hover_data=[\"Город\",'ИНН','index','revenue for 2023'],\n",
    "                        color_discrete_sequence=[\"fuchsia\"], zoom=3, height=500)\n",
    "fig.update_layout(mapbox_style=\"open-street-map\")\n",
    "fig.update_layout(margin={\"r\":0,\"t\":0,\"l\":0,\"b\":0})\n",
    "fig.show()"
   ]
  },
  {
   "cell_type": "markdown",
   "id": "6875196b",
   "metadata": {},
   "source": [
    "Получили довольно очевидную зависимость: большинство компаний страны, входящих в топ 500 по выручке, находятся в западной части РФ"
   ]
  }
 ],
 "metadata": {
  "kernelspec": {
   "display_name": "Python 3",
   "language": "python",
   "name": "python3"
  },
  "language_info": {
   "codemirror_mode": {
    "name": "ipython",
    "version": 3
   },
   "file_extension": ".py",
   "mimetype": "text/x-python",
   "name": "python",
   "nbconvert_exporter": "python",
   "pygments_lexer": "ipython3",
   "version": "3.11.4"
  }
 },
 "nbformat": 4,
 "nbformat_minor": 5
}
